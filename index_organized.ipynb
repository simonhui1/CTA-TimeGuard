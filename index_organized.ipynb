{
 "cells": [
  {
   "cell_type": "markdown",
   "metadata": {},
   "source": [
    "<div style = \"text-align:center; font-size: 28px; font-weight: bold;\"> Predictive Service Delay Management for CTA Trains</div>\n",
    "<br>\n"
   ]
  },
  {
   "cell_type": "markdown",
   "metadata": {},
   "source": [
    "This notebook reflects the necessary steps taken to arrive at a functioning predictive model to predict delays for commuting trains in Chicago.\n",
    "\n",
    "Business Problem: Chicago has the second-largest transit system in the United States, and yet, it is still plagued with constant delays. \n",
    "\n",
    "Understanding the Data Source: The dataset was fetched via script from two APIs, the CTA Train Tracker API, and TomTom's Traffic Flow RESTful API.\n",
    "\n",
    "Data Limitations: There was no access to historical data for this project, and also no access to a cloud server where it was possible to run the script 24/7 to collect data for every hour.\n"
   ]
  },
  {
   "cell_type": "markdown",
   "metadata": {},
   "source": [
    "### Installing and Import Necessary Libraries"
   ]
  },
  {
   "cell_type": "code",
   "execution_count": 1,
   "metadata": {
    "collapsed": true
   },
   "outputs": [
    {
     "name": "stdout",
     "output_type": "stream",
     "text": [
      "Requirement already up-to-date: scikit-learn in c:\\users\\simon\\anaconda3\\envs\\learn-env\\lib\\site-packages (1.3.0)\n",
      "Requirement already satisfied, skipping upgrade: scipy>=1.5.0 in c:\\users\\simon\\anaconda3\\envs\\learn-env\\lib\\site-packages (from scikit-learn) (1.5.0)\n",
      "Requirement already satisfied, skipping upgrade: threadpoolctl>=2.0.0 in c:\\users\\simon\\anaconda3\\envs\\learn-env\\lib\\site-packages (from scikit-learn) (2.1.0)\n",
      "Requirement already satisfied, skipping upgrade: numpy>=1.17.3 in c:\\users\\simon\\anaconda3\\envs\\learn-env\\lib\\site-packages (from scikit-learn) (1.18.5)\n",
      "Requirement already satisfied, skipping upgrade: joblib>=1.1.1 in c:\\users\\simon\\anaconda3\\envs\\learn-env\\lib\\site-packages (from scikit-learn) (1.3.2)\n",
      "Note: you may need to restart the kernel to use updated packages.\n"
     ]
    }
   ],
   "source": [
    "pip install -U scikit-learn"
   ]
  },
  {
   "cell_type": "code",
   "execution_count": 2,
   "metadata": {
    "collapsed": true
   },
   "outputs": [
    {
     "name": "stdout",
     "output_type": "stream",
     "text": [
      "Requirement already up-to-date: imbalanced-learn in c:\\users\\simon\\anaconda3\\envs\\learn-env\\lib\\site-packages (0.11.0)\n",
      "Requirement already satisfied, skipping upgrade: numpy>=1.17.3 in c:\\users\\simon\\anaconda3\\envs\\learn-env\\lib\\site-packages (from imbalanced-learn) (1.18.5)\n",
      "Requirement already satisfied, skipping upgrade: joblib>=1.1.1 in c:\\users\\simon\\anaconda3\\envs\\learn-env\\lib\\site-packages (from imbalanced-learn) (1.3.2)\n",
      "Requirement already satisfied, skipping upgrade: scikit-learn>=1.0.2 in c:\\users\\simon\\anaconda3\\envs\\learn-env\\lib\\site-packages (from imbalanced-learn) (1.3.0)\n",
      "Requirement already satisfied, skipping upgrade: scipy>=1.5.0 in c:\\users\\simon\\anaconda3\\envs\\learn-env\\lib\\site-packages (from imbalanced-learn) (1.5.0)\n",
      "Requirement already satisfied, skipping upgrade: threadpoolctl>=2.0.0 in c:\\users\\simon\\anaconda3\\envs\\learn-env\\lib\\site-packages (from imbalanced-learn) (2.1.0)\n",
      "Note: you may need to restart the kernel to use updated packages.\n"
     ]
    }
   ],
   "source": [
    "pip install -U imbalanced-learn"
   ]
  },
  {
   "cell_type": "code",
   "execution_count": 53,
   "metadata": {
    "collapsed": true
   },
   "outputs": [
    {
     "name": "stdout",
     "output_type": "stream",
     "text": [
      "Collecting torchNote: you may need to restart the kernel to use updated packages.\n",
      "\n",
      "  Downloading torch-2.0.1-cp38-cp38-win_amd64.whl (172.4 MB)\n",
      "Requirement already satisfied: jinja2 in c:\\users\\simon\\anaconda3\\envs\\learn-env\\lib\\site-packages (from torch) (2.11.2)\n",
      "Collecting typing-extensions\n",
      "  Downloading typing_extensions-4.7.1-py3-none-any.whl (33 kB)\n",
      "Collecting filelock\n",
      "  Downloading filelock-3.12.3-py3-none-any.whl (11 kB)\n",
      "Collecting sympy\n",
      "  Downloading sympy-1.12-py3-none-any.whl (5.7 MB)\n",
      "Requirement already satisfied: networkx in c:\\users\\simon\\anaconda3\\envs\\learn-env\\lib\\site-packages (from torch) (2.5.1)\n",
      "Requirement already satisfied: MarkupSafe>=0.23 in c:\\users\\simon\\anaconda3\\envs\\learn-env\\lib\\site-packages (from jinja2->torch) (1.1.1)\n",
      "Collecting mpmath>=0.19\n",
      "  Downloading mpmath-1.3.0-py3-none-any.whl (536 kB)\n",
      "Requirement already satisfied: decorator<5,>=4.3 in c:\\users\\simon\\anaconda3\\envs\\learn-env\\lib\\site-packages (from networkx->torch) (4.4.2)\n",
      "Installing collected packages: typing-extensions, filelock, mpmath, sympy, torch\n",
      "Successfully installed filelock-3.12.3 mpmath-1.3.0 sympy-1.12 torch-2.0.1 typing-extensions-4.7.1\n"
     ]
    }
   ],
   "source": [
    "pip install torch"
   ]
  },
  {
   "cell_type": "code",
   "execution_count": 3,
   "metadata": {},
   "outputs": [],
   "source": [
    "import numpy as np\n",
    "import pandas as pd\n",
    "import matplotlib.pyplot as plt\n",
    "import seaborn as sns\n",
    "from scipy.stats import ttest_ind\n",
    "from sklearn.model_selection import train_test_split\n",
    "from sklearn.preprocessing import OneHotEncoder\n",
    "from imblearn.over_sampling import SMOTE\n"
   ]
  },
  {
   "cell_type": "markdown",
   "metadata": {},
   "source": [
    "### Import the Dataset"
   ]
  },
  {
   "cell_type": "markdown",
   "metadata": {},
   "source": [
    "The dataset is based on real-time data, and is sourced from two separate APIs, the CTA Train Tracker API, and TomTom's Traffic Flow RESTful API."
   ]
  },
  {
   "cell_type": "code",
   "execution_count": 4,
   "metadata": {},
   "outputs": [],
   "source": [
    "# The dataset has no column headers, so we are applying column labels based on the API script used to scrape the data\n",
    "column_labels = [\n",
    "    \"station_id\", \"line\", \"predicted_time\", \"arrival_time\", \n",
    "    \"isSch\", \"isFlt\", \"isDly\", \n",
    "    \"station_name\", \"destination_name\", \"lat\", \"long\", \n",
    "    \"free_flow_speed\", \"current_speed\"\n",
    "]\n",
    "\n",
    "df = pd.read_csv(\"combined_data.csv\", header = None, names = column_labels)"
   ]
  },
  {
   "cell_type": "code",
   "execution_count": 5,
   "metadata": {},
   "outputs": [
    {
     "data": {
      "text/html": [
       "<div>\n",
       "<style scoped>\n",
       "    .dataframe tbody tr th:only-of-type {\n",
       "        vertical-align: middle;\n",
       "    }\n",
       "\n",
       "    .dataframe tbody tr th {\n",
       "        vertical-align: top;\n",
       "    }\n",
       "\n",
       "    .dataframe thead th {\n",
       "        text-align: right;\n",
       "    }\n",
       "</style>\n",
       "<table border=\"1\" class=\"dataframe\">\n",
       "  <thead>\n",
       "    <tr style=\"text-align: right;\">\n",
       "      <th></th>\n",
       "      <th>station_id</th>\n",
       "      <th>line</th>\n",
       "      <th>predicted_time</th>\n",
       "      <th>arrival_time</th>\n",
       "      <th>isSch</th>\n",
       "      <th>isFlt</th>\n",
       "      <th>isDly</th>\n",
       "      <th>station_name</th>\n",
       "      <th>destination_name</th>\n",
       "      <th>lat</th>\n",
       "      <th>long</th>\n",
       "      <th>free_flow_speed</th>\n",
       "      <th>current_speed</th>\n",
       "    </tr>\n",
       "  </thead>\n",
       "  <tbody>\n",
       "    <tr>\n",
       "      <th>40191</th>\n",
       "      <td>40440</td>\n",
       "      <td>Pink</td>\n",
       "      <td>20230811 01:57:21</td>\n",
       "      <td>20230811 01:58:21</td>\n",
       "      <td>0</td>\n",
       "      <td>0</td>\n",
       "      <td>0</td>\n",
       "      <td>California</td>\n",
       "      <td>54th/Cermak</td>\n",
       "      <td>41.85439</td>\n",
       "      <td>-87.68775</td>\n",
       "      <td>25</td>\n",
       "      <td>25</td>\n",
       "    </tr>\n",
       "    <tr>\n",
       "      <th>100274</th>\n",
       "      <td>41120</td>\n",
       "      <td>G</td>\n",
       "      <td>20230819 18:12:57</td>\n",
       "      <td>20230819 18:29:57</td>\n",
       "      <td>0</td>\n",
       "      <td>0</td>\n",
       "      <td>0</td>\n",
       "      <td>35th-Bronzeville-IIT</td>\n",
       "      <td>Harlem/Lake</td>\n",
       "      <td>41.77895</td>\n",
       "      <td>-87.66377</td>\n",
       "      <td>26</td>\n",
       "      <td>21</td>\n",
       "    </tr>\n",
       "    <tr>\n",
       "      <th>83367</th>\n",
       "      <td>40670</td>\n",
       "      <td>Blue</td>\n",
       "      <td>20230815 19:21:33</td>\n",
       "      <td>20230815 19:29:33</td>\n",
       "      <td>0</td>\n",
       "      <td>0</td>\n",
       "      <td>0</td>\n",
       "      <td>Western (O'Hare Branch)</td>\n",
       "      <td>O'Hare</td>\n",
       "      <td>41.88571</td>\n",
       "      <td>-87.63703</td>\n",
       "      <td>8</td>\n",
       "      <td>6</td>\n",
       "    </tr>\n",
       "    <tr>\n",
       "      <th>35917</th>\n",
       "      <td>40370</td>\n",
       "      <td>Blue</td>\n",
       "      <td>20230810 20:51:29</td>\n",
       "      <td>20230810 21:19:29</td>\n",
       "      <td>0</td>\n",
       "      <td>0</td>\n",
       "      <td>0</td>\n",
       "      <td>Washington</td>\n",
       "      <td>Forest Park</td>\n",
       "      <td>41.88316</td>\n",
       "      <td>-87.62944</td>\n",
       "      <td>13</td>\n",
       "      <td>13</td>\n",
       "    </tr>\n",
       "    <tr>\n",
       "      <th>4741</th>\n",
       "      <td>40210</td>\n",
       "      <td>Pink</td>\n",
       "      <td>20230810 13:41:07</td>\n",
       "      <td>20230810 13:56:07</td>\n",
       "      <td>0</td>\n",
       "      <td>0</td>\n",
       "      <td>0</td>\n",
       "      <td>Damen</td>\n",
       "      <td>54th/Cermak</td>\n",
       "      <td>41.87872</td>\n",
       "      <td>-87.63374</td>\n",
       "      <td>14</td>\n",
       "      <td>14</td>\n",
       "    </tr>\n",
       "  </tbody>\n",
       "</table>\n",
       "</div>"
      ],
      "text/plain": [
       "        station_id  line     predicted_time       arrival_time  isSch  isFlt  \\\n",
       "40191        40440  Pink  20230811 01:57:21  20230811 01:58:21      0      0   \n",
       "100274       41120     G  20230819 18:12:57  20230819 18:29:57      0      0   \n",
       "83367        40670  Blue  20230815 19:21:33  20230815 19:29:33      0      0   \n",
       "35917        40370  Blue  20230810 20:51:29  20230810 21:19:29      0      0   \n",
       "4741         40210  Pink  20230810 13:41:07  20230810 13:56:07      0      0   \n",
       "\n",
       "        isDly             station_name destination_name       lat      long  \\\n",
       "40191       0               California      54th/Cermak  41.85439 -87.68775   \n",
       "100274      0     35th-Bronzeville-IIT      Harlem/Lake  41.77895 -87.66377   \n",
       "83367       0  Western (O'Hare Branch)           O'Hare  41.88571 -87.63703   \n",
       "35917       0               Washington      Forest Park  41.88316 -87.62944   \n",
       "4741        0                    Damen      54th/Cermak  41.87872 -87.63374   \n",
       "\n",
       "        free_flow_speed  current_speed  \n",
       "40191                25             25  \n",
       "100274               26             21  \n",
       "83367                 8              6  \n",
       "35917                13             13  \n",
       "4741                 14             14  "
      ]
     },
     "execution_count": 5,
     "metadata": {},
     "output_type": "execute_result"
    }
   ],
   "source": [
    "df.sample(n = 5)"
   ]
  },
  {
   "cell_type": "markdown",
   "metadata": {},
   "source": [
    "Some of these column headers may be hard to decipher. Let's clarify what they mean.\n",
    "\n",
    "Per the CTA Train Tracker API:\n",
    "\n",
    "**predicted_time** = \"Date-time format stamp for when the prediction was generated:\n",
    "yyyyMMdd HH:mm:ss (24-hour format, time local to Chicago)\"\n",
    "\n",
    "**arrival_time** = \"Date-time format stamp for when a train is expected to arrive/depart:\n",
    "yyyyMMdd HH:mm:ss (24-hour format, time local to Chicago)\"\n",
    "\n",
    "**isSch** = \"Boolean flag to indicate whether this is a live prediction or based on\n",
    "schedule in lieu of live data\"\n",
    "\n",
    "**isFlt** = \"Boolean flag to indicate whether a potential fault has been detected\"\n",
    "\n",
    ">\"The **isFlt** element in the results indicates what we call a “schedule fault” in the context of Train Tracker.\n",
    "A fault on an ETA that is schedule-based (isSch=1) indicates that the scheduled arrival time given\n",
    "might not be feasible to serve due to the lack of a scheduled departure having occurred.\"\n",
    "\n",
    "**isDly** = \"Boolean flag to indicate whether a train is considered “delayed” in Train\n",
    "Tracker\"\n",
    "\n",
    "**lat** = \"Latitude position of the train in decimal degrees\"\n",
    "\n",
    "**long** = \"Longitude position of the train in decimal degrees\"\n",
    "\n",
    "Per TomTom's Traffic Flow RESTful API:\n",
    "\n",
    "**free_flow_speed** = \"The free flow speed expected under ideal conditions, expressed in [MPH]\n",
    "\n",
    "**current_speed** = \"The current average speed at the selected [latitude and longitude], in [MPH].\"\n",
    "\n",
    ">Note that these speeds fetched from the TomTom API *do not* directly refer to the train itself; they are not train speeds. Rather, they are referring to the *traffic speeds* of the roads closest to the geographical coordinates of the specifc train."
   ]
  },
  {
   "cell_type": "markdown",
   "metadata": {},
   "source": [
    "<div style = \"text-align:center; font-size: 24px; font-weight: bold;\"> Exploratory Data Analysis (EDA)</div>\n"
   ]
  },
  {
   "cell_type": "markdown",
   "metadata": {},
   "source": [
    "### The Basics"
   ]
  },
  {
   "cell_type": "code",
   "execution_count": 6,
   "metadata": {},
   "outputs": [
    {
     "name": "stdout",
     "output_type": "stream",
     "text": [
      "<class 'pandas.core.frame.DataFrame'>\n",
      "RangeIndex: 114230 entries, 0 to 114229\n",
      "Data columns (total 13 columns):\n",
      " #   Column            Non-Null Count   Dtype  \n",
      "---  ------            --------------   -----  \n",
      " 0   station_id        114230 non-null  int64  \n",
      " 1   line              114230 non-null  object \n",
      " 2   predicted_time    114230 non-null  object \n",
      " 3   arrival_time      114230 non-null  object \n",
      " 4   isSch             114230 non-null  int64  \n",
      " 5   isFlt             114230 non-null  int64  \n",
      " 6   isDly             114230 non-null  int64  \n",
      " 7   station_name      114230 non-null  object \n",
      " 8   destination_name  114230 non-null  object \n",
      " 9   lat               114230 non-null  float64\n",
      " 10  long              114230 non-null  float64\n",
      " 11  free_flow_speed   114230 non-null  int64  \n",
      " 12  current_speed     114230 non-null  int64  \n",
      "dtypes: float64(2), int64(6), object(5)\n",
      "memory usage: 11.3+ MB\n"
     ]
    }
   ],
   "source": [
    "df.info()"
   ]
  },
  {
   "cell_type": "code",
   "execution_count": 7,
   "metadata": {
    "scrolled": true
   },
   "outputs": [
    {
     "name": "stdout",
     "output_type": "stream",
     "text": [
      "Most frequent stations in this dataset:\n",
      "\n",
      "40040    1949\n",
      "40260    1870\n",
      "40160    1857\n",
      "40170    1703\n",
      "40380    1602\n",
      "40080    1511\n",
      "40190    1493\n",
      "40330    1462\n",
      "40680    1452\n",
      "40460    1406\n",
      "40730    1378\n",
      "40850    1290\n",
      "40090    1288\n",
      "40240    1278\n",
      "40120    1248\n",
      "40530    1236\n",
      "40100    1236\n",
      "40210    1234\n",
      "40150    1233\n",
      "40030    1196\n",
      "Name: station_id, dtype: int64\n",
      " \n",
      "Least frequent stations in this dataset:\n",
      "\n",
      "40810      1\n",
      "41680     29\n",
      "41380     64\n",
      "40140    127\n",
      "41250    272\n",
      "40920    283\n",
      "41050    287\n",
      "40980    291\n",
      "40970    292\n",
      "41140    300\n",
      "40840    347\n",
      "40690    350\n",
      "40720    367\n",
      "40520    380\n",
      "40940    381\n",
      "40390    410\n",
      "40400    425\n",
      "40900    434\n",
      "40250    447\n",
      "40180    450\n",
      "Name: station_id, dtype: int64\n"
     ]
    }
   ],
   "source": [
    "top_stations = df['station_id'].value_counts().nlargest(20)\n",
    "\n",
    "bottom_stations = df['station_id'].value_counts().nsmallest(20)\n",
    "\n",
    "print(\"Most frequent stations in this dataset:\", top_stations, sep=\"\\n\\n\")\n",
    "\n",
    "print(\" \")\n",
    "\n",
    "print(\"Least frequent stations in this dataset:\", bottom_stations, sep=\"\\n\\n\")"
   ]
  },
  {
   "cell_type": "markdown",
   "metadata": {},
   "source": [
    "### Delays"
   ]
  },
  {
   "cell_type": "markdown",
   "metadata": {},
   "source": [
    "From the points of clarity earlier, we can make several observations.\n",
    "First, let's see how many **already-classified delays** there are in this dataset."
   ]
  },
  {
   "cell_type": "code",
   "execution_count": 8,
   "metadata": {},
   "outputs": [
    {
     "data": {
      "text/plain": [
       "0    113665\n",
       "1       565\n",
       "Name: isDly, dtype: int64"
      ]
     },
     "execution_count": 8,
     "metadata": {},
     "output_type": "execute_result"
    }
   ],
   "source": [
    "df['isDly'].value_counts()"
   ]
  },
  {
   "cell_type": "markdown",
   "metadata": {},
   "source": [
    "Out of **110699** total train-tracking instances in this dataset, only **555** of them are **delay-positive**. \n",
    "\n",
    "Per the CTA Train Tracker API documentation:\n",
    "\n",
    ">\"The CTA Train Tracker service looks at how long it’s been since a train has moved from one track\n",
    "circuit to the next and identifies delays if a train appears to not be moving.\""
   ]
  },
  {
   "cell_type": "markdown",
   "metadata": {},
   "source": [
    "Next, let's see how many instances are based on schedule or have a potential fault. "
   ]
  },
  {
   "cell_type": "code",
   "execution_count": 9,
   "metadata": {},
   "outputs": [
    {
     "data": {
      "text/plain": [
       "0    114230\n",
       "Name: isSch, dtype: int64"
      ]
     },
     "execution_count": 9,
     "metadata": {},
     "output_type": "execute_result"
    }
   ],
   "source": [
    "df['isSch'].value_counts()"
   ]
  },
  {
   "cell_type": "code",
   "execution_count": 10,
   "metadata": {},
   "outputs": [
    {
     "data": {
      "text/plain": [
       "0    114230\n",
       "Name: isFlt, dtype: int64"
      ]
     },
     "execution_count": 10,
     "metadata": {},
     "output_type": "execute_result"
    }
   ],
   "source": [
    "df['isFlt'].value_counts()"
   ]
  },
  {
   "cell_type": "markdown",
   "metadata": {},
   "source": [
    "Out of the entire dataset, every train so far is based on live predictions and has not had a fault. "
   ]
  },
  {
   "cell_type": "markdown",
   "metadata": {},
   "source": [
    "<div style = \"text-align:left; font-size: 18px; font-weight: normal;\"> Now, let's return to delays, and analyze them further. Let's see how many recorded delays there are for every specific line.  </div>\n",
    "\n",
    ">For those who are not native to Chicago, the city's train system consists of multiple colored lines, each of which is associated with a color name. "
   ]
  },
  {
   "cell_type": "code",
   "execution_count": 11,
   "metadata": {
    "scrolled": false
   },
   "outputs": [
    {
     "data": {
      "image/png": "[encoded data removed]",
      "text/plain": [
       "<Figure size 864x432 with 1 Axes>"
      ]
     },
     "metadata": {
      "needs_background": "light"
     },
     "output_type": "display_data"
    }
   ],
   "source": [
    "route_delay_counts = df.groupby('line')['isDly'].sum()\n",
    "sorted_route_delay_counts = route_delay_counts.sort_values(ascending=False)\n",
    "\n",
    "plt.figure(figsize=(12, 6))\n",
    "sorted_route_delay_counts.plot(kind='bar')\n",
    "plt.xlabel('Route', fontsize=14)  # Increase x-label font size\n",
    "plt.ylabel('Number of Delays', fontsize=14)  # Increase y-label font size\n",
    "plt.title('Number of Delays per Line', fontsize=16)  # Increase title font size\n",
    "plt.xticks(rotation=0)\n",
    "plt.grid(False)\n",
    "plt.tight_layout()\n",
    "plt.show()\n",
    "\n"
   ]
  },
  {
   "cell_type": "markdown",
   "metadata": {},
   "source": [
    "It seems the Green Line (G) has the most delays out of all the lines. "
   ]
  },
  {
   "cell_type": "markdown",
   "metadata": {},
   "source": [
    "<div style = \"text-align:left; font-size: 18px; font-weight: normal;\"> Now let's analyze delays per station. </div>"
   ]
  },
  {
   "cell_type": "code",
   "execution_count": 12,
   "metadata": {},
   "outputs": [
    {
     "name": "stdout",
     "output_type": "stream",
     "text": [
      "Station ID with the most delays: 40100\n",
      "Delay count: 13\n"
     ]
    },
    {
     "data": {
      "image/png": "[encoded data removed]",
      "text/plain": [
       "<Figure size 864x432 with 1 Axes>"
      ]
     },
     "metadata": {
      "needs_background": "light"
     },
     "output_type": "display_data"
    }
   ],
   "source": [
    "# Calculate the station with the most delays\n",
    "station_delay_counts = df.groupby('station_id')['isDly'].sum()\n",
    "most_delay_station = station_delay_counts.idxmax()\n",
    "most_delay_count = station_delay_counts.loc[most_delay_station]\n",
    "\n",
    "print(\"Station ID with the most delays:\", most_delay_station)\n",
    "print(\"Delay count:\", most_delay_count)\n",
    "\n",
    "# Define the number of top stations to display\n",
    "top_n = 5\n",
    "top_delay_stations = station_delay_counts.nlargest(top_n).index\n",
    "\n",
    "# Create the bar plot\n",
    "plt.figure(figsize=(12, 6))\n",
    "station_delay_counts.loc[top_delay_stations].plot(kind='bar', stacked=True)\n",
    "plt.xlabel('Station ID', fontsize=14)  # Increase x-label font size\n",
    "plt.ylabel('Number of Delays', fontsize=14)  # Increase y-label font size\n",
    "plt.title(f\"Number of Delays By Station (Top {top_n} Stations)\", fontsize=16)  # Increase title font size\n",
    "plt.xticks(rotation = 0)\n",
    "plt.grid(False)\n",
    "plt.tight_layout()\n",
    "plt.show()\n"
   ]
  },
  {
   "cell_type": "markdown",
   "metadata": {},
   "source": [
    "<div style = \"text-align:left; font-size: 18px; font-weight: normal;\"> Now let's look at delays per hour. </div>"
   ]
  },
  {
   "cell_type": "code",
   "execution_count": 13,
   "metadata": {},
   "outputs": [
    {
     "data": {
      "text/html": [
       "<div>\n",
       "<style scoped>\n",
       "    .dataframe tbody tr th:only-of-type {\n",
       "        vertical-align: middle;\n",
       "    }\n",
       "\n",
       "    .dataframe tbody tr th {\n",
       "        vertical-align: top;\n",
       "    }\n",
       "\n",
       "    .dataframe thead th {\n",
       "        text-align: right;\n",
       "    }\n",
       "</style>\n",
       "<table border=\"1\" class=\"dataframe\">\n",
       "  <thead>\n",
       "    <tr style=\"text-align: right;\">\n",
       "      <th></th>\n",
       "      <th>hour_of_day</th>\n",
       "      <th>number_of_delays</th>\n",
       "    </tr>\n",
       "  </thead>\n",
       "  <tbody>\n",
       "    <tr>\n",
       "      <th>0</th>\n",
       "      <td>0</td>\n",
       "      <td>21</td>\n",
       "    </tr>\n",
       "    <tr>\n",
       "      <th>1</th>\n",
       "      <td>1</td>\n",
       "      <td>27</td>\n",
       "    </tr>\n",
       "    <tr>\n",
       "      <th>2</th>\n",
       "      <td>2</td>\n",
       "      <td>0</td>\n",
       "    </tr>\n",
       "    <tr>\n",
       "      <th>3</th>\n",
       "      <td>3</td>\n",
       "      <td>0</td>\n",
       "    </tr>\n",
       "    <tr>\n",
       "      <th>4</th>\n",
       "      <td>4</td>\n",
       "      <td>0</td>\n",
       "    </tr>\n",
       "    <tr>\n",
       "      <th>5</th>\n",
       "      <td>5</td>\n",
       "      <td>0</td>\n",
       "    </tr>\n",
       "    <tr>\n",
       "      <th>6</th>\n",
       "      <td>6</td>\n",
       "      <td>0</td>\n",
       "    </tr>\n",
       "    <tr>\n",
       "      <th>7</th>\n",
       "      <td>7</td>\n",
       "      <td>0</td>\n",
       "    </tr>\n",
       "    <tr>\n",
       "      <th>8</th>\n",
       "      <td>8</td>\n",
       "      <td>0</td>\n",
       "    </tr>\n",
       "    <tr>\n",
       "      <th>9</th>\n",
       "      <td>9</td>\n",
       "      <td>0</td>\n",
       "    </tr>\n",
       "    <tr>\n",
       "      <th>10</th>\n",
       "      <td>10</td>\n",
       "      <td>0</td>\n",
       "    </tr>\n",
       "    <tr>\n",
       "      <th>11</th>\n",
       "      <td>11</td>\n",
       "      <td>22</td>\n",
       "    </tr>\n",
       "    <tr>\n",
       "      <th>12</th>\n",
       "      <td>12</td>\n",
       "      <td>50</td>\n",
       "    </tr>\n",
       "    <tr>\n",
       "      <th>13</th>\n",
       "      <td>13</td>\n",
       "      <td>25</td>\n",
       "    </tr>\n",
       "    <tr>\n",
       "      <th>14</th>\n",
       "      <td>14</td>\n",
       "      <td>11</td>\n",
       "    </tr>\n",
       "    <tr>\n",
       "      <th>15</th>\n",
       "      <td>15</td>\n",
       "      <td>14</td>\n",
       "    </tr>\n",
       "    <tr>\n",
       "      <th>16</th>\n",
       "      <td>16</td>\n",
       "      <td>36</td>\n",
       "    </tr>\n",
       "    <tr>\n",
       "      <th>17</th>\n",
       "      <td>17</td>\n",
       "      <td>7</td>\n",
       "    </tr>\n",
       "    <tr>\n",
       "      <th>18</th>\n",
       "      <td>18</td>\n",
       "      <td>158</td>\n",
       "    </tr>\n",
       "    <tr>\n",
       "      <th>19</th>\n",
       "      <td>19</td>\n",
       "      <td>59</td>\n",
       "    </tr>\n",
       "    <tr>\n",
       "      <th>20</th>\n",
       "      <td>20</td>\n",
       "      <td>56</td>\n",
       "    </tr>\n",
       "    <tr>\n",
       "      <th>21</th>\n",
       "      <td>21</td>\n",
       "      <td>19</td>\n",
       "    </tr>\n",
       "    <tr>\n",
       "      <th>22</th>\n",
       "      <td>22</td>\n",
       "      <td>39</td>\n",
       "    </tr>\n",
       "    <tr>\n",
       "      <th>23</th>\n",
       "      <td>23</td>\n",
       "      <td>21</td>\n",
       "    </tr>\n",
       "  </tbody>\n",
       "</table>\n",
       "</div>"
      ],
      "text/plain": [
       "    hour_of_day  number_of_delays\n",
       "0             0                21\n",
       "1             1                27\n",
       "2             2                 0\n",
       "3             3                 0\n",
       "4             4                 0\n",
       "5             5                 0\n",
       "6             6                 0\n",
       "7             7                 0\n",
       "8             8                 0\n",
       "9             9                 0\n",
       "10           10                 0\n",
       "11           11                22\n",
       "12           12                50\n",
       "13           13                25\n",
       "14           14                11\n",
       "15           15                14\n",
       "16           16                36\n",
       "17           17                 7\n",
       "18           18               158\n",
       "19           19                59\n",
       "20           20                56\n",
       "21           21                19\n",
       "22           22                39\n",
       "23           23                21"
      ]
     },
     "execution_count": 13,
     "metadata": {},
     "output_type": "execute_result"
    }
   ],
   "source": [
    "# Convert 'predicted_time' to datetime\n",
    "df['predicted_time'] = pd.to_datetime(df['predicted_time'])\n",
    "\n",
    "# Create a list of all hours (0 to 23)\n",
    "all_hours = list(range(24))\n",
    "\n",
    "# Create a DataFrame with all hours\n",
    "hourly_delays = pd.DataFrame({'hour_of_day': all_hours})\n",
    "\n",
    "# Merge the original data with the all hours DataFrame to count delays for each hour\n",
    "hourly_delays = hourly_delays.merge(df.groupby(df['predicted_time'].dt.hour)['isDly'].sum().reset_index(), \n",
    "                                    how = 'left', left_on = 'hour_of_day', right_on = 'predicted_time')\n",
    "\n",
    "# Fill NaN values with 0 (no delays)\n",
    "hourly_delays['isDly'] = hourly_delays['isDly'].fillna(0).astype(int)\n",
    "\n",
    "# Drop the redundant 'predicted_time' column\n",
    "hourly_delays.drop(columns=['predicted_time'], inplace = True)\n",
    "\n",
    "# Rename columns\n",
    "hourly_delays.columns = ['hour_of_day', 'number_of_delays']\n",
    "\n",
    "# Print the new DataFrame\n",
    "hourly_delays"
   ]
  },
  {
   "cell_type": "code",
   "execution_count": 14,
   "metadata": {
    "scrolled": false
   },
   "outputs": [
    {
     "data": {
      "image/png": "[encoded data removed]",
      "text/plain": [
       "<Figure size 720x432 with 1 Axes>"
      ]
     },
     "metadata": {
      "needs_background": "light"
     },
     "output_type": "display_data"
    }
   ],
   "source": [
    "plt.figure(figsize=(10, 6))\n",
    "plt.bar(hourly_delays['hour_of_day'], hourly_delays['number_of_delays'])\n",
    "plt.xlabel('Hour of Day (Military Time)', fontsize=14)  # Increase x-label font size\n",
    "plt.ylabel('Number of Delays', fontsize=14)  # Increase y-label font size\n",
    "plt.title('Number of Delays per Hour of Day', fontsize=16)  # Increase title font size\n",
    "plt.xticks(all_hours)\n",
    "plt.grid(False)\n",
    "plt.tight_layout()\n",
    "plt.show()\n"
   ]
  },
  {
   "cell_type": "markdown",
   "metadata": {},
   "source": [
    "It seems 6 pm is when delays are most frequent."
   ]
  },
  {
   "cell_type": "markdown",
   "metadata": {},
   "source": [
    "<div style=\"text-align:center; font-size: 24px; font-weight: bold;\"> Data Preprocessing </div>\n",
    "<br style=\"line-height: 3px;\">\n",
    "<div style=\"text-align:center; font-size: 18px; font-weight: bold;\"> Feature Engineering (Wait Times and Lateness) </div>"
   ]
  },
  {
   "cell_type": "markdown",
   "metadata": {},
   "source": [
    "To gain further insight into the characteristics of train delays, we can **engineer new columns** that can potentially enhance the predictive power of our machine learning model.\n",
    "\n",
    "For instance, logically, the difference between **the time a particular prediction is generated** for when a train would arrive ('predicted_time' column), and **the time for when the train is predicted to arrive** ('arrival_time'), can be understood as time an individual would have to wait until the train arrives onto the platform, otherwise known as the **wait time**.\n",
    "\n",
    "However, recall that, from the CTA Train Tracker API documentation:\n",
    "\n",
    ">\"The CTA Train Tracker service looks at how long it’s been since a train has moved from one track circuit to the next and identifies delays if a train appears to not be moving.\"\n",
    "\n",
    "IMPORTANT: In this way, you can understand \"delayed\" trains as a *technical indicator*, where the train is at a standstill, and \"late\" trains as a *time-based indicator*, meaning that the train is traveling, but just from farther away.\n",
    "\n",
    "With that being said, let's make a new column for how long the wait will be. We can call this new column, \"wait_minutes\"."
   ]
  },
  {
   "cell_type": "code",
   "execution_count": 15,
   "metadata": {},
   "outputs": [
    {
     "data": {
      "text/html": [
       "<div>\n",
       "<style scoped>\n",
       "    .dataframe tbody tr th:only-of-type {\n",
       "        vertical-align: middle;\n",
       "    }\n",
       "\n",
       "    .dataframe tbody tr th {\n",
       "        vertical-align: top;\n",
       "    }\n",
       "\n",
       "    .dataframe thead th {\n",
       "        text-align: right;\n",
       "    }\n",
       "</style>\n",
       "<table border=\"1\" class=\"dataframe\">\n",
       "  <thead>\n",
       "    <tr style=\"text-align: right;\">\n",
       "      <th></th>\n",
       "      <th>station_id</th>\n",
       "      <th>line</th>\n",
       "      <th>predicted_time</th>\n",
       "      <th>arrival_time</th>\n",
       "      <th>wait_minutes</th>\n",
       "      <th>isSch</th>\n",
       "      <th>isFlt</th>\n",
       "      <th>isDly</th>\n",
       "      <th>station_name</th>\n",
       "      <th>destination_name</th>\n",
       "      <th>lat</th>\n",
       "      <th>long</th>\n",
       "      <th>free_flow_speed</th>\n",
       "      <th>current_speed</th>\n",
       "    </tr>\n",
       "  </thead>\n",
       "  <tbody>\n",
       "    <tr>\n",
       "      <th>107473</th>\n",
       "      <td>40880</td>\n",
       "      <td>Red</td>\n",
       "      <td>2023-08-20 18:59:28</td>\n",
       "      <td>2023-08-20 19:19:28</td>\n",
       "      <td>20.0</td>\n",
       "      <td>0</td>\n",
       "      <td>0</td>\n",
       "      <td>0</td>\n",
       "      <td>Thorndale</td>\n",
       "      <td>Howard</td>\n",
       "      <td>41.91709</td>\n",
       "      <td>-87.65261</td>\n",
       "      <td>19</td>\n",
       "      <td>19</td>\n",
       "    </tr>\n",
       "    <tr>\n",
       "      <th>67003</th>\n",
       "      <td>41120</td>\n",
       "      <td>G</td>\n",
       "      <td>2023-08-11 21:23:19</td>\n",
       "      <td>2023-08-11 21:25:19</td>\n",
       "      <td>2.0</td>\n",
       "      <td>0</td>\n",
       "      <td>0</td>\n",
       "      <td>0</td>\n",
       "      <td>35th-Bronzeville-IIT</td>\n",
       "      <td>Harlem/Lake</td>\n",
       "      <td>41.82366</td>\n",
       "      <td>-87.62569</td>\n",
       "      <td>16</td>\n",
       "      <td>12</td>\n",
       "    </tr>\n",
       "    <tr>\n",
       "      <th>52560</th>\n",
       "      <td>40260</td>\n",
       "      <td>Org</td>\n",
       "      <td>2023-08-11 15:03:30</td>\n",
       "      <td>2023-08-11 15:09:30</td>\n",
       "      <td>6.0</td>\n",
       "      <td>0</td>\n",
       "      <td>0</td>\n",
       "      <td>0</td>\n",
       "      <td>State/Lake</td>\n",
       "      <td>Midway</td>\n",
       "      <td>41.87695</td>\n",
       "      <td>-87.63365</td>\n",
       "      <td>17</td>\n",
       "      <td>17</td>\n",
       "    </tr>\n",
       "    <tr>\n",
       "      <th>107915</th>\n",
       "      <td>41170</td>\n",
       "      <td>Red</td>\n",
       "      <td>2023-08-20 19:06:36</td>\n",
       "      <td>2023-08-20 19:08:36</td>\n",
       "      <td>2.0</td>\n",
       "      <td>0</td>\n",
       "      <td>0</td>\n",
       "      <td>0</td>\n",
       "      <td>Garfield</td>\n",
       "      <td>95th/Dan Ryan</td>\n",
       "      <td>41.81227</td>\n",
       "      <td>-87.63021</td>\n",
       "      <td>70</td>\n",
       "      <td>70</td>\n",
       "    </tr>\n",
       "    <tr>\n",
       "      <th>65096</th>\n",
       "      <td>41380</td>\n",
       "      <td>Red</td>\n",
       "      <td>2023-08-11 20:58:13</td>\n",
       "      <td>2023-08-11 20:59:13</td>\n",
       "      <td>1.0</td>\n",
       "      <td>0</td>\n",
       "      <td>0</td>\n",
       "      <td>0</td>\n",
       "      <td>Bryn Mawr</td>\n",
       "      <td>95th/Dan Ryan</td>\n",
       "      <td>41.98350</td>\n",
       "      <td>-87.65884</td>\n",
       "      <td>12</td>\n",
       "      <td>7</td>\n",
       "    </tr>\n",
       "  </tbody>\n",
       "</table>\n",
       "</div>"
      ],
      "text/plain": [
       "        station_id line      predicted_time        arrival_time  wait_minutes  \\\n",
       "107473       40880  Red 2023-08-20 18:59:28 2023-08-20 19:19:28          20.0   \n",
       "67003        41120    G 2023-08-11 21:23:19 2023-08-11 21:25:19           2.0   \n",
       "52560        40260  Org 2023-08-11 15:03:30 2023-08-11 15:09:30           6.0   \n",
       "107915       41170  Red 2023-08-20 19:06:36 2023-08-20 19:08:36           2.0   \n",
       "65096        41380  Red 2023-08-11 20:58:13 2023-08-11 20:59:13           1.0   \n",
       "\n",
       "        isSch  isFlt  isDly          station_name destination_name       lat  \\\n",
       "107473      0      0      0             Thorndale           Howard  41.91709   \n",
       "67003       0      0      0  35th-Bronzeville-IIT      Harlem/Lake  41.82366   \n",
       "52560       0      0      0            State/Lake           Midway  41.87695   \n",
       "107915      0      0      0              Garfield    95th/Dan Ryan  41.81227   \n",
       "65096       0      0      0             Bryn Mawr    95th/Dan Ryan  41.98350   \n",
       "\n",
       "            long  free_flow_speed  current_speed  \n",
       "107473 -87.65261               19             19  \n",
       "67003  -87.62569               16             12  \n",
       "52560  -87.63365               17             17  \n",
       "107915 -87.63021               70             70  \n",
       "65096  -87.65884               12              7  "
      ]
     },
     "execution_count": 15,
     "metadata": {},
     "output_type": "execute_result"
    }
   ],
   "source": [
    "# Convert 'predicted_time' and 'arrival_time' columns to datetime\n",
    "df['predicted_time'] = pd.to_datetime(df['predicted_time'])\n",
    "df['arrival_time'] = pd.to_datetime(df['arrival_time'])\n",
    "\n",
    "# Calculate the difference between 'arrival_time' and 'predicted_time' in minutes\n",
    "df['wait_minutes'] = (df['arrival_time'] - df['predicted_time']).dt.total_seconds() / 60\n",
    "\n",
    "# Get the list of column names from the DataFrame\n",
    "column_names = df.columns.tolist()\n",
    "\n",
    "# Find the index of 'arrival_time'\n",
    "arrival_time_index = column_names.index('arrival_time')\n",
    "\n",
    "# Move 'wait_minutes' right after 'arrival_time'\n",
    "column_names.insert(arrival_time_index + 1, column_names.pop(column_names.index('wait_minutes')))\n",
    "\n",
    "# Reorder the DataFrame columns\n",
    "df = df[column_names]\n",
    "\n",
    "df.sample(n = 5)"
   ]
  },
  {
   "cell_type": "markdown",
   "metadata": {},
   "source": [
    "Now, we have the wait time (in minutes) for every instance of a train-arrival prediction. Next, let's get the **average wait time for every train station**, and name the column 'station_avg_wait'."
   ]
  },
  {
   "cell_type": "code",
   "execution_count": 16,
   "metadata": {},
   "outputs": [
    {
     "data": {
      "text/html": [
       "<div>\n",
       "<style scoped>\n",
       "    .dataframe tbody tr th:only-of-type {\n",
       "        vertical-align: middle;\n",
       "    }\n",
       "\n",
       "    .dataframe tbody tr th {\n",
       "        vertical-align: top;\n",
       "    }\n",
       "\n",
       "    .dataframe thead th {\n",
       "        text-align: right;\n",
       "    }\n",
       "</style>\n",
       "<table border=\"1\" class=\"dataframe\">\n",
       "  <thead>\n",
       "    <tr style=\"text-align: right;\">\n",
       "      <th></th>\n",
       "      <th>station_id</th>\n",
       "      <th>line</th>\n",
       "      <th>predicted_time</th>\n",
       "      <th>arrival_time</th>\n",
       "      <th>wait_minutes</th>\n",
       "      <th>station_avg_wait</th>\n",
       "      <th>isSch</th>\n",
       "      <th>isFlt</th>\n",
       "      <th>isDly</th>\n",
       "      <th>station_name</th>\n",
       "      <th>destination_name</th>\n",
       "      <th>lat</th>\n",
       "      <th>long</th>\n",
       "      <th>free_flow_speed</th>\n",
       "      <th>current_speed</th>\n",
       "    </tr>\n",
       "  </thead>\n",
       "  <tbody>\n",
       "    <tr>\n",
       "      <th>89548</th>\n",
       "      <td>40760</td>\n",
       "      <td>Red</td>\n",
       "      <td>2023-08-17 18:45:44</td>\n",
       "      <td>2023-08-17 18:50:44</td>\n",
       "      <td>5.0</td>\n",
       "      <td>21.578108</td>\n",
       "      <td>0</td>\n",
       "      <td>0</td>\n",
       "      <td>0</td>\n",
       "      <td>Granville</td>\n",
       "      <td>95th/Dan Ryan</td>\n",
       "      <td>42.01906</td>\n",
       "      <td>-87.67289</td>\n",
       "      <td>16</td>\n",
       "      <td>16</td>\n",
       "    </tr>\n",
       "    <tr>\n",
       "      <th>91563</th>\n",
       "      <td>40450</td>\n",
       "      <td>Red</td>\n",
       "      <td>2023-08-17 19:02:10</td>\n",
       "      <td>2023-08-17 19:29:10</td>\n",
       "      <td>27.0</td>\n",
       "      <td>21.452498</td>\n",
       "      <td>0</td>\n",
       "      <td>0</td>\n",
       "      <td>0</td>\n",
       "      <td>95th/Dan Ryan</td>\n",
       "      <td>95th/Dan Ryan</td>\n",
       "      <td>41.88481</td>\n",
       "      <td>-87.62781</td>\n",
       "      <td>10</td>\n",
       "      <td>7</td>\n",
       "    </tr>\n",
       "    <tr>\n",
       "      <th>51836</th>\n",
       "      <td>40830</td>\n",
       "      <td>Pink</td>\n",
       "      <td>2023-08-11 14:57:30</td>\n",
       "      <td>2023-08-11 15:12:30</td>\n",
       "      <td>15.0</td>\n",
       "      <td>19.027027</td>\n",
       "      <td>0</td>\n",
       "      <td>0</td>\n",
       "      <td>0</td>\n",
       "      <td>18th</td>\n",
       "      <td>54th/Cermak</td>\n",
       "      <td>41.87695</td>\n",
       "      <td>-87.63365</td>\n",
       "      <td>17</td>\n",
       "      <td>17</td>\n",
       "    </tr>\n",
       "    <tr>\n",
       "      <th>85889</th>\n",
       "      <td>40450</td>\n",
       "      <td>Red</td>\n",
       "      <td>2023-08-15 22:59:31</td>\n",
       "      <td>2023-08-15 23:15:31</td>\n",
       "      <td>16.0</td>\n",
       "      <td>21.452498</td>\n",
       "      <td>0</td>\n",
       "      <td>0</td>\n",
       "      <td>0</td>\n",
       "      <td>95th/Dan Ryan</td>\n",
       "      <td>95th/Dan Ryan</td>\n",
       "      <td>41.83119</td>\n",
       "      <td>-87.63064</td>\n",
       "      <td>67</td>\n",
       "      <td>67</td>\n",
       "    </tr>\n",
       "    <tr>\n",
       "      <th>33466</th>\n",
       "      <td>40170</td>\n",
       "      <td>G</td>\n",
       "      <td>2023-08-10 20:26:38</td>\n",
       "      <td>2023-08-10 20:53:38</td>\n",
       "      <td>27.0</td>\n",
       "      <td>10.745156</td>\n",
       "      <td>0</td>\n",
       "      <td>0</td>\n",
       "      <td>0</td>\n",
       "      <td>Ashland</td>\n",
       "      <td>Harlem/Lake</td>\n",
       "      <td>41.81646</td>\n",
       "      <td>-87.61904</td>\n",
       "      <td>19</td>\n",
       "      <td>19</td>\n",
       "    </tr>\n",
       "  </tbody>\n",
       "</table>\n",
       "</div>"
      ],
      "text/plain": [
       "       station_id  line      predicted_time        arrival_time  wait_minutes  \\\n",
       "89548       40760   Red 2023-08-17 18:45:44 2023-08-17 18:50:44           5.0   \n",
       "91563       40450   Red 2023-08-17 19:02:10 2023-08-17 19:29:10          27.0   \n",
       "51836       40830  Pink 2023-08-11 14:57:30 2023-08-11 15:12:30          15.0   \n",
       "85889       40450   Red 2023-08-15 22:59:31 2023-08-15 23:15:31          16.0   \n",
       "33466       40170     G 2023-08-10 20:26:38 2023-08-10 20:53:38          27.0   \n",
       "\n",
       "       station_avg_wait  isSch  isFlt  isDly   station_name destination_name  \\\n",
       "89548         21.578108      0      0      0      Granville    95th/Dan Ryan   \n",
       "91563         21.452498      0      0      0  95th/Dan Ryan    95th/Dan Ryan   \n",
       "51836         19.027027      0      0      0           18th      54th/Cermak   \n",
       "85889         21.452498      0      0      0  95th/Dan Ryan    95th/Dan Ryan   \n",
       "33466         10.745156      0      0      0        Ashland      Harlem/Lake   \n",
       "\n",
       "            lat      long  free_flow_speed  current_speed  \n",
       "89548  42.01906 -87.67289               16             16  \n",
       "91563  41.88481 -87.62781               10              7  \n",
       "51836  41.87695 -87.63365               17             17  \n",
       "85889  41.83119 -87.63064               67             67  \n",
       "33466  41.81646 -87.61904               19             19  "
      ]
     },
     "execution_count": 16,
     "metadata": {},
     "output_type": "execute_result"
    }
   ],
   "source": [
    "# Group the data by 'station_id' and calculate the average delay time for each station\n",
    "df['station_avg_wait'] = df.groupby('station_id')['wait_minutes'].transform('mean')\n",
    "\n",
    "# Get the list of column names from the DataFrame\n",
    "column_names = df.columns.tolist()\n",
    "\n",
    "# Find the index of 'wait_minutes'\n",
    "wait_minutes_index = column_names.index('wait_minutes')\n",
    "\n",
    "# Move 'station_avg_wait' right after 'wait_minutes'\n",
    "column_names.insert(wait_minutes_index + 1, column_names.pop(column_names.index('station_avg_wait')))\n",
    "\n",
    "# Reorder the DataFrame columns\n",
    "df = df[column_names]\n",
    "\n",
    "df.sample(n = 5)"
   ]
  },
  {
   "cell_type": "markdown",
   "metadata": {},
   "source": [
    "Awesome. Now we have the wait time of every individual train-arrival prediction, compared to the average wait time for train-arrival predictions in the corresponding train stations. \n",
    "\n",
    "Below is a visual of this comparison for any station of interest. Simply run the cell and provide an station ID input."
   ]
  },
  {
   "cell_type": "code",
   "execution_count": 17,
   "metadata": {
    "scrolled": false
   },
   "outputs": [
    {
     "name": "stdout",
     "output_type": "stream",
     "text": [
      "List of unique station IDs:\n",
      "[40260 40380 41700 40680 40850 40160 40040 40730 40460 40330 41400 41160\n",
      " 41220 41120 41320 40820 40960 41020 40910 40740 40310 40670 40220 41480\n",
      " 41080 41230 41130 41000 41690 41450 40710 40490 41060 40190 40170 40320\n",
      " 40660 40830 40210 40120 40590 40530 41070 41040 41150 41170 40510 40250\n",
      " 40540 41500 40150 40030 40550 40880 40240 40070 40560 40010 40020 40050\n",
      " 40060 40080 40090 40100 40130 40180 40230 40270 40280 40290 40300 40360\n",
      " 40370 40390 40400 40420 40440 40450 40480 40520 40570 40580 40600 40610\n",
      " 40630 40650 40690 40700 40720 40750 40760 40780 40790 40800 40840 40870\n",
      " 40890 40900 40920 40930 40940 40970 40980 40990 41010 41030 41050 41090\n",
      " 41140 41180 41190 41200 41210 41240 41250 41260 41270 41280 41290 41300\n",
      " 41310 41330 41350 41360 41380 41410 41420 41430 41440 41460 41490 41510\n",
      " 41660 41670 40140 41680 40810]\n",
      "\n",
      "Enter a station ID from the selection above to plot its 'wait_minutes' distribution: 41660\n"
     ]
    },
    {
     "data": {
      "image/png": "[encoded data removed]",
      "text/plain": [
       "<Figure size 720x432 with 1 Axes>"
      ]
     },
     "metadata": {
      "needs_background": "light"
     },
     "output_type": "display_data"
    },
    {
     "name": "stdout",
     "output_type": "stream",
     "text": [
      "Average wait time: 13.70 minutes\n",
      "Standard deviation of wait time: 8.27 minutes\n"
     ]
    }
   ],
   "source": [
    "# Get the list of unique station IDs\n",
    "unique_stations = df['station_id'].unique()\n",
    "\n",
    "print(\"List of unique station IDs:\")\n",
    "print(unique_stations)\n",
    "\n",
    "# Prompt the user to input a station ID\n",
    "station_id_input = int(input(\"\\nEnter a station ID from the selection above to plot its 'wait_minutes' distribution: \"))\n",
    "\n",
    "# Filter the DataFrame for the selected station ID\n",
    "selected_station_df = df[df['station_id'] == station_id_input]\n",
    "\n",
    "# Calculate mean and standard deviation of wait_minutes for the selected station\n",
    "mean_wait = selected_station_df['wait_minutes'].mean()\n",
    "std_wait = selected_station_df['wait_minutes'].std()\n",
    "\n",
    "# Calculate percentiles\n",
    "percentiles = [25, 50, 75, 100]\n",
    "percentile_values = np.percentile(selected_station_df['wait_minutes'], percentiles)\n",
    "\n",
    "# Create the distribution plot using Seaborn\n",
    "plt.figure(figsize=(10, 6))\n",
    "sns.histplot(data=selected_station_df, x='wait_minutes', bins=30, kde=True, color = 'skyblue')\n",
    "plt.axvline(mean_wait, color='r', linestyle='dashed', linewidth=1, label='Mean')\n",
    "plt.axvline(mean_wait + std_wait, color='g', linestyle='dashed', linewidth=1, label='Mean + Std Dev')\n",
    "plt.axvline(mean_wait - std_wait, color='g', linestyle='dashed', linewidth=1, label='Mean - Std Dev')\n",
    "\n",
    "# Add percentile indicators\n",
    "for p, value in zip(percentiles, percentile_values):\n",
    "    plt.axvline(value, color='b', linestyle='dashed', linewidth=1, label=f'{p}th Percentile')\n",
    "    plt.annotate(f'{value:.2f} min', (value, 0), textcoords=\"offset points\", xytext=(0,10), ha='center', fontsize=12, color='b')\n",
    "\n",
    "plt.xlabel('Wait Minutes')\n",
    "plt.ylabel('Frequency')\n",
    "plt.title(f'Wait Minutes Distribution for Station ID {station_id_input}')\n",
    "plt.legend()\n",
    "plt.tight_layout()\n",
    "plt.show()\n",
    "\n",
    "print(f\"Average wait time: {mean_wait:.2f} minutes\")\n",
    "print(f\"Standard deviation of wait time: {std_wait:.2f} minutes\")"
   ]
  },
  {
   "cell_type": "markdown",
   "metadata": {},
   "source": [
    "The logic follows that, any instance that has a wait time above the 75th percentile of all recorded wait times of the corresponding train station can be classified as a \"**late**\" train.\n",
    ">The 75th percentile of wait times, calculated for each station, serves as a robust threshold for identifying lateness. By using the 75th percentile, we capture instances where the wait time is higher than most occurrences.This approach accounts for variations in station-specific wait time distributions and avoids being overly sensitive to outliers or temporary fluctuations.\n",
    "\n",
    "So, we will make a new column called 'isLte' to indicate whether a train is late or not."
   ]
  },
  {
   "cell_type": "code",
   "execution_count": 18,
   "metadata": {},
   "outputs": [
    {
     "data": {
      "text/html": [
       "<div>\n",
       "<style scoped>\n",
       "    .dataframe tbody tr th:only-of-type {\n",
       "        vertical-align: middle;\n",
       "    }\n",
       "\n",
       "    .dataframe tbody tr th {\n",
       "        vertical-align: top;\n",
       "    }\n",
       "\n",
       "    .dataframe thead th {\n",
       "        text-align: right;\n",
       "    }\n",
       "</style>\n",
       "<table border=\"1\" class=\"dataframe\">\n",
       "  <thead>\n",
       "    <tr style=\"text-align: right;\">\n",
       "      <th></th>\n",
       "      <th>station_id</th>\n",
       "      <th>line</th>\n",
       "      <th>predicted_time</th>\n",
       "      <th>arrival_time</th>\n",
       "      <th>wait_minutes</th>\n",
       "      <th>station_avg_wait</th>\n",
       "      <th>isLte</th>\n",
       "      <th>isSch</th>\n",
       "      <th>isFlt</th>\n",
       "      <th>isDly</th>\n",
       "      <th>station_name</th>\n",
       "      <th>destination_name</th>\n",
       "      <th>lat</th>\n",
       "      <th>long</th>\n",
       "      <th>free_flow_speed</th>\n",
       "      <th>current_speed</th>\n",
       "    </tr>\n",
       "  </thead>\n",
       "  <tbody>\n",
       "    <tr>\n",
       "      <th>58282</th>\n",
       "      <td>40630</td>\n",
       "      <td>Red</td>\n",
       "      <td>2023-08-11 19:07:57</td>\n",
       "      <td>2023-08-11 19:22:57</td>\n",
       "      <td>15.0</td>\n",
       "      <td>13.390359</td>\n",
       "      <td>0</td>\n",
       "      <td>0</td>\n",
       "      <td>0</td>\n",
       "      <td>0</td>\n",
       "      <td>Clark/Division</td>\n",
       "      <td>95th/Dan Ryan</td>\n",
       "      <td>41.90392</td>\n",
       "      <td>-87.63141</td>\n",
       "      <td>7</td>\n",
       "      <td>7</td>\n",
       "    </tr>\n",
       "    <tr>\n",
       "      <th>59667</th>\n",
       "      <td>40560</td>\n",
       "      <td>Red</td>\n",
       "      <td>2023-08-11 19:17:09</td>\n",
       "      <td>2023-08-11 19:31:09</td>\n",
       "      <td>14.0</td>\n",
       "      <td>13.623457</td>\n",
       "      <td>0</td>\n",
       "      <td>0</td>\n",
       "      <td>0</td>\n",
       "      <td>0</td>\n",
       "      <td>Jackson</td>\n",
       "      <td>95th/Dan Ryan</td>\n",
       "      <td>41.92916</td>\n",
       "      <td>-87.65298</td>\n",
       "      <td>17</td>\n",
       "      <td>15</td>\n",
       "    </tr>\n",
       "    <tr>\n",
       "      <th>69015</th>\n",
       "      <td>40180</td>\n",
       "      <td>Blue</td>\n",
       "      <td>2023-08-11 22:35:37</td>\n",
       "      <td>2023-08-11 22:44:37</td>\n",
       "      <td>9.0</td>\n",
       "      <td>8.780000</td>\n",
       "      <td>0</td>\n",
       "      <td>0</td>\n",
       "      <td>0</td>\n",
       "      <td>0</td>\n",
       "      <td>Oak Park</td>\n",
       "      <td>Forest Park</td>\n",
       "      <td>41.87381</td>\n",
       "      <td>-87.73222</td>\n",
       "      <td>63</td>\n",
       "      <td>63</td>\n",
       "    </tr>\n",
       "    <tr>\n",
       "      <th>16455</th>\n",
       "      <td>40570</td>\n",
       "      <td>Blue</td>\n",
       "      <td>2023-08-10 16:33:16</td>\n",
       "      <td>2023-08-10 16:50:16</td>\n",
       "      <td>17.0</td>\n",
       "      <td>11.677419</td>\n",
       "      <td>1</td>\n",
       "      <td>0</td>\n",
       "      <td>0</td>\n",
       "      <td>0</td>\n",
       "      <td>California</td>\n",
       "      <td>Forest Park</td>\n",
       "      <td>41.92194</td>\n",
       "      <td>-87.69689</td>\n",
       "      <td>17</td>\n",
       "      <td>14</td>\n",
       "    </tr>\n",
       "    <tr>\n",
       "      <th>62038</th>\n",
       "      <td>41690</td>\n",
       "      <td>G</td>\n",
       "      <td>2023-08-11 19:38:39</td>\n",
       "      <td>2023-08-11 19:44:39</td>\n",
       "      <td>6.0</td>\n",
       "      <td>15.962712</td>\n",
       "      <td>0</td>\n",
       "      <td>0</td>\n",
       "      <td>0</td>\n",
       "      <td>0</td>\n",
       "      <td>Cermak-McCormick Place</td>\n",
       "      <td>Harlem/Lake</td>\n",
       "      <td>41.82134</td>\n",
       "      <td>-87.61916</td>\n",
       "      <td>21</td>\n",
       "      <td>16</td>\n",
       "    </tr>\n",
       "  </tbody>\n",
       "</table>\n",
       "</div>"
      ],
      "text/plain": [
       "       station_id  line      predicted_time        arrival_time  wait_minutes  \\\n",
       "58282       40630   Red 2023-08-11 19:07:57 2023-08-11 19:22:57          15.0   \n",
       "59667       40560   Red 2023-08-11 19:17:09 2023-08-11 19:31:09          14.0   \n",
       "69015       40180  Blue 2023-08-11 22:35:37 2023-08-11 22:44:37           9.0   \n",
       "16455       40570  Blue 2023-08-10 16:33:16 2023-08-10 16:50:16          17.0   \n",
       "62038       41690     G 2023-08-11 19:38:39 2023-08-11 19:44:39           6.0   \n",
       "\n",
       "       station_avg_wait  isLte  isSch  isFlt  isDly            station_name  \\\n",
       "58282         13.390359      0      0      0      0          Clark/Division   \n",
       "59667         13.623457      0      0      0      0                 Jackson   \n",
       "69015          8.780000      0      0      0      0                Oak Park   \n",
       "16455         11.677419      1      0      0      0              California   \n",
       "62038         15.962712      0      0      0      0  Cermak-McCormick Place   \n",
       "\n",
       "      destination_name       lat      long  free_flow_speed  current_speed  \n",
       "58282    95th/Dan Ryan  41.90392 -87.63141                7              7  \n",
       "59667    95th/Dan Ryan  41.92916 -87.65298               17             15  \n",
       "69015      Forest Park  41.87381 -87.73222               63             63  \n",
       "16455      Forest Park  41.92194 -87.69689               17             14  \n",
       "62038      Harlem/Lake  41.82134 -87.61916               21             16  "
      ]
     },
     "execution_count": 18,
     "metadata": {},
     "output_type": "execute_result"
    }
   ],
   "source": [
    "# Calculate the 75th percentile of wait_minutes for each station\n",
    "station_75th_percentile = df.groupby('station_id')['wait_minutes'].quantile(0.75)\n",
    "\n",
    "# Create a new column 'isLte' based on whether wait_minutes is above the 75th percentile\n",
    "df['isLte'] = df.apply(lambda row: int(row['wait_minutes'] >= station_75th_percentile[row['station_id']]), axis=1)\n",
    "\n",
    "# Get the list of column names from the DataFrame\n",
    "column_names = df.columns.tolist()\n",
    "\n",
    "# Find the index of 'station_avg_wait'\n",
    "SAW_index = column_names.index('station_avg_wait')\n",
    "\n",
    "# Move 'isLte' right after 'station_avg_wait'\n",
    "column_names.insert(SAW_index + 1, column_names.pop(column_names.index('isLte')))\n",
    "\n",
    "# Reorder the DataFrame columns\n",
    "df = df[column_names]\n",
    "\n",
    "df.sample(n = 5)"
   ]
  },
  {
   "cell_type": "markdown",
   "metadata": {},
   "source": [
    "Let's fully analyze late trains in this dataset, in the same way we did with delays."
   ]
  },
  {
   "cell_type": "code",
   "execution_count": 19,
   "metadata": {},
   "outputs": [
    {
     "data": {
      "text/plain": [
       "0    84321\n",
       "1    29909\n",
       "Name: isLte, dtype: int64"
      ]
     },
     "execution_count": 19,
     "metadata": {},
     "output_type": "execute_result"
    }
   ],
   "source": [
    "df['isLte'].value_counts()"
   ]
  },
  {
   "cell_type": "code",
   "execution_count": 20,
   "metadata": {},
   "outputs": [
    {
     "data": {
      "image/png": "[encoded data removed]",
      "text/plain": [
       "<Figure size 864x432 with 1 Axes>"
      ]
     },
     "metadata": {
      "needs_background": "light"
     },
     "output_type": "display_data"
    }
   ],
   "source": [
    "route_late_counts = df.groupby('line')['isLte'].sum()\n",
    "sorted_route_late_counts = route_late_counts.sort_values(ascending=False)\n",
    "\n",
    "plt.figure(figsize=(12, 6))\n",
    "sorted_route_late_counts.plot(kind='bar')\n",
    "plt.xlabel('Route', fontsize=14)  # Increase x-label font size\n",
    "plt.ylabel('Number of Late Trains', fontsize=14)  # Increase y-label font size\n",
    "plt.title('Number of Late Trains per Line', fontsize=16)  # Increase title font size\n",
    "plt.xticks(rotation=0)\n",
    "plt.grid(False)  # Disable grid lines\n",
    "plt.tight_layout()\n",
    "plt.show()\n"
   ]
  },
  {
   "cell_type": "code",
   "execution_count": 21,
   "metadata": {
    "scrolled": false
   },
   "outputs": [
    {
     "name": "stdout",
     "output_type": "stream",
     "text": [
      "Station ID with the most late trains: 40040\n",
      "Late train count: 542\n"
     ]
    },
    {
     "data": {
      "image/png": "[encoded data removed]",
      "text/plain": [
       "<Figure size 864x432 with 1 Axes>"
      ]
     },
     "metadata": {
      "needs_background": "light"
     },
     "output_type": "display_data"
    }
   ],
   "source": [
    "# Group the data by 'station_id' and calculate the sum of 'isLte' for each station\n",
    "station_late_counts = df.groupby('station_id')['isLte'].sum()\n",
    "\n",
    "# Find the station with the most late trains\n",
    "most_late_station = station_late_counts.idxmax()\n",
    "most_late_count = station_late_counts.loc[most_late_station]\n",
    "\n",
    "print(\"Station ID with the most late trains:\", most_late_station)\n",
    "print(\"Late train count:\", most_late_count)\n",
    "\n",
    "# Get the top N stations with the most late trains\n",
    "top_n = 5\n",
    "top_late_stations = station_late_counts.nlargest(top_n).index\n",
    "\n",
    "# Create a bar plot to visualize the number of late trains by station\n",
    "plt.figure(figsize=(12, 6))\n",
    "station_late_counts.loc[top_late_stations].plot(kind='bar', stacked=True)\n",
    "plt.xlabel('Station ID', fontsize=14)  # Increase x-label font size\n",
    "plt.ylabel('Number of Late Trains', fontsize=14)  # Increase y-label font size\n",
    "plt.title(f\"Number of Late Trains By Station (Top {top_n} Stations)\", fontsize=16)  # Increase title font size\n",
    "plt.xticks(rotation=90)\n",
    "plt.tight_layout()\n",
    "plt.grid(False)  # Enable grid lines\n",
    "plt.show()\n"
   ]
  },
  {
   "cell_type": "code",
   "execution_count": 22,
   "metadata": {},
   "outputs": [
    {
     "data": {
      "text/html": [
       "<div>\n",
       "<style scoped>\n",
       "    .dataframe tbody tr th:only-of-type {\n",
       "        vertical-align: middle;\n",
       "    }\n",
       "\n",
       "    .dataframe tbody tr th {\n",
       "        vertical-align: top;\n",
       "    }\n",
       "\n",
       "    .dataframe thead th {\n",
       "        text-align: right;\n",
       "    }\n",
       "</style>\n",
       "<table border=\"1\" class=\"dataframe\">\n",
       "  <thead>\n",
       "    <tr style=\"text-align: right;\">\n",
       "      <th></th>\n",
       "      <th>hour_of_day</th>\n",
       "      <th>number_of_late_trains</th>\n",
       "    </tr>\n",
       "  </thead>\n",
       "  <tbody>\n",
       "    <tr>\n",
       "      <th>0</th>\n",
       "      <td>0</td>\n",
       "      <td>1010</td>\n",
       "    </tr>\n",
       "    <tr>\n",
       "      <th>1</th>\n",
       "      <td>1</td>\n",
       "      <td>997</td>\n",
       "    </tr>\n",
       "    <tr>\n",
       "      <th>2</th>\n",
       "      <td>2</td>\n",
       "      <td>152</td>\n",
       "    </tr>\n",
       "    <tr>\n",
       "      <th>3</th>\n",
       "      <td>3</td>\n",
       "      <td>0</td>\n",
       "    </tr>\n",
       "    <tr>\n",
       "      <th>4</th>\n",
       "      <td>4</td>\n",
       "      <td>0</td>\n",
       "    </tr>\n",
       "    <tr>\n",
       "      <th>5</th>\n",
       "      <td>5</td>\n",
       "      <td>0</td>\n",
       "    </tr>\n",
       "    <tr>\n",
       "      <th>6</th>\n",
       "      <td>6</td>\n",
       "      <td>0</td>\n",
       "    </tr>\n",
       "    <tr>\n",
       "      <th>7</th>\n",
       "      <td>7</td>\n",
       "      <td>0</td>\n",
       "    </tr>\n",
       "    <tr>\n",
       "      <th>8</th>\n",
       "      <td>8</td>\n",
       "      <td>0</td>\n",
       "    </tr>\n",
       "    <tr>\n",
       "      <th>9</th>\n",
       "      <td>9</td>\n",
       "      <td>0</td>\n",
       "    </tr>\n",
       "    <tr>\n",
       "      <th>10</th>\n",
       "      <td>10</td>\n",
       "      <td>124</td>\n",
       "    </tr>\n",
       "    <tr>\n",
       "      <th>11</th>\n",
       "      <td>11</td>\n",
       "      <td>946</td>\n",
       "    </tr>\n",
       "    <tr>\n",
       "      <th>12</th>\n",
       "      <td>12</td>\n",
       "      <td>1781</td>\n",
       "    </tr>\n",
       "    <tr>\n",
       "      <th>13</th>\n",
       "      <td>13</td>\n",
       "      <td>1967</td>\n",
       "    </tr>\n",
       "    <tr>\n",
       "      <th>14</th>\n",
       "      <td>14</td>\n",
       "      <td>1258</td>\n",
       "    </tr>\n",
       "    <tr>\n",
       "      <th>15</th>\n",
       "      <td>15</td>\n",
       "      <td>1827</td>\n",
       "    </tr>\n",
       "    <tr>\n",
       "      <th>16</th>\n",
       "      <td>16</td>\n",
       "      <td>2460</td>\n",
       "    </tr>\n",
       "    <tr>\n",
       "      <th>17</th>\n",
       "      <td>17</td>\n",
       "      <td>1564</td>\n",
       "    </tr>\n",
       "    <tr>\n",
       "      <th>18</th>\n",
       "      <td>18</td>\n",
       "      <td>3906</td>\n",
       "    </tr>\n",
       "    <tr>\n",
       "      <th>19</th>\n",
       "      <td>19</td>\n",
       "      <td>4365</td>\n",
       "    </tr>\n",
       "    <tr>\n",
       "      <th>20</th>\n",
       "      <td>20</td>\n",
       "      <td>3063</td>\n",
       "    </tr>\n",
       "    <tr>\n",
       "      <th>21</th>\n",
       "      <td>21</td>\n",
       "      <td>1308</td>\n",
       "    </tr>\n",
       "    <tr>\n",
       "      <th>22</th>\n",
       "      <td>22</td>\n",
       "      <td>1645</td>\n",
       "    </tr>\n",
       "    <tr>\n",
       "      <th>23</th>\n",
       "      <td>23</td>\n",
       "      <td>1536</td>\n",
       "    </tr>\n",
       "  </tbody>\n",
       "</table>\n",
       "</div>"
      ],
      "text/plain": [
       "    hour_of_day  number_of_late_trains\n",
       "0             0                   1010\n",
       "1             1                    997\n",
       "2             2                    152\n",
       "3             3                      0\n",
       "4             4                      0\n",
       "5             5                      0\n",
       "6             6                      0\n",
       "7             7                      0\n",
       "8             8                      0\n",
       "9             9                      0\n",
       "10           10                    124\n",
       "11           11                    946\n",
       "12           12                   1781\n",
       "13           13                   1967\n",
       "14           14                   1258\n",
       "15           15                   1827\n",
       "16           16                   2460\n",
       "17           17                   1564\n",
       "18           18                   3906\n",
       "19           19                   4365\n",
       "20           20                   3063\n",
       "21           21                   1308\n",
       "22           22                   1645\n",
       "23           23                   1536"
      ]
     },
     "execution_count": 22,
     "metadata": {},
     "output_type": "execute_result"
    }
   ],
   "source": [
    "# Convert 'predicted_time' to datetime\n",
    "df['predicted_time'] = pd.to_datetime(df['predicted_time'])\n",
    "\n",
    "# Create a list of all hours (0 to 23)\n",
    "all_hours = list(range(24))\n",
    "\n",
    "# Create a DataFrame with all hours\n",
    "hourly_lates = pd.DataFrame({'hour_of_day': all_hours})\n",
    "\n",
    "# Merge the original data with the all hours DataFrame to count late trains for each hour\n",
    "hourly_lates = hourly_lates.merge(df.groupby(df['predicted_time'].dt.hour)['isLte'].sum().reset_index(), \n",
    "                                  how='left', left_on='hour_of_day', right_on='predicted_time')\n",
    "\n",
    "# Fill NaN values with 0 (no late trains)\n",
    "hourly_lates['isLte'] = hourly_lates['isLte'].fillna(0).astype(int)\n",
    "\n",
    "# Drop the redundant 'predicted_time' column\n",
    "hourly_lates.drop(columns=['predicted_time'], inplace=True)\n",
    "\n",
    "# Rename columns\n",
    "hourly_lates.columns = ['hour_of_day', 'number_of_late_trains']\n",
    "\n",
    "# Print the new DataFrame\n",
    "hourly_lates\n"
   ]
  },
  {
   "cell_type": "code",
   "execution_count": 23,
   "metadata": {},
   "outputs": [
    {
     "data": {
      "image/png": "[encoded data removed]",
      "text/plain": [
       "<Figure size 720x432 with 1 Axes>"
      ]
     },
     "metadata": {
      "needs_background": "light"
     },
     "output_type": "display_data"
    }
   ],
   "source": [
    "plt.figure(figsize=(10, 6))\n",
    "plt.bar(hourly_lates['hour_of_day'], hourly_lates['number_of_late_trains'])\n",
    "plt.xlabel('Hour of Day (Military Time)', fontsize=14)  # Increase x-label font size\n",
    "plt.ylabel('Number of Late Trains', fontsize=14)  # Increase y-label font size\n",
    "plt.title('Number of Late Trains per Hour of Day', fontsize=16)  # Increase title font size\n",
    "plt.xticks(all_hours)\n",
    "plt.grid(False)\n",
    "plt.tight_layout()\n",
    "plt.show()"
   ]
  },
  {
   "cell_type": "markdown",
   "metadata": {},
   "source": [
    "Let's see how many instances of late trains correspond to actual delayed trains."
   ]
  },
  {
   "cell_type": "code",
   "execution_count": 24,
   "metadata": {
    "scrolled": false
   },
   "outputs": [
    {
     "data": {
      "image/png": "[encoded data removed]",
      "text/plain": [
       "<Figure size 576x432 with 2 Axes>"
      ]
     },
     "metadata": {
      "needs_background": "light"
     },
     "output_type": "display_data"
    }
   ],
   "source": [
    "# Create a crosstab table\n",
    "cross_table = pd.crosstab(df['isLte'], df['isDly'])\n",
    "\n",
    "# Create a heatmap for visualization\n",
    "plt.figure(figsize=(8, 6))\n",
    "sns.heatmap(cross_table, annot=True, fmt='d', cmap='YlGnBu')\n",
    "plt.xlabel('Delayed')\n",
    "plt.ylabel('Late')\n",
    "plt.title('Late vs. Delayed - Counts')\n",
    "plt.xticks([0.5, 1.5], ['False', 'True'], rotation = 0)\n",
    "plt.yticks([0.5, 1.5], ['False', 'True'], rotation = 0)\n",
    "plt.show()"
   ]
  },
  {
   "cell_type": "code",
   "execution_count": 25,
   "metadata": {},
   "outputs": [
    {
     "name": "stdout",
     "output_type": "stream",
     "text": [
      "Correlation between isLte and isDly: 0.00626300651870325\n"
     ]
    }
   ],
   "source": [
    "# Calculate the correlation between 'isLte' and 'isDly' columns\n",
    "correlation = df['isLte'].corr(df['isDly'])\n",
    "\n",
    "print(\"Correlation between isLte and isDly:\", correlation)"
   ]
  },
  {
   "cell_type": "markdown",
   "metadata": {},
   "source": [
    "The cross table and Pearson correlation coefficient suggests to us that there is no linear relationship between the occurence of late trains and delayed trains in the dataset. We will return to these features later."
   ]
  },
  {
   "cell_type": "markdown",
   "metadata": {},
   "source": [
    "<div style=\"text-align:center; font-size: 18px; font-weight: bold;\"> Feature Engineering (Nearby Traffic) </div>"
   ]
  },
  {
   "cell_type": "code",
   "execution_count": 26,
   "metadata": {},
   "outputs": [
    {
     "data": {
      "text/html": [
       "<div>\n",
       "<style scoped>\n",
       "    .dataframe tbody tr th:only-of-type {\n",
       "        vertical-align: middle;\n",
       "    }\n",
       "\n",
       "    .dataframe tbody tr th {\n",
       "        vertical-align: top;\n",
       "    }\n",
       "\n",
       "    .dataframe thead th {\n",
       "        text-align: right;\n",
       "    }\n",
       "</style>\n",
       "<table border=\"1\" class=\"dataframe\">\n",
       "  <thead>\n",
       "    <tr style=\"text-align: right;\">\n",
       "      <th></th>\n",
       "      <th>station_id</th>\n",
       "      <th>line</th>\n",
       "      <th>predicted_time</th>\n",
       "      <th>arrival_time</th>\n",
       "      <th>wait_minutes</th>\n",
       "      <th>station_avg_wait</th>\n",
       "      <th>isLte</th>\n",
       "      <th>isSch</th>\n",
       "      <th>isFlt</th>\n",
       "      <th>isDly</th>\n",
       "      <th>station_name</th>\n",
       "      <th>destination_name</th>\n",
       "      <th>lat</th>\n",
       "      <th>long</th>\n",
       "      <th>free_flow_speed</th>\n",
       "      <th>current_speed</th>\n",
       "    </tr>\n",
       "  </thead>\n",
       "  <tbody>\n",
       "    <tr>\n",
       "      <th>0</th>\n",
       "      <td>40260</td>\n",
       "      <td>G</td>\n",
       "      <td>2023-08-09 23:47:29</td>\n",
       "      <td>2023-08-09 23:51:29</td>\n",
       "      <td>4.0</td>\n",
       "      <td>8.394118</td>\n",
       "      <td>0</td>\n",
       "      <td>0</td>\n",
       "      <td>0</td>\n",
       "      <td>0</td>\n",
       "      <td>State/Lake</td>\n",
       "      <td>Harlem/Lake</td>\n",
       "      <td>41.87360</td>\n",
       "      <td>-87.62679</td>\n",
       "      <td>15</td>\n",
       "      <td>15</td>\n",
       "    </tr>\n",
       "    <tr>\n",
       "      <th>1</th>\n",
       "      <td>40260</td>\n",
       "      <td>Org</td>\n",
       "      <td>2023-08-09 23:47:41</td>\n",
       "      <td>2023-08-09 23:51:41</td>\n",
       "      <td>4.0</td>\n",
       "      <td>8.394118</td>\n",
       "      <td>0</td>\n",
       "      <td>0</td>\n",
       "      <td>0</td>\n",
       "      <td>0</td>\n",
       "      <td>State/Lake</td>\n",
       "      <td>Midway</td>\n",
       "      <td>41.87734</td>\n",
       "      <td>-87.63369</td>\n",
       "      <td>14</td>\n",
       "      <td>14</td>\n",
       "    </tr>\n",
       "    <tr>\n",
       "      <th>2</th>\n",
       "      <td>40260</td>\n",
       "      <td>Pink</td>\n",
       "      <td>2023-08-09 23:47:26</td>\n",
       "      <td>2023-08-09 23:54:26</td>\n",
       "      <td>7.0</td>\n",
       "      <td>8.394118</td>\n",
       "      <td>0</td>\n",
       "      <td>0</td>\n",
       "      <td>0</td>\n",
       "      <td>0</td>\n",
       "      <td>State/Lake</td>\n",
       "      <td>54th/Cermak</td>\n",
       "      <td>41.88574</td>\n",
       "      <td>-87.62758</td>\n",
       "      <td>11</td>\n",
       "      <td>11</td>\n",
       "    </tr>\n",
       "    <tr>\n",
       "      <th>3</th>\n",
       "      <td>40260</td>\n",
       "      <td>G</td>\n",
       "      <td>2023-08-09 23:47:39</td>\n",
       "      <td>2023-08-09 23:56:39</td>\n",
       "      <td>9.0</td>\n",
       "      <td>8.394118</td>\n",
       "      <td>0</td>\n",
       "      <td>0</td>\n",
       "      <td>0</td>\n",
       "      <td>0</td>\n",
       "      <td>State/Lake</td>\n",
       "      <td>Ashland/63rd</td>\n",
       "      <td>41.88436</td>\n",
       "      <td>-87.69232</td>\n",
       "      <td>21</td>\n",
       "      <td>21</td>\n",
       "    </tr>\n",
       "    <tr>\n",
       "      <th>4</th>\n",
       "      <td>40260</td>\n",
       "      <td>Org</td>\n",
       "      <td>2023-08-09 23:47:33</td>\n",
       "      <td>2023-08-10 00:06:33</td>\n",
       "      <td>19.0</td>\n",
       "      <td>8.394118</td>\n",
       "      <td>1</td>\n",
       "      <td>0</td>\n",
       "      <td>0</td>\n",
       "      <td>0</td>\n",
       "      <td>State/Lake</td>\n",
       "      <td>Midway</td>\n",
       "      <td>41.83957</td>\n",
       "      <td>-87.66485</td>\n",
       "      <td>65</td>\n",
       "      <td>65</td>\n",
       "    </tr>\n",
       "  </tbody>\n",
       "</table>\n",
       "</div>"
      ],
      "text/plain": [
       "   station_id  line      predicted_time        arrival_time  wait_minutes  \\\n",
       "0       40260     G 2023-08-09 23:47:29 2023-08-09 23:51:29           4.0   \n",
       "1       40260   Org 2023-08-09 23:47:41 2023-08-09 23:51:41           4.0   \n",
       "2       40260  Pink 2023-08-09 23:47:26 2023-08-09 23:54:26           7.0   \n",
       "3       40260     G 2023-08-09 23:47:39 2023-08-09 23:56:39           9.0   \n",
       "4       40260   Org 2023-08-09 23:47:33 2023-08-10 00:06:33          19.0   \n",
       "\n",
       "   station_avg_wait  isLte  isSch  isFlt  isDly station_name destination_name  \\\n",
       "0          8.394118      0      0      0      0   State/Lake      Harlem/Lake   \n",
       "1          8.394118      0      0      0      0   State/Lake           Midway   \n",
       "2          8.394118      0      0      0      0   State/Lake      54th/Cermak   \n",
       "3          8.394118      0      0      0      0   State/Lake     Ashland/63rd   \n",
       "4          8.394118      1      0      0      0   State/Lake           Midway   \n",
       "\n",
       "        lat      long  free_flow_speed  current_speed  \n",
       "0  41.87360 -87.62679               15             15  \n",
       "1  41.87734 -87.63369               14             14  \n",
       "2  41.88574 -87.62758               11             11  \n",
       "3  41.88436 -87.69232               21             21  \n",
       "4  41.83957 -87.66485               65             65  "
      ]
     },
     "execution_count": 26,
     "metadata": {},
     "output_type": "execute_result"
    }
   ],
   "source": [
    "df.head()"
   ]
  },
  {
   "cell_type": "markdown",
   "metadata": {},
   "source": [
    "Now we will take a look at the columns 'free_flow_speed' and 'current_speed', and engineer a new column from the two, titled 'nearby_traffic'.\n",
    "\n",
    "Reminder: \n",
    "\n",
    "Per TomTom's Traffic Flow RESTful API:\n",
    "\n",
    "**free_flow_speed** = \"The free flow speed expected under ideal conditions, expressed in [MPH]\n",
    "\n",
    "**current_speed** = \"The current average speed at the selected [latitude and longitude], in [MPH].\"\n",
    "\n",
    ">Note that these speeds fetched from the TomTom API *do not* directly refer to the train itself; they are not train speeds. Rather, they are referring to the *traffic speeds* of the roads closest to the geographical coordinates of the specifc train.\n",
    "\n",
    "By subtracting 'current_speed' from 'free_flow_speed', if we get any number other than 0, that indicates that there is some level of congestion in the nearby roads."
   ]
  },
  {
   "cell_type": "code",
   "execution_count": 27,
   "metadata": {},
   "outputs": [
    {
     "data": {
      "text/html": [
       "<div>\n",
       "<style scoped>\n",
       "    .dataframe tbody tr th:only-of-type {\n",
       "        vertical-align: middle;\n",
       "    }\n",
       "\n",
       "    .dataframe tbody tr th {\n",
       "        vertical-align: top;\n",
       "    }\n",
       "\n",
       "    .dataframe thead th {\n",
       "        text-align: right;\n",
       "    }\n",
       "</style>\n",
       "<table border=\"1\" class=\"dataframe\">\n",
       "  <thead>\n",
       "    <tr style=\"text-align: right;\">\n",
       "      <th></th>\n",
       "      <th>station_id</th>\n",
       "      <th>line</th>\n",
       "      <th>predicted_time</th>\n",
       "      <th>arrival_time</th>\n",
       "      <th>wait_minutes</th>\n",
       "      <th>station_avg_wait</th>\n",
       "      <th>isLte</th>\n",
       "      <th>isSch</th>\n",
       "      <th>isFlt</th>\n",
       "      <th>isDly</th>\n",
       "      <th>station_name</th>\n",
       "      <th>destination_name</th>\n",
       "      <th>lat</th>\n",
       "      <th>long</th>\n",
       "      <th>free_flow_speed</th>\n",
       "      <th>current_speed</th>\n",
       "      <th>nearby_traffic</th>\n",
       "    </tr>\n",
       "  </thead>\n",
       "  <tbody>\n",
       "    <tr>\n",
       "      <th>49385</th>\n",
       "      <td>41440</td>\n",
       "      <td>Brn</td>\n",
       "      <td>2023-08-11 13:31:58</td>\n",
       "      <td>2023-08-11 14:00:58</td>\n",
       "      <td>29.0</td>\n",
       "      <td>24.412121</td>\n",
       "      <td>0</td>\n",
       "      <td>0</td>\n",
       "      <td>0</td>\n",
       "      <td>0</td>\n",
       "      <td>Addison</td>\n",
       "      <td>Kimball</td>\n",
       "      <td>41.87857</td>\n",
       "      <td>-87.62606</td>\n",
       "      <td>11</td>\n",
       "      <td>8</td>\n",
       "      <td>1</td>\n",
       "    </tr>\n",
       "    <tr>\n",
       "      <th>46796</th>\n",
       "      <td>40900</td>\n",
       "      <td>Red</td>\n",
       "      <td>2023-08-11 13:02:35</td>\n",
       "      <td>2023-08-11 13:09:35</td>\n",
       "      <td>7.0</td>\n",
       "      <td>7.472350</td>\n",
       "      <td>0</td>\n",
       "      <td>0</td>\n",
       "      <td>0</td>\n",
       "      <td>0</td>\n",
       "      <td>Howard</td>\n",
       "      <td>Howard</td>\n",
       "      <td>42.01906</td>\n",
       "      <td>-87.67289</td>\n",
       "      <td>16</td>\n",
       "      <td>16</td>\n",
       "      <td>0</td>\n",
       "    </tr>\n",
       "    <tr>\n",
       "      <th>67810</th>\n",
       "      <td>40220</td>\n",
       "      <td>Blue</td>\n",
       "      <td>2023-08-11 21:44:47</td>\n",
       "      <td>2023-08-11 21:52:47</td>\n",
       "      <td>8.0</td>\n",
       "      <td>10.280702</td>\n",
       "      <td>0</td>\n",
       "      <td>0</td>\n",
       "      <td>0</td>\n",
       "      <td>0</td>\n",
       "      <td>Western (Forest Park Branch)</td>\n",
       "      <td>O'Hare</td>\n",
       "      <td>41.87162</td>\n",
       "      <td>-87.74425</td>\n",
       "      <td>63</td>\n",
       "      <td>63</td>\n",
       "      <td>0</td>\n",
       "    </tr>\n",
       "    <tr>\n",
       "      <th>24348</th>\n",
       "      <td>40280</td>\n",
       "      <td>G</td>\n",
       "      <td>2023-08-10 18:21:22</td>\n",
       "      <td>2023-08-10 18:32:22</td>\n",
       "      <td>11.0</td>\n",
       "      <td>22.356549</td>\n",
       "      <td>0</td>\n",
       "      <td>0</td>\n",
       "      <td>0</td>\n",
       "      <td>0</td>\n",
       "      <td>Central</td>\n",
       "      <td>Harlem/Lake</td>\n",
       "      <td>41.88435</td>\n",
       "      <td>-87.69251</td>\n",
       "      <td>21</td>\n",
       "      <td>21</td>\n",
       "      <td>0</td>\n",
       "    </tr>\n",
       "    <tr>\n",
       "      <th>98527</th>\n",
       "      <td>40310</td>\n",
       "      <td>Org</td>\n",
       "      <td>2023-08-19 17:52:01</td>\n",
       "      <td>2023-08-19 17:56:01</td>\n",
       "      <td>4.0</td>\n",
       "      <td>22.454054</td>\n",
       "      <td>0</td>\n",
       "      <td>0</td>\n",
       "      <td>0</td>\n",
       "      <td>0</td>\n",
       "      <td>Western</td>\n",
       "      <td>Loop</td>\n",
       "      <td>41.79986</td>\n",
       "      <td>-87.72453</td>\n",
       "      <td>20</td>\n",
       "      <td>20</td>\n",
       "      <td>0</td>\n",
       "    </tr>\n",
       "  </tbody>\n",
       "</table>\n",
       "</div>"
      ],
      "text/plain": [
       "       station_id  line      predicted_time        arrival_time  wait_minutes  \\\n",
       "49385       41440   Brn 2023-08-11 13:31:58 2023-08-11 14:00:58          29.0   \n",
       "46796       40900   Red 2023-08-11 13:02:35 2023-08-11 13:09:35           7.0   \n",
       "67810       40220  Blue 2023-08-11 21:44:47 2023-08-11 21:52:47           8.0   \n",
       "24348       40280     G 2023-08-10 18:21:22 2023-08-10 18:32:22          11.0   \n",
       "98527       40310   Org 2023-08-19 17:52:01 2023-08-19 17:56:01           4.0   \n",
       "\n",
       "       station_avg_wait  isLte  isSch  isFlt  isDly  \\\n",
       "49385         24.412121      0      0      0      0   \n",
       "46796          7.472350      0      0      0      0   \n",
       "67810         10.280702      0      0      0      0   \n",
       "24348         22.356549      0      0      0      0   \n",
       "98527         22.454054      0      0      0      0   \n",
       "\n",
       "                       station_name destination_name       lat      long  \\\n",
       "49385                       Addison          Kimball  41.87857 -87.62606   \n",
       "46796                        Howard           Howard  42.01906 -87.67289   \n",
       "67810  Western (Forest Park Branch)           O'Hare  41.87162 -87.74425   \n",
       "24348                       Central      Harlem/Lake  41.88435 -87.69251   \n",
       "98527                       Western             Loop  41.79986 -87.72453   \n",
       "\n",
       "       free_flow_speed  current_speed  nearby_traffic  \n",
       "49385               11              8               1  \n",
       "46796               16             16               0  \n",
       "67810               63             63               0  \n",
       "24348               21             21               0  \n",
       "98527               20             20               0  "
      ]
     },
     "execution_count": 27,
     "metadata": {},
     "output_type": "execute_result"
    }
   ],
   "source": [
    "# Calculate the difference between 'free_flow_speed' and 'current_speed'\n",
    "df['nearby_traffic'] = (df['free_flow_speed'] - df['current_speed']).apply(lambda x: 1 if x != 0 else 0)\n",
    "\n",
    "df.sample(n = 5, random_state = 42)"
   ]
  },
  {
   "cell_type": "markdown",
   "metadata": {},
   "source": [
    "'0' indicates no nearby road traffic, whereas '1' indicates that there is nearby traffic. Below shows the frequency of each in the dataset."
   ]
  },
  {
   "cell_type": "code",
   "execution_count": 28,
   "metadata": {},
   "outputs": [
    {
     "data": {
      "text/plain": [
       "0    59152\n",
       "1    55078\n",
       "Name: nearby_traffic, dtype: int64"
      ]
     },
     "execution_count": 28,
     "metadata": {},
     "output_type": "execute_result"
    }
   ],
   "source": [
    "df['nearby_traffic'].value_counts()"
   ]
  },
  {
   "cell_type": "code",
   "execution_count": 29,
   "metadata": {
    "scrolled": false
   },
   "outputs": [
    {
     "data": {
      "text/html": [
       "<div>\n",
       "<style scoped>\n",
       "    .dataframe tbody tr th:only-of-type {\n",
       "        vertical-align: middle;\n",
       "    }\n",
       "\n",
       "    .dataframe tbody tr th {\n",
       "        vertical-align: top;\n",
       "    }\n",
       "\n",
       "    .dataframe thead th {\n",
       "        text-align: right;\n",
       "    }\n",
       "</style>\n",
       "<table border=\"1\" class=\"dataframe\">\n",
       "  <thead>\n",
       "    <tr style=\"text-align: right;\">\n",
       "      <th></th>\n",
       "      <th>hour_of_day</th>\n",
       "      <th>instances_of_nearby_traffic</th>\n",
       "    </tr>\n",
       "  </thead>\n",
       "  <tbody>\n",
       "    <tr>\n",
       "      <th>0</th>\n",
       "      <td>0</td>\n",
       "      <td>180</td>\n",
       "    </tr>\n",
       "    <tr>\n",
       "      <th>1</th>\n",
       "      <td>1</td>\n",
       "      <td>125</td>\n",
       "    </tr>\n",
       "    <tr>\n",
       "      <th>2</th>\n",
       "      <td>2</td>\n",
       "      <td>7</td>\n",
       "    </tr>\n",
       "    <tr>\n",
       "      <th>3</th>\n",
       "      <td>3</td>\n",
       "      <td>0</td>\n",
       "    </tr>\n",
       "    <tr>\n",
       "      <th>4</th>\n",
       "      <td>4</td>\n",
       "      <td>0</td>\n",
       "    </tr>\n",
       "    <tr>\n",
       "      <th>5</th>\n",
       "      <td>5</td>\n",
       "      <td>0</td>\n",
       "    </tr>\n",
       "    <tr>\n",
       "      <th>6</th>\n",
       "      <td>6</td>\n",
       "      <td>0</td>\n",
       "    </tr>\n",
       "    <tr>\n",
       "      <th>7</th>\n",
       "      <td>7</td>\n",
       "      <td>0</td>\n",
       "    </tr>\n",
       "    <tr>\n",
       "      <th>8</th>\n",
       "      <td>8</td>\n",
       "      <td>0</td>\n",
       "    </tr>\n",
       "    <tr>\n",
       "      <th>9</th>\n",
       "      <td>9</td>\n",
       "      <td>0</td>\n",
       "    </tr>\n",
       "    <tr>\n",
       "      <th>10</th>\n",
       "      <td>10</td>\n",
       "      <td>200</td>\n",
       "    </tr>\n",
       "    <tr>\n",
       "      <th>11</th>\n",
       "      <td>11</td>\n",
       "      <td>1817</td>\n",
       "    </tr>\n",
       "    <tr>\n",
       "      <th>12</th>\n",
       "      <td>12</td>\n",
       "      <td>3798</td>\n",
       "    </tr>\n",
       "    <tr>\n",
       "      <th>13</th>\n",
       "      <td>13</td>\n",
       "      <td>4199</td>\n",
       "    </tr>\n",
       "    <tr>\n",
       "      <th>14</th>\n",
       "      <td>14</td>\n",
       "      <td>3181</td>\n",
       "    </tr>\n",
       "    <tr>\n",
       "      <th>15</th>\n",
       "      <td>15</td>\n",
       "      <td>5765</td>\n",
       "    </tr>\n",
       "    <tr>\n",
       "      <th>16</th>\n",
       "      <td>16</td>\n",
       "      <td>7229</td>\n",
       "    </tr>\n",
       "    <tr>\n",
       "      <th>17</th>\n",
       "      <td>17</td>\n",
       "      <td>5119</td>\n",
       "    </tr>\n",
       "    <tr>\n",
       "      <th>18</th>\n",
       "      <td>18</td>\n",
       "      <td>8803</td>\n",
       "    </tr>\n",
       "    <tr>\n",
       "      <th>19</th>\n",
       "      <td>19</td>\n",
       "      <td>7701</td>\n",
       "    </tr>\n",
       "    <tr>\n",
       "      <th>20</th>\n",
       "      <td>20</td>\n",
       "      <td>3728</td>\n",
       "    </tr>\n",
       "    <tr>\n",
       "      <th>21</th>\n",
       "      <td>21</td>\n",
       "      <td>1406</td>\n",
       "    </tr>\n",
       "    <tr>\n",
       "      <th>22</th>\n",
       "      <td>22</td>\n",
       "      <td>1326</td>\n",
       "    </tr>\n",
       "    <tr>\n",
       "      <th>23</th>\n",
       "      <td>23</td>\n",
       "      <td>494</td>\n",
       "    </tr>\n",
       "  </tbody>\n",
       "</table>\n",
       "</div>"
      ],
      "text/plain": [
       "    hour_of_day  instances_of_nearby_traffic\n",
       "0             0                          180\n",
       "1             1                          125\n",
       "2             2                            7\n",
       "3             3                            0\n",
       "4             4                            0\n",
       "5             5                            0\n",
       "6             6                            0\n",
       "7             7                            0\n",
       "8             8                            0\n",
       "9             9                            0\n",
       "10           10                          200\n",
       "11           11                         1817\n",
       "12           12                         3798\n",
       "13           13                         4199\n",
       "14           14                         3181\n",
       "15           15                         5765\n",
       "16           16                         7229\n",
       "17           17                         5119\n",
       "18           18                         8803\n",
       "19           19                         7701\n",
       "20           20                         3728\n",
       "21           21                         1406\n",
       "22           22                         1326\n",
       "23           23                          494"
      ]
     },
     "execution_count": 29,
     "metadata": {},
     "output_type": "execute_result"
    }
   ],
   "source": [
    "# Create a DataFrame with all hours\n",
    "hourly_traffic = pd.DataFrame({'hour_of_day': all_hours})\n",
    "\n",
    "# Merge the original data with the all hours DataFrame to count traffic instances for each hour\n",
    "hourly_traffic = hourly_traffic.merge(df.groupby(df['predicted_time'].dt.hour)['nearby_traffic'].sum().reset_index(), \n",
    "                                      how='left', left_on='hour_of_day', right_on='predicted_time')\n",
    "\n",
    "# Fill NaN values with 0 (no traffic)\n",
    "hourly_traffic['nearby_traffic'] = hourly_traffic['nearby_traffic'].fillna(0).astype(int)\n",
    "\n",
    "# Drop the redundant 'predicted_time' column\n",
    "hourly_traffic.drop(columns=['predicted_time'], inplace=True)\n",
    "\n",
    "# Rename columns\n",
    "hourly_traffic.columns = ['hour_of_day', 'instances_of_nearby_traffic']\n",
    "\n",
    "# Print the new DataFrame\n",
    "hourly_traffic"
   ]
  },
  {
   "cell_type": "markdown",
   "metadata": {},
   "source": [
    "Here we look at the instances of nearby traffic per hour of day."
   ]
  },
  {
   "cell_type": "code",
   "execution_count": 30,
   "metadata": {},
   "outputs": [
    {
     "data": {
      "image/png": "[encoded data removed]",
      "text/plain": [
       "<Figure size 720x432 with 1 Axes>"
      ]
     },
     "metadata": {
      "needs_background": "light"
     },
     "output_type": "display_data"
    }
   ],
   "source": [
    "plt.figure(figsize=(10, 6))\n",
    "plt.bar(hourly_traffic['hour_of_day'], hourly_traffic['instances_of_nearby_traffic'])\n",
    "plt.xlabel('Hour of Day (Military Time)')\n",
    "plt.ylabel('Instances of Nearby Traffic in Train-Arrival Predictions')\n",
    "plt.title('Instances of Nearby Traffic in Train-Arrival Predictions per Hour of Day')\n",
    "plt.xticks(all_hours)\n",
    "plt.grid(False)\n",
    "plt.tight_layout()\n",
    "plt.show()"
   ]
  },
  {
   "cell_type": "code",
   "execution_count": 31,
   "metadata": {},
   "outputs": [
    {
     "data": {
      "image/png": "[encoded data removed]",
      "text/plain": [
       "<Figure size 576x432 with 2 Axes>"
      ]
     },
     "metadata": {
      "needs_background": "light"
     },
     "output_type": "display_data"
    }
   ],
   "source": [
    "# Create a crosstab table\n",
    "cross_table = pd.crosstab(df['nearby_traffic'], df['isDly'])\n",
    "\n",
    "# Create a heatmap for visualization\n",
    "plt.figure(figsize=(8, 6))\n",
    "sns.heatmap(cross_table, annot=True, fmt='d', cmap='YlGnBu')\n",
    "plt.xlabel('Delayed')\n",
    "plt.ylabel('Nearby Traffic Present')\n",
    "plt.title('Nearby Traffic vs Delayed - Counts')\n",
    "plt.xticks([0.5, 1.5], ['False', 'True'], rotation = 0)\n",
    "plt.yticks([0.5, 1.5], ['False', 'True'], rotation = 0)\n",
    "plt.show()"
   ]
  },
  {
   "cell_type": "code",
   "execution_count": 32,
   "metadata": {
    "scrolled": true
   },
   "outputs": [
    {
     "name": "stdout",
     "output_type": "stream",
     "text": [
      "Correlation between nearby_traffic and isDly: -0.010344936512382429\n"
     ]
    }
   ],
   "source": [
    "# Calculate the correlation between 'isLte' and 'isDly' columns\n",
    "correlation = df['nearby_traffic'].corr(df['isDly'])\n",
    "\n",
    "print(\"Correlation between nearby_traffic and isDly:\", correlation)"
   ]
  },
  {
   "cell_type": "markdown",
   "metadata": {},
   "source": [
    "The cross table and Pearson correlation coefficient suggests to us that there is no linear relationship between the occurence of nearby traffic and delayed trains in the dataset. We will return to these features later."
   ]
  },
  {
   "cell_type": "markdown",
   "metadata": {},
   "source": [
    "Here, we create a new column that indicates what hour of day the predictions were made at."
   ]
  },
  {
   "cell_type": "code",
   "execution_count": 33,
   "metadata": {},
   "outputs": [
    {
     "data": {
      "text/html": [
       "<div>\n",
       "<style scoped>\n",
       "    .dataframe tbody tr th:only-of-type {\n",
       "        vertical-align: middle;\n",
       "    }\n",
       "\n",
       "    .dataframe tbody tr th {\n",
       "        vertical-align: top;\n",
       "    }\n",
       "\n",
       "    .dataframe thead th {\n",
       "        text-align: right;\n",
       "    }\n",
       "</style>\n",
       "<table border=\"1\" class=\"dataframe\">\n",
       "  <thead>\n",
       "    <tr style=\"text-align: right;\">\n",
       "      <th></th>\n",
       "      <th>station_id</th>\n",
       "      <th>line</th>\n",
       "      <th>predicted_time</th>\n",
       "      <th>arrival_time</th>\n",
       "      <th>wait_minutes</th>\n",
       "      <th>station_avg_wait</th>\n",
       "      <th>isLte</th>\n",
       "      <th>isSch</th>\n",
       "      <th>isFlt</th>\n",
       "      <th>isDly</th>\n",
       "      <th>station_name</th>\n",
       "      <th>destination_name</th>\n",
       "      <th>lat</th>\n",
       "      <th>long</th>\n",
       "      <th>free_flow_speed</th>\n",
       "      <th>current_speed</th>\n",
       "      <th>nearby_traffic</th>\n",
       "      <th>hour_of_day</th>\n",
       "    </tr>\n",
       "  </thead>\n",
       "  <tbody>\n",
       "    <tr>\n",
       "      <th>0</th>\n",
       "      <td>40260</td>\n",
       "      <td>G</td>\n",
       "      <td>2023-08-09 23:47:29</td>\n",
       "      <td>2023-08-09 23:51:29</td>\n",
       "      <td>4.0</td>\n",
       "      <td>8.394118</td>\n",
       "      <td>0</td>\n",
       "      <td>0</td>\n",
       "      <td>0</td>\n",
       "      <td>0</td>\n",
       "      <td>State/Lake</td>\n",
       "      <td>Harlem/Lake</td>\n",
       "      <td>41.87360</td>\n",
       "      <td>-87.62679</td>\n",
       "      <td>15</td>\n",
       "      <td>15</td>\n",
       "      <td>0</td>\n",
       "      <td>23</td>\n",
       "    </tr>\n",
       "    <tr>\n",
       "      <th>1</th>\n",
       "      <td>40260</td>\n",
       "      <td>Org</td>\n",
       "      <td>2023-08-09 23:47:41</td>\n",
       "      <td>2023-08-09 23:51:41</td>\n",
       "      <td>4.0</td>\n",
       "      <td>8.394118</td>\n",
       "      <td>0</td>\n",
       "      <td>0</td>\n",
       "      <td>0</td>\n",
       "      <td>0</td>\n",
       "      <td>State/Lake</td>\n",
       "      <td>Midway</td>\n",
       "      <td>41.87734</td>\n",
       "      <td>-87.63369</td>\n",
       "      <td>14</td>\n",
       "      <td>14</td>\n",
       "      <td>0</td>\n",
       "      <td>23</td>\n",
       "    </tr>\n",
       "    <tr>\n",
       "      <th>2</th>\n",
       "      <td>40260</td>\n",
       "      <td>Pink</td>\n",
       "      <td>2023-08-09 23:47:26</td>\n",
       "      <td>2023-08-09 23:54:26</td>\n",
       "      <td>7.0</td>\n",
       "      <td>8.394118</td>\n",
       "      <td>0</td>\n",
       "      <td>0</td>\n",
       "      <td>0</td>\n",
       "      <td>0</td>\n",
       "      <td>State/Lake</td>\n",
       "      <td>54th/Cermak</td>\n",
       "      <td>41.88574</td>\n",
       "      <td>-87.62758</td>\n",
       "      <td>11</td>\n",
       "      <td>11</td>\n",
       "      <td>0</td>\n",
       "      <td>23</td>\n",
       "    </tr>\n",
       "    <tr>\n",
       "      <th>3</th>\n",
       "      <td>40260</td>\n",
       "      <td>G</td>\n",
       "      <td>2023-08-09 23:47:39</td>\n",
       "      <td>2023-08-09 23:56:39</td>\n",
       "      <td>9.0</td>\n",
       "      <td>8.394118</td>\n",
       "      <td>0</td>\n",
       "      <td>0</td>\n",
       "      <td>0</td>\n",
       "      <td>0</td>\n",
       "      <td>State/Lake</td>\n",
       "      <td>Ashland/63rd</td>\n",
       "      <td>41.88436</td>\n",
       "      <td>-87.69232</td>\n",
       "      <td>21</td>\n",
       "      <td>21</td>\n",
       "      <td>0</td>\n",
       "      <td>23</td>\n",
       "    </tr>\n",
       "    <tr>\n",
       "      <th>4</th>\n",
       "      <td>40260</td>\n",
       "      <td>Org</td>\n",
       "      <td>2023-08-09 23:47:33</td>\n",
       "      <td>2023-08-10 00:06:33</td>\n",
       "      <td>19.0</td>\n",
       "      <td>8.394118</td>\n",
       "      <td>1</td>\n",
       "      <td>0</td>\n",
       "      <td>0</td>\n",
       "      <td>0</td>\n",
       "      <td>State/Lake</td>\n",
       "      <td>Midway</td>\n",
       "      <td>41.83957</td>\n",
       "      <td>-87.66485</td>\n",
       "      <td>65</td>\n",
       "      <td>65</td>\n",
       "      <td>0</td>\n",
       "      <td>23</td>\n",
       "    </tr>\n",
       "    <tr>\n",
       "      <th>...</th>\n",
       "      <td>...</td>\n",
       "      <td>...</td>\n",
       "      <td>...</td>\n",
       "      <td>...</td>\n",
       "      <td>...</td>\n",
       "      <td>...</td>\n",
       "      <td>...</td>\n",
       "      <td>...</td>\n",
       "      <td>...</td>\n",
       "      <td>...</td>\n",
       "      <td>...</td>\n",
       "      <td>...</td>\n",
       "      <td>...</td>\n",
       "      <td>...</td>\n",
       "      <td>...</td>\n",
       "      <td>...</td>\n",
       "      <td>...</td>\n",
       "      <td>...</td>\n",
       "    </tr>\n",
       "    <tr>\n",
       "      <th>114225</th>\n",
       "      <td>41090</td>\n",
       "      <td>Red</td>\n",
       "      <td>2023-09-01 12:22:36</td>\n",
       "      <td>2023-09-01 12:27:36</td>\n",
       "      <td>5.0</td>\n",
       "      <td>13.471345</td>\n",
       "      <td>0</td>\n",
       "      <td>0</td>\n",
       "      <td>0</td>\n",
       "      <td>0</td>\n",
       "      <td>Monroe</td>\n",
       "      <td>Howard</td>\n",
       "      <td>41.86740</td>\n",
       "      <td>-87.62740</td>\n",
       "      <td>24</td>\n",
       "      <td>17</td>\n",
       "      <td>1</td>\n",
       "      <td>12</td>\n",
       "    </tr>\n",
       "    <tr>\n",
       "      <th>114226</th>\n",
       "      <td>41090</td>\n",
       "      <td>Red</td>\n",
       "      <td>2023-09-01 12:22:38</td>\n",
       "      <td>2023-09-01 12:29:38</td>\n",
       "      <td>7.0</td>\n",
       "      <td>13.471345</td>\n",
       "      <td>0</td>\n",
       "      <td>0</td>\n",
       "      <td>0</td>\n",
       "      <td>0</td>\n",
       "      <td>Monroe</td>\n",
       "      <td>95th/Dan Ryan</td>\n",
       "      <td>41.90392</td>\n",
       "      <td>-87.63141</td>\n",
       "      <td>7</td>\n",
       "      <td>6</td>\n",
       "      <td>1</td>\n",
       "      <td>12</td>\n",
       "    </tr>\n",
       "    <tr>\n",
       "      <th>114227</th>\n",
       "      <td>41090</td>\n",
       "      <td>Red</td>\n",
       "      <td>2023-09-01 12:22:57</td>\n",
       "      <td>2023-09-01 12:35:57</td>\n",
       "      <td>13.0</td>\n",
       "      <td>13.471345</td>\n",
       "      <td>0</td>\n",
       "      <td>0</td>\n",
       "      <td>0</td>\n",
       "      <td>0</td>\n",
       "      <td>Monroe</td>\n",
       "      <td>Howard</td>\n",
       "      <td>41.81552</td>\n",
       "      <td>-87.63026</td>\n",
       "      <td>67</td>\n",
       "      <td>67</td>\n",
       "      <td>0</td>\n",
       "      <td>12</td>\n",
       "    </tr>\n",
       "    <tr>\n",
       "      <th>114228</th>\n",
       "      <td>41090</td>\n",
       "      <td>Red</td>\n",
       "      <td>2023-09-01 12:22:34</td>\n",
       "      <td>2023-09-01 12:38:34</td>\n",
       "      <td>16.0</td>\n",
       "      <td>13.471345</td>\n",
       "      <td>0</td>\n",
       "      <td>0</td>\n",
       "      <td>0</td>\n",
       "      <td>0</td>\n",
       "      <td>Monroe</td>\n",
       "      <td>95th/Dan Ryan</td>\n",
       "      <td>41.93739</td>\n",
       "      <td>-87.65332</td>\n",
       "      <td>14</td>\n",
       "      <td>8</td>\n",
       "      <td>1</td>\n",
       "      <td>12</td>\n",
       "    </tr>\n",
       "    <tr>\n",
       "      <th>114229</th>\n",
       "      <td>41090</td>\n",
       "      <td>Red</td>\n",
       "      <td>2023-09-01 12:22:37</td>\n",
       "      <td>2023-09-01 12:43:37</td>\n",
       "      <td>21.0</td>\n",
       "      <td>13.471345</td>\n",
       "      <td>1</td>\n",
       "      <td>0</td>\n",
       "      <td>0</td>\n",
       "      <td>0</td>\n",
       "      <td>Monroe</td>\n",
       "      <td>Howard</td>\n",
       "      <td>41.76836</td>\n",
       "      <td>-87.62581</td>\n",
       "      <td>69</td>\n",
       "      <td>69</td>\n",
       "      <td>0</td>\n",
       "      <td>12</td>\n",
       "    </tr>\n",
       "  </tbody>\n",
       "</table>\n",
       "<p>114230 rows × 18 columns</p>\n",
       "</div>"
      ],
      "text/plain": [
       "        station_id  line      predicted_time        arrival_time  \\\n",
       "0            40260     G 2023-08-09 23:47:29 2023-08-09 23:51:29   \n",
       "1            40260   Org 2023-08-09 23:47:41 2023-08-09 23:51:41   \n",
       "2            40260  Pink 2023-08-09 23:47:26 2023-08-09 23:54:26   \n",
       "3            40260     G 2023-08-09 23:47:39 2023-08-09 23:56:39   \n",
       "4            40260   Org 2023-08-09 23:47:33 2023-08-10 00:06:33   \n",
       "...            ...   ...                 ...                 ...   \n",
       "114225       41090   Red 2023-09-01 12:22:36 2023-09-01 12:27:36   \n",
       "114226       41090   Red 2023-09-01 12:22:38 2023-09-01 12:29:38   \n",
       "114227       41090   Red 2023-09-01 12:22:57 2023-09-01 12:35:57   \n",
       "114228       41090   Red 2023-09-01 12:22:34 2023-09-01 12:38:34   \n",
       "114229       41090   Red 2023-09-01 12:22:37 2023-09-01 12:43:37   \n",
       "\n",
       "        wait_minutes  station_avg_wait  isLte  isSch  isFlt  isDly  \\\n",
       "0                4.0          8.394118      0      0      0      0   \n",
       "1                4.0          8.394118      0      0      0      0   \n",
       "2                7.0          8.394118      0      0      0      0   \n",
       "3                9.0          8.394118      0      0      0      0   \n",
       "4               19.0          8.394118      1      0      0      0   \n",
       "...              ...               ...    ...    ...    ...    ...   \n",
       "114225           5.0         13.471345      0      0      0      0   \n",
       "114226           7.0         13.471345      0      0      0      0   \n",
       "114227          13.0         13.471345      0      0      0      0   \n",
       "114228          16.0         13.471345      0      0      0      0   \n",
       "114229          21.0         13.471345      1      0      0      0   \n",
       "\n",
       "       station_name destination_name       lat      long  free_flow_speed  \\\n",
       "0        State/Lake      Harlem/Lake  41.87360 -87.62679               15   \n",
       "1        State/Lake           Midway  41.87734 -87.63369               14   \n",
       "2        State/Lake      54th/Cermak  41.88574 -87.62758               11   \n",
       "3        State/Lake     Ashland/63rd  41.88436 -87.69232               21   \n",
       "4        State/Lake           Midway  41.83957 -87.66485               65   \n",
       "...             ...              ...       ...       ...              ...   \n",
       "114225       Monroe           Howard  41.86740 -87.62740               24   \n",
       "114226       Monroe    95th/Dan Ryan  41.90392 -87.63141                7   \n",
       "114227       Monroe           Howard  41.81552 -87.63026               67   \n",
       "114228       Monroe    95th/Dan Ryan  41.93739 -87.65332               14   \n",
       "114229       Monroe           Howard  41.76836 -87.62581               69   \n",
       "\n",
       "        current_speed  nearby_traffic  hour_of_day  \n",
       "0                  15               0           23  \n",
       "1                  14               0           23  \n",
       "2                  11               0           23  \n",
       "3                  21               0           23  \n",
       "4                  65               0           23  \n",
       "...               ...             ...          ...  \n",
       "114225             17               1           12  \n",
       "114226              6               1           12  \n",
       "114227             67               0           12  \n",
       "114228              8               1           12  \n",
       "114229             69               0           12  \n",
       "\n",
       "[114230 rows x 18 columns]"
      ]
     },
     "execution_count": 33,
     "metadata": {},
     "output_type": "execute_result"
    }
   ],
   "source": [
    "# Extract the hour from 'predicted_time' and create a new column 'hour_of_day'\n",
    "df['hour_of_day'] = df['predicted_time'].dt.hour\n",
    "\n",
    "df"
   ]
  },
  {
   "cell_type": "code",
   "execution_count": 34,
   "metadata": {},
   "outputs": [
    {
     "name": "stdout",
     "output_type": "stream",
     "text": [
      "<class 'pandas.core.frame.DataFrame'>\n",
      "RangeIndex: 114230 entries, 0 to 114229\n",
      "Data columns (total 18 columns):\n",
      " #   Column            Non-Null Count   Dtype         \n",
      "---  ------            --------------   -----         \n",
      " 0   station_id        114230 non-null  int64         \n",
      " 1   line              114230 non-null  object        \n",
      " 2   predicted_time    114230 non-null  datetime64[ns]\n",
      " 3   arrival_time      114230 non-null  datetime64[ns]\n",
      " 4   wait_minutes      114230 non-null  float64       \n",
      " 5   station_avg_wait  114230 non-null  float64       \n",
      " 6   isLte             114230 non-null  int64         \n",
      " 7   isSch             114230 non-null  int64         \n",
      " 8   isFlt             114230 non-null  int64         \n",
      " 9   isDly             114230 non-null  int64         \n",
      " 10  station_name      114230 non-null  object        \n",
      " 11  destination_name  114230 non-null  object        \n",
      " 12  lat               114230 non-null  float64       \n",
      " 13  long              114230 non-null  float64       \n",
      " 14  free_flow_speed   114230 non-null  int64         \n",
      " 15  current_speed     114230 non-null  int64         \n",
      " 16  nearby_traffic    114230 non-null  int64         \n",
      " 17  hour_of_day       114230 non-null  int64         \n",
      "dtypes: datetime64[ns](2), float64(4), int64(9), object(3)\n",
      "memory usage: 15.7+ MB\n"
     ]
    }
   ],
   "source": [
    "df.info()"
   ]
  },
  {
   "cell_type": "markdown",
   "metadata": {},
   "source": [
    "<div style=\"text-align:center; font-size: 18px; font-weight: bold;\"> Dropping Unwanted Columns Before Training the Model </div>"
   ]
  },
  {
   "cell_type": "code",
   "execution_count": 35,
   "metadata": {},
   "outputs": [
    {
     "data": {
      "text/html": [
       "<div>\n",
       "<style scoped>\n",
       "    .dataframe tbody tr th:only-of-type {\n",
       "        vertical-align: middle;\n",
       "    }\n",
       "\n",
       "    .dataframe tbody tr th {\n",
       "        vertical-align: top;\n",
       "    }\n",
       "\n",
       "    .dataframe thead th {\n",
       "        text-align: right;\n",
       "    }\n",
       "</style>\n",
       "<table border=\"1\" class=\"dataframe\">\n",
       "  <thead>\n",
       "    <tr style=\"text-align: right;\">\n",
       "      <th></th>\n",
       "      <th>station_id</th>\n",
       "      <th>line</th>\n",
       "      <th>wait_minutes</th>\n",
       "      <th>station_avg_wait</th>\n",
       "      <th>isLte</th>\n",
       "      <th>isDly</th>\n",
       "      <th>free_flow_speed</th>\n",
       "      <th>current_speed</th>\n",
       "      <th>nearby_traffic</th>\n",
       "      <th>hour_of_day</th>\n",
       "    </tr>\n",
       "  </thead>\n",
       "  <tbody>\n",
       "    <tr>\n",
       "      <th>0</th>\n",
       "      <td>40260</td>\n",
       "      <td>G</td>\n",
       "      <td>4.0</td>\n",
       "      <td>8.394118</td>\n",
       "      <td>0</td>\n",
       "      <td>0</td>\n",
       "      <td>15</td>\n",
       "      <td>15</td>\n",
       "      <td>0</td>\n",
       "      <td>23</td>\n",
       "    </tr>\n",
       "    <tr>\n",
       "      <th>1</th>\n",
       "      <td>40260</td>\n",
       "      <td>Org</td>\n",
       "      <td>4.0</td>\n",
       "      <td>8.394118</td>\n",
       "      <td>0</td>\n",
       "      <td>0</td>\n",
       "      <td>14</td>\n",
       "      <td>14</td>\n",
       "      <td>0</td>\n",
       "      <td>23</td>\n",
       "    </tr>\n",
       "    <tr>\n",
       "      <th>2</th>\n",
       "      <td>40260</td>\n",
       "      <td>Pink</td>\n",
       "      <td>7.0</td>\n",
       "      <td>8.394118</td>\n",
       "      <td>0</td>\n",
       "      <td>0</td>\n",
       "      <td>11</td>\n",
       "      <td>11</td>\n",
       "      <td>0</td>\n",
       "      <td>23</td>\n",
       "    </tr>\n",
       "    <tr>\n",
       "      <th>3</th>\n",
       "      <td>40260</td>\n",
       "      <td>G</td>\n",
       "      <td>9.0</td>\n",
       "      <td>8.394118</td>\n",
       "      <td>0</td>\n",
       "      <td>0</td>\n",
       "      <td>21</td>\n",
       "      <td>21</td>\n",
       "      <td>0</td>\n",
       "      <td>23</td>\n",
       "    </tr>\n",
       "    <tr>\n",
       "      <th>4</th>\n",
       "      <td>40260</td>\n",
       "      <td>Org</td>\n",
       "      <td>19.0</td>\n",
       "      <td>8.394118</td>\n",
       "      <td>1</td>\n",
       "      <td>0</td>\n",
       "      <td>65</td>\n",
       "      <td>65</td>\n",
       "      <td>0</td>\n",
       "      <td>23</td>\n",
       "    </tr>\n",
       "    <tr>\n",
       "      <th>...</th>\n",
       "      <td>...</td>\n",
       "      <td>...</td>\n",
       "      <td>...</td>\n",
       "      <td>...</td>\n",
       "      <td>...</td>\n",
       "      <td>...</td>\n",
       "      <td>...</td>\n",
       "      <td>...</td>\n",
       "      <td>...</td>\n",
       "      <td>...</td>\n",
       "    </tr>\n",
       "    <tr>\n",
       "      <th>114225</th>\n",
       "      <td>41090</td>\n",
       "      <td>Red</td>\n",
       "      <td>5.0</td>\n",
       "      <td>13.471345</td>\n",
       "      <td>0</td>\n",
       "      <td>0</td>\n",
       "      <td>24</td>\n",
       "      <td>17</td>\n",
       "      <td>1</td>\n",
       "      <td>12</td>\n",
       "    </tr>\n",
       "    <tr>\n",
       "      <th>114226</th>\n",
       "      <td>41090</td>\n",
       "      <td>Red</td>\n",
       "      <td>7.0</td>\n",
       "      <td>13.471345</td>\n",
       "      <td>0</td>\n",
       "      <td>0</td>\n",
       "      <td>7</td>\n",
       "      <td>6</td>\n",
       "      <td>1</td>\n",
       "      <td>12</td>\n",
       "    </tr>\n",
       "    <tr>\n",
       "      <th>114227</th>\n",
       "      <td>41090</td>\n",
       "      <td>Red</td>\n",
       "      <td>13.0</td>\n",
       "      <td>13.471345</td>\n",
       "      <td>0</td>\n",
       "      <td>0</td>\n",
       "      <td>67</td>\n",
       "      <td>67</td>\n",
       "      <td>0</td>\n",
       "      <td>12</td>\n",
       "    </tr>\n",
       "    <tr>\n",
       "      <th>114228</th>\n",
       "      <td>41090</td>\n",
       "      <td>Red</td>\n",
       "      <td>16.0</td>\n",
       "      <td>13.471345</td>\n",
       "      <td>0</td>\n",
       "      <td>0</td>\n",
       "      <td>14</td>\n",
       "      <td>8</td>\n",
       "      <td>1</td>\n",
       "      <td>12</td>\n",
       "    </tr>\n",
       "    <tr>\n",
       "      <th>114229</th>\n",
       "      <td>41090</td>\n",
       "      <td>Red</td>\n",
       "      <td>21.0</td>\n",
       "      <td>13.471345</td>\n",
       "      <td>1</td>\n",
       "      <td>0</td>\n",
       "      <td>69</td>\n",
       "      <td>69</td>\n",
       "      <td>0</td>\n",
       "      <td>12</td>\n",
       "    </tr>\n",
       "  </tbody>\n",
       "</table>\n",
       "<p>114230 rows × 10 columns</p>\n",
       "</div>"
      ],
      "text/plain": [
       "        station_id  line  wait_minutes  station_avg_wait  isLte  isDly  \\\n",
       "0            40260     G           4.0          8.394118      0      0   \n",
       "1            40260   Org           4.0          8.394118      0      0   \n",
       "2            40260  Pink           7.0          8.394118      0      0   \n",
       "3            40260     G           9.0          8.394118      0      0   \n",
       "4            40260   Org          19.0          8.394118      1      0   \n",
       "...            ...   ...           ...               ...    ...    ...   \n",
       "114225       41090   Red           5.0         13.471345      0      0   \n",
       "114226       41090   Red           7.0         13.471345      0      0   \n",
       "114227       41090   Red          13.0         13.471345      0      0   \n",
       "114228       41090   Red          16.0         13.471345      0      0   \n",
       "114229       41090   Red          21.0         13.471345      1      0   \n",
       "\n",
       "        free_flow_speed  current_speed  nearby_traffic  hour_of_day  \n",
       "0                    15             15               0           23  \n",
       "1                    14             14               0           23  \n",
       "2                    11             11               0           23  \n",
       "3                    21             21               0           23  \n",
       "4                    65             65               0           23  \n",
       "...                 ...            ...             ...          ...  \n",
       "114225               24             17               1           12  \n",
       "114226                7              6               1           12  \n",
       "114227               67             67               0           12  \n",
       "114228               14              8               1           12  \n",
       "114229               69             69               0           12  \n",
       "\n",
       "[114230 rows x 10 columns]"
      ]
     },
     "execution_count": 35,
     "metadata": {},
     "output_type": "execute_result"
    }
   ],
   "source": [
    "# List of columns to drop\n",
    "columns_to_drop = ['isSch', 'isFlt', 'lat', 'long', 'station_name', 'destination_name', 'predicted_time', 'arrival_time']\n",
    "\n",
    "# Drop the specified columns from the DataFrame\n",
    "df2 = df.drop(columns=columns_to_drop)\n",
    "\n",
    "df2"
   ]
  },
  {
   "cell_type": "markdown",
   "metadata": {},
   "source": [
    "<div style=\"text-align:center; font-size: 24px; font-weight: bold;\"> Training the Model </div>\n",
    "<br style=\"line-height: 3px;\">\n"
   ]
  },
  {
   "cell_type": "markdown",
   "metadata": {},
   "source": [
    "### APPLY ENCODER"
   ]
  },
  {
   "cell_type": "code",
   "execution_count": 38,
   "metadata": {
    "collapsed": true
   },
   "outputs": [
    {
     "ename": "KeyError",
     "evalue": "'line'",
     "output_type": "error",
     "traceback": [
      "\u001b[1;31m---------------------------------------------------------------------------\u001b[0m",
      "\u001b[1;31mKeyError\u001b[0m                                  Traceback (most recent call last)",
      "\u001b[1;32m~\\anaconda3\\envs\\learn-env\\lib\\site-packages\\pandas\\core\\indexes\\base.py\u001b[0m in \u001b[0;36mget_loc\u001b[1;34m(self, key, method, tolerance)\u001b[0m\n\u001b[0;32m   2894\u001b[0m             \u001b[1;32mtry\u001b[0m\u001b[1;33m:\u001b[0m\u001b[1;33m\u001b[0m\u001b[1;33m\u001b[0m\u001b[0m\n\u001b[1;32m-> 2895\u001b[1;33m                 \u001b[1;32mreturn\u001b[0m \u001b[0mself\u001b[0m\u001b[1;33m.\u001b[0m\u001b[0m_engine\u001b[0m\u001b[1;33m.\u001b[0m\u001b[0mget_loc\u001b[0m\u001b[1;33m(\u001b[0m\u001b[0mcasted_key\u001b[0m\u001b[1;33m)\u001b[0m\u001b[1;33m\u001b[0m\u001b[1;33m\u001b[0m\u001b[0m\n\u001b[0m\u001b[0;32m   2896\u001b[0m             \u001b[1;32mexcept\u001b[0m \u001b[0mKeyError\u001b[0m \u001b[1;32mas\u001b[0m \u001b[0merr\u001b[0m\u001b[1;33m:\u001b[0m\u001b[1;33m\u001b[0m\u001b[1;33m\u001b[0m\u001b[0m\n",
      "\u001b[1;32mpandas\\_libs\\index.pyx\u001b[0m in \u001b[0;36mpandas._libs.index.IndexEngine.get_loc\u001b[1;34m()\u001b[0m\n",
      "\u001b[1;32mpandas\\_libs\\index.pyx\u001b[0m in \u001b[0;36mpandas._libs.index.IndexEngine.get_loc\u001b[1;34m()\u001b[0m\n",
      "\u001b[1;32mpandas\\_libs\\hashtable_class_helper.pxi\u001b[0m in \u001b[0;36mpandas._libs.hashtable.PyObjectHashTable.get_item\u001b[1;34m()\u001b[0m\n",
      "\u001b[1;32mpandas\\_libs\\hashtable_class_helper.pxi\u001b[0m in \u001b[0;36mpandas._libs.hashtable.PyObjectHashTable.get_item\u001b[1;34m()\u001b[0m\n",
      "\u001b[1;31mKeyError\u001b[0m: 'line'",
      "\nThe above exception was the direct cause of the following exception:\n",
      "\u001b[1;31mKeyError\u001b[0m                                  Traceback (most recent call last)",
      "\u001b[1;32m<ipython-input-38-5a44be037e1f>\u001b[0m in \u001b[0;36m<module>\u001b[1;34m\u001b[0m\n\u001b[0;32m      5\u001b[0m \u001b[1;33m\u001b[0m\u001b[0m\n\u001b[0;32m      6\u001b[0m \u001b[1;31m# Reshape the 'line' column to a 2D array-like structure\u001b[0m\u001b[1;33m\u001b[0m\u001b[1;33m\u001b[0m\u001b[1;33m\u001b[0m\u001b[0m\n\u001b[1;32m----> 7\u001b[1;33m \u001b[0mlines_reshaped\u001b[0m \u001b[1;33m=\u001b[0m \u001b[0mdf2\u001b[0m\u001b[1;33m[\u001b[0m\u001b[1;34m'line'\u001b[0m\u001b[1;33m]\u001b[0m\u001b[1;33m.\u001b[0m\u001b[0mvalues\u001b[0m\u001b[1;33m.\u001b[0m\u001b[0mreshape\u001b[0m\u001b[1;33m(\u001b[0m\u001b[1;33m-\u001b[0m\u001b[1;36m1\u001b[0m\u001b[1;33m,\u001b[0m \u001b[1;36m1\u001b[0m\u001b[1;33m)\u001b[0m\u001b[1;33m\u001b[0m\u001b[1;33m\u001b[0m\u001b[0m\n\u001b[0m\u001b[0;32m      8\u001b[0m \u001b[1;33m\u001b[0m\u001b[0m\n\u001b[0;32m      9\u001b[0m \u001b[1;31m# Fit and transform the OHE on the reshaped 'line' column\u001b[0m\u001b[1;33m\u001b[0m\u001b[1;33m\u001b[0m\u001b[1;33m\u001b[0m\u001b[0m\n",
      "\u001b[1;32m~\\anaconda3\\envs\\learn-env\\lib\\site-packages\\pandas\\core\\frame.py\u001b[0m in \u001b[0;36m__getitem__\u001b[1;34m(self, key)\u001b[0m\n\u001b[0;32m   2900\u001b[0m             \u001b[1;32mif\u001b[0m \u001b[0mself\u001b[0m\u001b[1;33m.\u001b[0m\u001b[0mcolumns\u001b[0m\u001b[1;33m.\u001b[0m\u001b[0mnlevels\u001b[0m \u001b[1;33m>\u001b[0m \u001b[1;36m1\u001b[0m\u001b[1;33m:\u001b[0m\u001b[1;33m\u001b[0m\u001b[1;33m\u001b[0m\u001b[0m\n\u001b[0;32m   2901\u001b[0m                 \u001b[1;32mreturn\u001b[0m \u001b[0mself\u001b[0m\u001b[1;33m.\u001b[0m\u001b[0m_getitem_multilevel\u001b[0m\u001b[1;33m(\u001b[0m\u001b[0mkey\u001b[0m\u001b[1;33m)\u001b[0m\u001b[1;33m\u001b[0m\u001b[1;33m\u001b[0m\u001b[0m\n\u001b[1;32m-> 2902\u001b[1;33m             \u001b[0mindexer\u001b[0m \u001b[1;33m=\u001b[0m \u001b[0mself\u001b[0m\u001b[1;33m.\u001b[0m\u001b[0mcolumns\u001b[0m\u001b[1;33m.\u001b[0m\u001b[0mget_loc\u001b[0m\u001b[1;33m(\u001b[0m\u001b[0mkey\u001b[0m\u001b[1;33m)\u001b[0m\u001b[1;33m\u001b[0m\u001b[1;33m\u001b[0m\u001b[0m\n\u001b[0m\u001b[0;32m   2903\u001b[0m             \u001b[1;32mif\u001b[0m \u001b[0mis_integer\u001b[0m\u001b[1;33m(\u001b[0m\u001b[0mindexer\u001b[0m\u001b[1;33m)\u001b[0m\u001b[1;33m:\u001b[0m\u001b[1;33m\u001b[0m\u001b[1;33m\u001b[0m\u001b[0m\n\u001b[0;32m   2904\u001b[0m                 \u001b[0mindexer\u001b[0m \u001b[1;33m=\u001b[0m \u001b[1;33m[\u001b[0m\u001b[0mindexer\u001b[0m\u001b[1;33m]\u001b[0m\u001b[1;33m\u001b[0m\u001b[1;33m\u001b[0m\u001b[0m\n",
      "\u001b[1;32m~\\anaconda3\\envs\\learn-env\\lib\\site-packages\\pandas\\core\\indexes\\base.py\u001b[0m in \u001b[0;36mget_loc\u001b[1;34m(self, key, method, tolerance)\u001b[0m\n\u001b[0;32m   2895\u001b[0m                 \u001b[1;32mreturn\u001b[0m \u001b[0mself\u001b[0m\u001b[1;33m.\u001b[0m\u001b[0m_engine\u001b[0m\u001b[1;33m.\u001b[0m\u001b[0mget_loc\u001b[0m\u001b[1;33m(\u001b[0m\u001b[0mcasted_key\u001b[0m\u001b[1;33m)\u001b[0m\u001b[1;33m\u001b[0m\u001b[1;33m\u001b[0m\u001b[0m\n\u001b[0;32m   2896\u001b[0m             \u001b[1;32mexcept\u001b[0m \u001b[0mKeyError\u001b[0m \u001b[1;32mas\u001b[0m \u001b[0merr\u001b[0m\u001b[1;33m:\u001b[0m\u001b[1;33m\u001b[0m\u001b[1;33m\u001b[0m\u001b[0m\n\u001b[1;32m-> 2897\u001b[1;33m                 \u001b[1;32mraise\u001b[0m \u001b[0mKeyError\u001b[0m\u001b[1;33m(\u001b[0m\u001b[0mkey\u001b[0m\u001b[1;33m)\u001b[0m \u001b[1;32mfrom\u001b[0m \u001b[0merr\u001b[0m\u001b[1;33m\u001b[0m\u001b[1;33m\u001b[0m\u001b[0m\n\u001b[0m\u001b[0;32m   2898\u001b[0m \u001b[1;33m\u001b[0m\u001b[0m\n\u001b[0;32m   2899\u001b[0m         \u001b[1;32mif\u001b[0m \u001b[0mtolerance\u001b[0m \u001b[1;32mis\u001b[0m \u001b[1;32mnot\u001b[0m \u001b[1;32mNone\u001b[0m\u001b[1;33m:\u001b[0m\u001b[1;33m\u001b[0m\u001b[1;33m\u001b[0m\u001b[0m\n",
      "\u001b[1;31mKeyError\u001b[0m: 'line'"
     ]
    }
   ],
   "source": [
    "from sklearn.preprocessing import OneHotEncoder\n",
    "\n",
    "# Create an instance of the OneHotEncoder\n",
    "ohe = OneHotEncoder()\n",
    "\n",
    "# Reshape the 'line' column to a 2D array-like structure\n",
    "lines_reshaped = df2['line'].values.reshape(-1, 1)\n",
    "\n",
    "# Fit and transform the OHE on the reshaped 'line' column\n",
    "encoded_lines = ohe.fit_transform(lines_reshaped)\n",
    "\n",
    "# Get the feature names for the encoded columns\n",
    "encoded_feature_names = ohe.get_feature_names_out(['line'])\n",
    "\n",
    "# Convert the encoded lines to a dense array and create a DataFrame\n",
    "encoded_lines_df = pd.DataFrame(encoded_lines.toarray(), columns=encoded_feature_names)\n",
    "\n",
    "# Concatenate the encoded lines DataFrame with the original DataFrame\n",
    "df2 = pd.concat([df2, encoded_lines_df], axis=1)\n",
    "\n",
    "# Drop the original 'line' column\n",
    "df2.drop(['line'], axis=1, inplace=True)"
   ]
  },
  {
   "cell_type": "code",
   "execution_count": 39,
   "metadata": {},
   "outputs": [
    {
     "data": {
      "text/html": [
       "<div>\n",
       "<style scoped>\n",
       "    .dataframe tbody tr th:only-of-type {\n",
       "        vertical-align: middle;\n",
       "    }\n",
       "\n",
       "    .dataframe tbody tr th {\n",
       "        vertical-align: top;\n",
       "    }\n",
       "\n",
       "    .dataframe thead th {\n",
       "        text-align: right;\n",
       "    }\n",
       "</style>\n",
       "<table border=\"1\" class=\"dataframe\">\n",
       "  <thead>\n",
       "    <tr style=\"text-align: right;\">\n",
       "      <th></th>\n",
       "      <th>station_id</th>\n",
       "      <th>wait_minutes</th>\n",
       "      <th>station_avg_wait</th>\n",
       "      <th>isLte</th>\n",
       "      <th>isDly</th>\n",
       "      <th>free_flow_speed</th>\n",
       "      <th>current_speed</th>\n",
       "      <th>nearby_traffic</th>\n",
       "      <th>hour_of_day</th>\n",
       "      <th>line_Blue</th>\n",
       "      <th>line_Brn</th>\n",
       "      <th>line_G</th>\n",
       "      <th>line_Org</th>\n",
       "      <th>line_P</th>\n",
       "      <th>line_Pink</th>\n",
       "      <th>line_Red</th>\n",
       "      <th>line_Y</th>\n",
       "    </tr>\n",
       "  </thead>\n",
       "  <tbody>\n",
       "    <tr>\n",
       "      <th>0</th>\n",
       "      <td>40260</td>\n",
       "      <td>4.0</td>\n",
       "      <td>8.394118</td>\n",
       "      <td>0</td>\n",
       "      <td>0</td>\n",
       "      <td>15</td>\n",
       "      <td>15</td>\n",
       "      <td>0</td>\n",
       "      <td>23</td>\n",
       "      <td>0.0</td>\n",
       "      <td>0.0</td>\n",
       "      <td>1.0</td>\n",
       "      <td>0.0</td>\n",
       "      <td>0.0</td>\n",
       "      <td>0.0</td>\n",
       "      <td>0.0</td>\n",
       "      <td>0.0</td>\n",
       "    </tr>\n",
       "    <tr>\n",
       "      <th>1</th>\n",
       "      <td>40260</td>\n",
       "      <td>4.0</td>\n",
       "      <td>8.394118</td>\n",
       "      <td>0</td>\n",
       "      <td>0</td>\n",
       "      <td>14</td>\n",
       "      <td>14</td>\n",
       "      <td>0</td>\n",
       "      <td>23</td>\n",
       "      <td>0.0</td>\n",
       "      <td>0.0</td>\n",
       "      <td>0.0</td>\n",
       "      <td>1.0</td>\n",
       "      <td>0.0</td>\n",
       "      <td>0.0</td>\n",
       "      <td>0.0</td>\n",
       "      <td>0.0</td>\n",
       "    </tr>\n",
       "    <tr>\n",
       "      <th>2</th>\n",
       "      <td>40260</td>\n",
       "      <td>7.0</td>\n",
       "      <td>8.394118</td>\n",
       "      <td>0</td>\n",
       "      <td>0</td>\n",
       "      <td>11</td>\n",
       "      <td>11</td>\n",
       "      <td>0</td>\n",
       "      <td>23</td>\n",
       "      <td>0.0</td>\n",
       "      <td>0.0</td>\n",
       "      <td>0.0</td>\n",
       "      <td>0.0</td>\n",
       "      <td>0.0</td>\n",
       "      <td>1.0</td>\n",
       "      <td>0.0</td>\n",
       "      <td>0.0</td>\n",
       "    </tr>\n",
       "    <tr>\n",
       "      <th>3</th>\n",
       "      <td>40260</td>\n",
       "      <td>9.0</td>\n",
       "      <td>8.394118</td>\n",
       "      <td>0</td>\n",
       "      <td>0</td>\n",
       "      <td>21</td>\n",
       "      <td>21</td>\n",
       "      <td>0</td>\n",
       "      <td>23</td>\n",
       "      <td>0.0</td>\n",
       "      <td>0.0</td>\n",
       "      <td>1.0</td>\n",
       "      <td>0.0</td>\n",
       "      <td>0.0</td>\n",
       "      <td>0.0</td>\n",
       "      <td>0.0</td>\n",
       "      <td>0.0</td>\n",
       "    </tr>\n",
       "    <tr>\n",
       "      <th>4</th>\n",
       "      <td>40260</td>\n",
       "      <td>19.0</td>\n",
       "      <td>8.394118</td>\n",
       "      <td>1</td>\n",
       "      <td>0</td>\n",
       "      <td>65</td>\n",
       "      <td>65</td>\n",
       "      <td>0</td>\n",
       "      <td>23</td>\n",
       "      <td>0.0</td>\n",
       "      <td>0.0</td>\n",
       "      <td>0.0</td>\n",
       "      <td>1.0</td>\n",
       "      <td>0.0</td>\n",
       "      <td>0.0</td>\n",
       "      <td>0.0</td>\n",
       "      <td>0.0</td>\n",
       "    </tr>\n",
       "  </tbody>\n",
       "</table>\n",
       "</div>"
      ],
      "text/plain": [
       "   station_id  wait_minutes  station_avg_wait  isLte  isDly  free_flow_speed  \\\n",
       "0       40260           4.0          8.394118      0      0               15   \n",
       "1       40260           4.0          8.394118      0      0               14   \n",
       "2       40260           7.0          8.394118      0      0               11   \n",
       "3       40260           9.0          8.394118      0      0               21   \n",
       "4       40260          19.0          8.394118      1      0               65   \n",
       "\n",
       "   current_speed  nearby_traffic  hour_of_day  line_Blue  line_Brn  line_G  \\\n",
       "0             15               0           23        0.0       0.0     1.0   \n",
       "1             14               0           23        0.0       0.0     0.0   \n",
       "2             11               0           23        0.0       0.0     0.0   \n",
       "3             21               0           23        0.0       0.0     1.0   \n",
       "4             65               0           23        0.0       0.0     0.0   \n",
       "\n",
       "   line_Org  line_P  line_Pink  line_Red  line_Y  \n",
       "0       0.0     0.0        0.0       0.0     0.0  \n",
       "1       1.0     0.0        0.0       0.0     0.0  \n",
       "2       0.0     0.0        1.0       0.0     0.0  \n",
       "3       0.0     0.0        0.0       0.0     0.0  \n",
       "4       1.0     0.0        0.0       0.0     0.0  "
      ]
     },
     "execution_count": 39,
     "metadata": {},
     "output_type": "execute_result"
    }
   ],
   "source": [
    "df2.head()"
   ]
  },
  {
   "cell_type": "code",
   "execution_count": 40,
   "metadata": {},
   "outputs": [
    {
     "data": {
      "text/plain": [
       "0    113665\n",
       "1       565\n",
       "Name: isDly, dtype: int64"
      ]
     },
     "execution_count": 40,
     "metadata": {},
     "output_type": "execute_result"
    }
   ],
   "source": [
    "df2['isDly'].value_counts()"
   ]
  },
  {
   "cell_type": "code",
   "execution_count": 41,
   "metadata": {},
   "outputs": [],
   "source": [
    "# Define your features (X) and target variable (y)\n",
    "X = df2.drop(['isDly'], axis = 1)  # Features\n",
    "y = df2['isDly']  # Target variable\n",
    "\n",
    "# Split the data into training and testing sets\n",
    "X_train, X_test, y_train, y_test = train_test_split(X, y, test_size = 0.2, random_state = 42)\n",
    "\n",
    "# Now X_train and y_train are your training data, and X_test and y_test are your testing data"
   ]
  },
  {
   "cell_type": "code",
   "execution_count": 42,
   "metadata": {
    "scrolled": true
   },
   "outputs": [
    {
     "name": "stdout",
     "output_type": "stream",
     "text": [
      "0    22732\n",
      "1      114\n",
      "Name: isDly, dtype: int64\n"
     ]
    }
   ],
   "source": [
    "class_distribution = y_test.value_counts()\n",
    "print(class_distribution)"
   ]
  },
  {
   "cell_type": "markdown",
   "metadata": {},
   "source": [
    "### SMOTE"
   ]
  },
  {
   "cell_type": "code",
   "execution_count": 43,
   "metadata": {},
   "outputs": [],
   "source": [
    "# Instantiate the SMOTE resampler\n",
    "smote = SMOTE(random_state=42)\n",
    "\n",
    "# Resample the training data using SMOTE\n",
    "X_train_resampled, y_train_resampled = smote.fit_resample(X_train, y_train)"
   ]
  },
  {
   "cell_type": "code",
   "execution_count": 44,
   "metadata": {
    "scrolled": true
   },
   "outputs": [
    {
     "name": "stdout",
     "output_type": "stream",
     "text": [
      "1    90933\n",
      "0    90933\n",
      "Name: isDly, dtype: int64\n"
     ]
    }
   ],
   "source": [
    "class_distribution = y_train_resampled.value_counts()\n",
    "print(class_distribution)"
   ]
  },
  {
   "cell_type": "markdown",
   "metadata": {},
   "source": [
    "### LOGISTIC REGRESSION"
   ]
  },
  {
   "cell_type": "code",
   "execution_count": 45,
   "metadata": {
    "collapsed": true
   },
   "outputs": [
    {
     "name": "stdout",
     "output_type": "stream",
     "text": [
      "Classification Report:\n",
      "               precision    recall  f1-score   support\n",
      "\n",
      "           0       0.00      0.00      0.00     22732\n",
      "           1       0.00      1.00      0.01       114\n",
      "\n",
      "    accuracy                           0.00     22846\n",
      "   macro avg       0.00      0.50      0.00     22846\n",
      "weighted avg       0.00      0.00      0.00     22846\n",
      "\n"
     ]
    },
    {
     "name": "stderr",
     "output_type": "stream",
     "text": [
      "C:\\Users\\simon\\anaconda3\\envs\\learn-env\\lib\\site-packages\\sklearn\\metrics\\_classification.py:1469: UndefinedMetricWarning: Precision and F-score are ill-defined and being set to 0.0 in labels with no predicted samples. Use `zero_division` parameter to control this behavior.\n",
      "  _warn_prf(average, modifier, msg_start, len(result))\n",
      "C:\\Users\\simon\\anaconda3\\envs\\learn-env\\lib\\site-packages\\sklearn\\metrics\\_classification.py:1469: UndefinedMetricWarning: Precision and F-score are ill-defined and being set to 0.0 in labels with no predicted samples. Use `zero_division` parameter to control this behavior.\n",
      "  _warn_prf(average, modifier, msg_start, len(result))\n",
      "C:\\Users\\simon\\anaconda3\\envs\\learn-env\\lib\\site-packages\\sklearn\\metrics\\_classification.py:1469: UndefinedMetricWarning: Precision and F-score are ill-defined and being set to 0.0 in labels with no predicted samples. Use `zero_division` parameter to control this behavior.\n",
      "  _warn_prf(average, modifier, msg_start, len(result))\n"
     ]
    }
   ],
   "source": [
    "from sklearn.linear_model import LogisticRegression\n",
    "from sklearn.metrics import classification_report\n",
    "\n",
    "# Create an instance of the LogisticRegression model\n",
    "logreg = LogisticRegression(random_state=42)\n",
    "\n",
    "# Train the model on the resampled training data\n",
    "logreg.fit(X_train_resampled, y_train_resampled)\n",
    "\n",
    "# Make predictions on the test set\n",
    "y_pred = logreg.predict(X_test)\n",
    "\n",
    "# Evaluate the model's performance\n",
    "print(\"Classification Report:\\n\", classification_report(y_test, y_pred))"
   ]
  },
  {
   "cell_type": "markdown",
   "metadata": {},
   "source": [
    "### RANDOM FOREST"
   ]
  },
  {
   "cell_type": "code",
   "execution_count": 46,
   "metadata": {},
   "outputs": [
    {
     "name": "stdout",
     "output_type": "stream",
     "text": [
      "Random Forest Test Set Accuracy: 0.9903265341854154\n",
      "Random Forest Test Set Precision: 0.05042016806722689\n",
      "Random Forest Test Set Recall: 0.05263157894736842\n",
      "Random Forest Test Set F1-score: 0.051502145922746774\n"
     ]
    }
   ],
   "source": [
    "from sklearn.ensemble import RandomForestClassifier\n",
    "from sklearn.metrics import accuracy_score, precision_score, recall_score, f1_score\n",
    "\n",
    "# Instantiate the Random Forest classifier\n",
    "rf_model = RandomForestClassifier(random_state = 42)\n",
    "\n",
    "# Train the model on the resampled training set\n",
    "rf_model.fit(X_train_resampled, y_train_resampled)\n",
    "\n",
    "# Predict on the test set\n",
    "rf_predictions = rf_model.predict(X_test)\n",
    "\n",
    "# Evaluate the model on the test set\n",
    "rf_accuracy = accuracy_score(y_test, rf_predictions)\n",
    "rf_precision = precision_score(y_test, rf_predictions)\n",
    "rf_recall = recall_score(y_test, rf_predictions)\n",
    "rf_f1 = f1_score(y_test, rf_predictions)\n",
    "\n",
    "print(\"Random Forest Test Set Accuracy:\", rf_accuracy)\n",
    "print(\"Random Forest Test Set Precision:\", rf_precision)\n",
    "print(\"Random Forest Test Set Recall:\", rf_recall)\n",
    "print(\"Random Forest Test Set F1-score:\", rf_f1)\n",
    "\n"
   ]
  },
  {
   "cell_type": "code",
   "execution_count": 47,
   "metadata": {},
   "outputs": [
    {
     "name": "stdout",
     "output_type": "stream",
     "text": [
      "           Feature  Importance\n",
      "4  free_flow_speed    0.103242\n",
      "7      hour_of_day    0.100233\n",
      "1     wait_minutes    0.099152\n",
      "5    current_speed    0.095208\n",
      "0       station_id    0.085231\n"
     ]
    }
   ],
   "source": [
    "# Get the feature importances\n",
    "feature_importances_rf = rf_model.feature_importances_\n",
    "\n",
    "# Create a DataFrame to display feature importances\n",
    "importance_df_rf = pd.DataFrame({'Feature': X_train.columns, 'Importance': feature_importances_rf})\n",
    "\n",
    "# Sort the DataFrame by importance in descending order\n",
    "importance_df_rf = importance_df_rf.sort_values(by='Importance', ascending=False)\n",
    "\n",
    "# Display the top most important features\n",
    "print(importance_df_rf.head())"
   ]
  },
  {
   "cell_type": "markdown",
   "metadata": {},
   "source": [
    "### GRADIENT BOOSTING"
   ]
  },
  {
   "cell_type": "code",
   "execution_count": 48,
   "metadata": {},
   "outputs": [
    {
     "name": "stdout",
     "output_type": "stream",
     "text": [
      "XGBoost Test Set Accuracy: 0.9910268756018559\n",
      "XGBoost Test Set Precision: 0.1111111111111111\n",
      "XGBoost Test Set Recall: 0.11403508771929824\n",
      "XGBoost Test Set F1-score: 0.11255411255411256\n"
     ]
    }
   ],
   "source": [
    "from xgboost import XGBClassifier\n",
    "from sklearn.metrics import accuracy_score, precision_score, recall_score, f1_score\n",
    "\n",
    "# Instantiate the XGBoost classifier\n",
    "xgb_model = XGBClassifier(random_state = 42)\n",
    "\n",
    "# Fit the model on the resampled training data\n",
    "xgb_model.fit(X_train_resampled, y_train_resampled)\n",
    "\n",
    "# Predictions on the test set\n",
    "xgb_predictions = xgb_model.predict(X_test)\n",
    "\n",
    "# Evaluate the model on the test set\n",
    "xgb_accuracy = accuracy_score(y_test, xgb_predictions)\n",
    "xgb_precision = precision_score(y_test, xgb_predictions)\n",
    "xgb_recall = recall_score(y_test, xgb_predictions)\n",
    "xgb_f1 = f1_score(y_test, xgb_predictions)\n",
    "\n",
    "print(\"XGBoost Test Set Accuracy:\", xgb_accuracy)\n",
    "print(\"XGBoost Test Set Precision:\", xgb_precision)\n",
    "print(\"XGBoost Test Set Recall:\", xgb_recall)\n",
    "print(\"XGBoost Test Set F1-score:\", xgb_f1)\n"
   ]
  },
  {
   "cell_type": "code",
   "execution_count": 49,
   "metadata": {},
   "outputs": [
    {
     "name": "stdout",
     "output_type": "stream",
     "text": [
      "           Feature  Importance\n",
      "13       line_Pink    0.180875\n",
      "9         line_Brn    0.120278\n",
      "6   nearby_traffic    0.092199\n",
      "8        line_Blue    0.091500\n",
      "14        line_Red    0.082124\n"
     ]
    }
   ],
   "source": [
    "# Get the feature importances\n",
    "feature_importances_xgb = xgb_model.feature_importances_\n",
    "\n",
    "# Create a DataFrame to display feature importances\n",
    "importance_df_xgb = pd.DataFrame({'Feature': X_train.columns, 'Importance': feature_importances_xgb})\n",
    "\n",
    "# Sort the DataFrame by importance in descending order\n",
    "importance_df_xgb = importance_df_xgb.sort_values(by='Importance', ascending=False)\n",
    "\n",
    "# Display the top most important features\n",
    "print(importance_df_xgb.head())"
   ]
  },
  {
   "cell_type": "markdown",
   "metadata": {},
   "source": [
    "### DECISION TREE"
   ]
  },
  {
   "cell_type": "code",
   "execution_count": 62,
   "metadata": {},
   "outputs": [
    {
     "name": "stdout",
     "output_type": "stream",
     "text": [
      "             Feature  Importance\n",
      "7        hour_of_day    0.119198\n",
      "4    free_flow_speed    0.117113\n",
      "2   station_avg_wait    0.092699\n",
      "1       wait_minutes    0.090167\n",
      "5      current_speed    0.088702\n",
      "6     nearby_traffic    0.077073\n",
      "0         station_id    0.068111\n",
      "14          line_Red    0.058729\n",
      "10            line_G    0.051009\n",
      "8          line_Blue    0.046670\n"
     ]
    }
   ],
   "source": [
    "from sklearn.tree import DecisionTreeClassifier\n",
    "\n",
    "# Create a binomial decision tree classifier\n",
    "binomial_tree = DecisionTreeClassifier(random_state = 42)\n",
    "\n",
    "# Train the decision tree on the training data\n",
    "binomial_tree.fit(X_train_resampled, y_train_resampled)\n",
    "\n",
    "# Get the feature importances\n",
    "feature_importances = binomial_tree.feature_importances_\n",
    "\n",
    "# Create a DataFrame to display feature importances\n",
    "importance_df = pd.DataFrame({'Feature': X_train.columns, 'Importance': feature_importances})\n",
    "\n",
    "# Sort the DataFrame by importance in descending order\n",
    "importance_df = importance_df.sort_values(by='Importance', ascending=False)\n",
    "\n",
    "# Display the top most important features\n",
    "print(importance_df.head(10))"
   ]
  },
  {
   "cell_type": "code",
   "execution_count": 63,
   "metadata": {
    "scrolled": true
   },
   "outputs": [
    {
     "name": "stdout",
     "output_type": "stream",
     "text": [
      "Binomial Decision Tree Test Set Accuracy: 0.9856867723014969\n",
      "Binomial Decision Tree Test Set Precision: 0.08560311284046693\n",
      "Binomial Decision Tree Test Set Recall: 0.19298245614035087\n",
      "Binomial Decision Tree Test Set F1-score: 0.11859838274932617\n"
     ]
    }
   ],
   "source": [
    "from sklearn.metrics import accuracy_score, precision_score, recall_score, f1_score\n",
    "\n",
    "# Make predictions on the test set\n",
    "binomial_tree_predictions = binomial_tree.predict(X_test)\n",
    "\n",
    "# Calculate accuracy\n",
    "binomial_tree_accuracy = accuracy_score(y_test, binomial_tree_predictions)\n",
    "\n",
    "# Calculate precision\n",
    "binomial_tree_precision = precision_score(y_test, binomial_tree_predictions)\n",
    "\n",
    "# Calculate recall\n",
    "binomial_tree_recall = recall_score(y_test, binomial_tree_predictions)\n",
    "\n",
    "# Calculate F1-score\n",
    "binomial_tree_f1_score = f1_score(y_test, binomial_tree_predictions)\n",
    "\n",
    "# Display the evaluation metrics\n",
    "print(\"Binomial Decision Tree Test Set Accuracy:\", binomial_tree_accuracy)\n",
    "print(\"Binomial Decision Tree Test Set Precision:\", binomial_tree_precision)\n",
    "print(\"Binomial Decision Tree Test Set Recall:\", binomial_tree_recall)\n",
    "print(\"Binomial Decision Tree Test Set F1-score:\", binomial_tree_f1_score)"
   ]
  },
  {
   "cell_type": "markdown",
   "metadata": {},
   "source": [
    "### TPOT"
   ]
  },
  {
   "cell_type": "code",
   "execution_count": 54,
   "metadata": {},
   "outputs": [],
   "source": [
    "from tpot import TPOTClassifier"
   ]
  },
  {
   "cell_type": "code",
   "execution_count": 55,
   "metadata": {},
   "outputs": [],
   "source": [
    "tpot = TPOTClassifier(\n",
    "    generations = 5,  # Number of iterations or generations for the search\n",
    "    population_size = 20,  # Number of individuals in each generation\n",
    "    verbosity = 2,  # Control the level of detail in the output\n",
    "    random_state = 42,  # Seed for reproducibility\n",
    "    config_dict = 'TPOT sparse'  # Use a predefined configuration for sparse data\n",
    ")"
   ]
  },
  {
   "cell_type": "code",
   "execution_count": 56,
   "metadata": {
    "scrolled": true
   },
   "outputs": [
    {
     "data": {
      "application/vnd.jupyter.widget-view+json": {
       "model_id": "",
       "version_major": 2,
       "version_minor": 0
      },
      "text/plain": [
       "HBox(children=(HTML(value='Optimization Progress'), FloatProgress(value=0.0, max=120.0), HTML(value='')))"
      ]
     },
     "metadata": {},
     "output_type": "display_data"
    },
    {
     "name": "stdout",
     "output_type": "stream",
     "text": [
      "\n",
      "Generation 1 - Current best internal CV score: 0.9951008248932837\n",
      "\n",
      "Generation 2 - Current best internal CV score: 0.995183299422299\n",
      "\n",
      "Generation 3 - Current best internal CV score: 0.995183299422299\n",
      "\n",
      "Generation 4 - Current best internal CV score: 0.9951887998204294\n",
      "\n",
      "Generation 5 - Current best internal CV score: 0.9951887998204294\n",
      "\n",
      "Best pipeline: XGBClassifier(input_matrix, learning_rate=1.0, max_depth=6, min_child_weight=14, n_estimators=100, n_jobs=1, subsample=0.4, verbosity=0)\n"
     ]
    },
    {
     "data": {
      "text/html": [
       "<style>#sk-container-id-1 {color: black;}#sk-container-id-1 pre{padding: 0;}#sk-container-id-1 div.sk-toggleable {background-color: white;}#sk-container-id-1 label.sk-toggleable__label {cursor: pointer;display: block;width: 100%;margin-bottom: 0;padding: 0.3em;box-sizing: border-box;text-align: center;}#sk-container-id-1 label.sk-toggleable__label-arrow:before {content: \"▸\";float: left;margin-right: 0.25em;color: #696969;}#sk-container-id-1 label.sk-toggleable__label-arrow:hover:before {color: black;}#sk-container-id-1 div.sk-estimator:hover label.sk-toggleable__label-arrow:before {color: black;}#sk-container-id-1 div.sk-toggleable__content {max-height: 0;max-width: 0;overflow: hidden;text-align: left;background-color: #f0f8ff;}#sk-container-id-1 div.sk-toggleable__content pre {margin: 0.2em;color: black;border-radius: 0.25em;background-color: #f0f8ff;}#sk-container-id-1 input.sk-toggleable__control:checked~div.sk-toggleable__content {max-height: 200px;max-width: 100%;overflow: auto;}#sk-container-id-1 input.sk-toggleable__control:checked~label.sk-toggleable__label-arrow:before {content: \"▾\";}#sk-container-id-1 div.sk-estimator input.sk-toggleable__control:checked~label.sk-toggleable__label {background-color: #d4ebff;}#sk-container-id-1 div.sk-label input.sk-toggleable__control:checked~label.sk-toggleable__label {background-color: #d4ebff;}#sk-container-id-1 input.sk-hidden--visually {border: 0;clip: rect(1px 1px 1px 1px);clip: rect(1px, 1px, 1px, 1px);height: 1px;margin: -1px;overflow: hidden;padding: 0;position: absolute;width: 1px;}#sk-container-id-1 div.sk-estimator {font-family: monospace;background-color: #f0f8ff;border: 1px dotted black;border-radius: 0.25em;box-sizing: border-box;margin-bottom: 0.5em;}#sk-container-id-1 div.sk-estimator:hover {background-color: #d4ebff;}#sk-container-id-1 div.sk-parallel-item::after {content: \"\";width: 100%;border-bottom: 1px solid gray;flex-grow: 1;}#sk-container-id-1 div.sk-label:hover label.sk-toggleable__label {background-color: #d4ebff;}#sk-container-id-1 div.sk-serial::before {content: \"\";position: absolute;border-left: 1px solid gray;box-sizing: border-box;top: 0;bottom: 0;left: 50%;z-index: 0;}#sk-container-id-1 div.sk-serial {display: flex;flex-direction: column;align-items: center;background-color: white;padding-right: 0.2em;padding-left: 0.2em;position: relative;}#sk-container-id-1 div.sk-item {position: relative;z-index: 1;}#sk-container-id-1 div.sk-parallel {display: flex;align-items: stretch;justify-content: center;background-color: white;position: relative;}#sk-container-id-1 div.sk-item::before, #sk-container-id-1 div.sk-parallel-item::before {content: \"\";position: absolute;border-left: 1px solid gray;box-sizing: border-box;top: 0;bottom: 0;left: 50%;z-index: -1;}#sk-container-id-1 div.sk-parallel-item {display: flex;flex-direction: column;z-index: 1;position: relative;background-color: white;}#sk-container-id-1 div.sk-parallel-item:first-child::after {align-self: flex-end;width: 50%;}#sk-container-id-1 div.sk-parallel-item:last-child::after {align-self: flex-start;width: 50%;}#sk-container-id-1 div.sk-parallel-item:only-child::after {width: 0;}#sk-container-id-1 div.sk-dashed-wrapped {border: 1px dashed gray;margin: 0 0.4em 0.5em 0.4em;box-sizing: border-box;padding-bottom: 0.4em;background-color: white;}#sk-container-id-1 div.sk-label label {font-family: monospace;font-weight: bold;display: inline-block;line-height: 1.2em;}#sk-container-id-1 div.sk-label-container {text-align: center;}#sk-container-id-1 div.sk-container {/* jupyter's `normalize.less` sets `[hidden] { display: none; }` but bootstrap.min.css set `[hidden] { display: none !important; }` so we also need the `!important` here to be able to override the default hidden behavior on the sphinx rendered scikit-learn.org. See: https://github.com/scikit-learn/scikit-learn/issues/21755 */display: inline-block !important;position: relative;}#sk-container-id-1 div.sk-text-repr-fallback {display: none;}</style><div id=\"sk-container-id-1\" class=\"sk-top-container\"><div class=\"sk-text-repr-fallback\"><pre>TPOTClassifier(config_dict=&#x27;TPOT sparse&#x27;, generations=5, population_size=20,\n",
       "               random_state=42, verbosity=2)</pre><b>In a Jupyter environment, please rerun this cell to show the HTML representation or trust the notebook. <br />On GitHub, the HTML representation is unable to render, please try loading this page with nbviewer.org.</b></div><div class=\"sk-container\" hidden><div class=\"sk-item\"><div class=\"sk-estimator sk-toggleable\"><input class=\"sk-toggleable__control sk-hidden--visually\" id=\"sk-estimator-id-1\" type=\"checkbox\" checked><label for=\"sk-estimator-id-1\" class=\"sk-toggleable__label sk-toggleable__label-arrow\">TPOTClassifier</label><div class=\"sk-toggleable__content\"><pre>TPOTClassifier(config_dict=&#x27;TPOT sparse&#x27;, generations=5, population_size=20,\n",
       "               random_state=42, verbosity=2)</pre></div></div></div></div></div>"
      ],
      "text/plain": [
       "TPOTClassifier(config_dict='TPOT sparse', generations=5, population_size=20,\n",
       "               random_state=42, verbosity=2)"
      ]
     },
     "execution_count": 56,
     "metadata": {},
     "output_type": "execute_result"
    }
   ],
   "source": [
    "tpot.fit(X_train_resampled, y_train_resampled)"
   ]
  },
  {
   "cell_type": "code",
   "execution_count": 57,
   "metadata": {},
   "outputs": [],
   "source": [
    "best_pipeline = tpot.fitted_pipeline_"
   ]
  },
  {
   "cell_type": "code",
   "execution_count": 58,
   "metadata": {},
   "outputs": [],
   "source": [
    "# Create an instance of XGBClassifier with the best hyperparameters\n",
    "best_xgb_classifier = XGBClassifier(\n",
    "    learning_rate = 1.0,\n",
    "    max_depth = 6,\n",
    "    min_child_weight = 14,\n",
    "    n_estimators = 100,\n",
    "    n_jobs = 1,\n",
    "    subsample = 0.4,\n",
    "    verbosity = 0\n",
    ")"
   ]
  },
  {
   "cell_type": "code",
   "execution_count": 59,
   "metadata": {},
   "outputs": [
    {
     "data": {
      "text/html": [
       "<style>#sk-container-id-2 {color: black;}#sk-container-id-2 pre{padding: 0;}#sk-container-id-2 div.sk-toggleable {background-color: white;}#sk-container-id-2 label.sk-toggleable__label {cursor: pointer;display: block;width: 100%;margin-bottom: 0;padding: 0.3em;box-sizing: border-box;text-align: center;}#sk-container-id-2 label.sk-toggleable__label-arrow:before {content: \"▸\";float: left;margin-right: 0.25em;color: #696969;}#sk-container-id-2 label.sk-toggleable__label-arrow:hover:before {color: black;}#sk-container-id-2 div.sk-estimator:hover label.sk-toggleable__label-arrow:before {color: black;}#sk-container-id-2 div.sk-toggleable__content {max-height: 0;max-width: 0;overflow: hidden;text-align: left;background-color: #f0f8ff;}#sk-container-id-2 div.sk-toggleable__content pre {margin: 0.2em;color: black;border-radius: 0.25em;background-color: #f0f8ff;}#sk-container-id-2 input.sk-toggleable__control:checked~div.sk-toggleable__content {max-height: 200px;max-width: 100%;overflow: auto;}#sk-container-id-2 input.sk-toggleable__control:checked~label.sk-toggleable__label-arrow:before {content: \"▾\";}#sk-container-id-2 div.sk-estimator input.sk-toggleable__control:checked~label.sk-toggleable__label {background-color: #d4ebff;}#sk-container-id-2 div.sk-label input.sk-toggleable__control:checked~label.sk-toggleable__label {background-color: #d4ebff;}#sk-container-id-2 input.sk-hidden--visually {border: 0;clip: rect(1px 1px 1px 1px);clip: rect(1px, 1px, 1px, 1px);height: 1px;margin: -1px;overflow: hidden;padding: 0;position: absolute;width: 1px;}#sk-container-id-2 div.sk-estimator {font-family: monospace;background-color: #f0f8ff;border: 1px dotted black;border-radius: 0.25em;box-sizing: border-box;margin-bottom: 0.5em;}#sk-container-id-2 div.sk-estimator:hover {background-color: #d4ebff;}#sk-container-id-2 div.sk-parallel-item::after {content: \"\";width: 100%;border-bottom: 1px solid gray;flex-grow: 1;}#sk-container-id-2 div.sk-label:hover label.sk-toggleable__label {background-color: #d4ebff;}#sk-container-id-2 div.sk-serial::before {content: \"\";position: absolute;border-left: 1px solid gray;box-sizing: border-box;top: 0;bottom: 0;left: 50%;z-index: 0;}#sk-container-id-2 div.sk-serial {display: flex;flex-direction: column;align-items: center;background-color: white;padding-right: 0.2em;padding-left: 0.2em;position: relative;}#sk-container-id-2 div.sk-item {position: relative;z-index: 1;}#sk-container-id-2 div.sk-parallel {display: flex;align-items: stretch;justify-content: center;background-color: white;position: relative;}#sk-container-id-2 div.sk-item::before, #sk-container-id-2 div.sk-parallel-item::before {content: \"\";position: absolute;border-left: 1px solid gray;box-sizing: border-box;top: 0;bottom: 0;left: 50%;z-index: -1;}#sk-container-id-2 div.sk-parallel-item {display: flex;flex-direction: column;z-index: 1;position: relative;background-color: white;}#sk-container-id-2 div.sk-parallel-item:first-child::after {align-self: flex-end;width: 50%;}#sk-container-id-2 div.sk-parallel-item:last-child::after {align-self: flex-start;width: 50%;}#sk-container-id-2 div.sk-parallel-item:only-child::after {width: 0;}#sk-container-id-2 div.sk-dashed-wrapped {border: 1px dashed gray;margin: 0 0.4em 0.5em 0.4em;box-sizing: border-box;padding-bottom: 0.4em;background-color: white;}#sk-container-id-2 div.sk-label label {font-family: monospace;font-weight: bold;display: inline-block;line-height: 1.2em;}#sk-container-id-2 div.sk-label-container {text-align: center;}#sk-container-id-2 div.sk-container {/* jupyter's `normalize.less` sets `[hidden] { display: none; }` but bootstrap.min.css set `[hidden] { display: none !important; }` so we also need the `!important` here to be able to override the default hidden behavior on the sphinx rendered scikit-learn.org. See: https://github.com/scikit-learn/scikit-learn/issues/21755 */display: inline-block !important;position: relative;}#sk-container-id-2 div.sk-text-repr-fallback {display: none;}</style><div id=\"sk-container-id-2\" class=\"sk-top-container\"><div class=\"sk-text-repr-fallback\"><pre>XGBClassifier(base_score=0.5, booster=&#x27;gbtree&#x27;, colsample_bylevel=1,\n",
       "              colsample_bynode=1, colsample_bytree=1, gamma=0, gpu_id=-1,\n",
       "              importance_type=&#x27;gain&#x27;, interaction_constraints=&#x27;&#x27;,\n",
       "              learning_rate=1.0, max_delta_step=0, max_depth=6,\n",
       "              min_child_weight=14, missing=nan, monotone_constraints=&#x27;()&#x27;,\n",
       "              n_estimators=100, n_jobs=1, num_parallel_tree=1, random_state=0,\n",
       "              reg_alpha=0, reg_lambda=1, scale_pos_weight=1, subsample=0.4,\n",
       "              tree_method=&#x27;exact&#x27;, validate_parameters=1, verbosity=0)</pre><b>In a Jupyter environment, please rerun this cell to show the HTML representation or trust the notebook. <br />On GitHub, the HTML representation is unable to render, please try loading this page with nbviewer.org.</b></div><div class=\"sk-container\" hidden><div class=\"sk-item\"><div class=\"sk-estimator sk-toggleable\"><input class=\"sk-toggleable__control sk-hidden--visually\" id=\"sk-estimator-id-2\" type=\"checkbox\" checked><label for=\"sk-estimator-id-2\" class=\"sk-toggleable__label sk-toggleable__label-arrow\">XGBClassifier</label><div class=\"sk-toggleable__content\"><pre>XGBClassifier(base_score=0.5, booster=&#x27;gbtree&#x27;, colsample_bylevel=1,\n",
       "              colsample_bynode=1, colsample_bytree=1, gamma=0, gpu_id=-1,\n",
       "              importance_type=&#x27;gain&#x27;, interaction_constraints=&#x27;&#x27;,\n",
       "              learning_rate=1.0, max_delta_step=0, max_depth=6,\n",
       "              min_child_weight=14, missing=nan, monotone_constraints=&#x27;()&#x27;,\n",
       "              n_estimators=100, n_jobs=1, num_parallel_tree=1, random_state=0,\n",
       "              reg_alpha=0, reg_lambda=1, scale_pos_weight=1, subsample=0.4,\n",
       "              tree_method=&#x27;exact&#x27;, validate_parameters=1, verbosity=0)</pre></div></div></div></div></div>"
      ],
      "text/plain": [
       "XGBClassifier(base_score=0.5, booster='gbtree', colsample_bylevel=1,\n",
       "              colsample_bynode=1, colsample_bytree=1, gamma=0, gpu_id=-1,\n",
       "              importance_type='gain', interaction_constraints='',\n",
       "              learning_rate=1.0, max_delta_step=0, max_depth=6,\n",
       "              min_child_weight=14, missing=nan, monotone_constraints='()',\n",
       "              n_estimators=100, n_jobs=1, num_parallel_tree=1, random_state=0,\n",
       "              reg_alpha=0, reg_lambda=1, scale_pos_weight=1, subsample=0.4,\n",
       "              tree_method='exact', validate_parameters=1, verbosity=0)"
      ]
     },
     "execution_count": 59,
     "metadata": {},
     "output_type": "execute_result"
    }
   ],
   "source": [
    "# Fit the classifier to the resampled training data\n",
    "best_xgb_classifier.fit(X_train_resampled, y_train_resampled)"
   ]
  },
  {
   "cell_type": "code",
   "execution_count": 60,
   "metadata": {},
   "outputs": [],
   "source": [
    "# Make predictions on the test data\n",
    "y_pred = best_xgb_classifier.predict(X_test)"
   ]
  },
  {
   "cell_type": "code",
   "execution_count": 64,
   "metadata": {},
   "outputs": [
    {
     "name": "stdout",
     "output_type": "stream",
     "text": [
      "Accuracy: 0.99\n",
      "Precision: 0.08\n",
      "Recall: 0.09\n",
      "F1-score: 0.09\n"
     ]
    }
   ],
   "source": [
    "# Calculate evaluation metrics\n",
    "accuracy = accuracy_score(y_test, y_pred)\n",
    "precision = precision_score(y_test, y_pred)\n",
    "recall = recall_score(y_test, y_pred)\n",
    "f1 = f1_score(y_test, y_pred)\n",
    "\n",
    "# Print the evaluation metrics\n",
    "print(f\"Accuracy: {accuracy:.2f}\")\n",
    "print(f\"Precision: {precision:.2f}\")\n",
    "print(f\"Recall: {recall:.2f}\")\n",
    "print(f\"F1-score: {f1:.2f}\")"
   ]
  }
 ],
 "metadata": {
  "kernelspec": {
   "display_name": "Python (learn-env)",
   "language": "python",
   "name": "learn-env"
  },
  "language_info": {
   "codemirror_mode": {
    "name": "ipython",
    "version": 3
   },
   "file_extension": ".py",
   "mimetype": "text/x-python",
   "name": "python",
   "nbconvert_exporter": "python",
   "pygments_lexer": "ipython3",
   "version": "3.8.5"
  }
 },
 "nbformat": 4,
 "nbformat_minor": 4
}
