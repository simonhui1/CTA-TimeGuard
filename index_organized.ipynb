{
 "cells": [
  {
   "cell_type": "markdown",
   "metadata": {},
   "source": [
    "<div style = \"text-align:center; font-size: 28px; font-weight: bold;\"> Predictive Service Delay Management for CTA Trains</div>\n",
    "<br>\n"
   ]
  },
  {
   "cell_type": "markdown",
   "metadata": {},
   "source": [
    "This notebook reflects the necessary steps taken to arrive at a functioning predictive model for the Chicago Transit Authority (CTA)."
   ]
  },
  {
   "cell_type": "markdown",
   "metadata": {},
   "source": [
    "### Import Necessary Libraries"
   ]
  },
  {
   "cell_type": "code",
   "execution_count": 17,
   "metadata": {},
   "outputs": [],
   "source": [
    "import pandas as pd\n",
    "import matplotlib.pyplot as plt\n",
    "import seaborn as sns"
   ]
  },
  {
   "cell_type": "markdown",
   "metadata": {},
   "source": [
    "### Import the Dataset"
   ]
  },
  {
   "cell_type": "markdown",
   "metadata": {},
   "source": [
    "The dataset is based on real-time data, and is sourced from two separate APIs, the CTA Train Tracker API, and TomTom's Traffic Flow RESTful API."
   ]
  },
  {
   "cell_type": "code",
   "execution_count": 18,
   "metadata": {},
   "outputs": [],
   "source": [
    "# The dataset has no column headers, so we are applying column labels based on the API script used to scrape the data\n",
    "column_labels = [\n",
    "    \"station_id\", \"line\", \"predicted_time\", \"arrival_time\", \n",
    "    \"isSch\", \"isFlt\", \"isDly\", \n",
    "    \"station_name\", \"destination_name\", \"lat\", \"long\", \n",
    "    \"free_flow_speed\", \"current_speed\"\n",
    "]\n",
    "\n",
    "df = pd.read_csv(\"combined_data.csv\", header = None, names = column_labels)"
   ]
  },
  {
   "cell_type": "code",
   "execution_count": 19,
   "metadata": {
    "scrolled": true
   },
   "outputs": [
    {
     "data": {
      "text/html": [
       "<div>\n",
       "<style scoped>\n",
       "    .dataframe tbody tr th:only-of-type {\n",
       "        vertical-align: middle;\n",
       "    }\n",
       "\n",
       "    .dataframe tbody tr th {\n",
       "        vertical-align: top;\n",
       "    }\n",
       "\n",
       "    .dataframe thead th {\n",
       "        text-align: right;\n",
       "    }\n",
       "</style>\n",
       "<table border=\"1\" class=\"dataframe\">\n",
       "  <thead>\n",
       "    <tr style=\"text-align: right;\">\n",
       "      <th></th>\n",
       "      <th>station_id</th>\n",
       "      <th>line</th>\n",
       "      <th>predicted_time</th>\n",
       "      <th>arrival_time</th>\n",
       "      <th>isSch</th>\n",
       "      <th>isFlt</th>\n",
       "      <th>isDly</th>\n",
       "      <th>station_name</th>\n",
       "      <th>destination_name</th>\n",
       "      <th>lat</th>\n",
       "      <th>long</th>\n",
       "      <th>free_flow_speed</th>\n",
       "      <th>current_speed</th>\n",
       "    </tr>\n",
       "  </thead>\n",
       "  <tbody>\n",
       "    <tr>\n",
       "      <th>3602</th>\n",
       "      <td>40880</td>\n",
       "      <td>Red</td>\n",
       "      <td>20230810 12:45:35</td>\n",
       "      <td>20230810 13:19:35</td>\n",
       "      <td>0</td>\n",
       "      <td>0</td>\n",
       "      <td>0</td>\n",
       "      <td>Thorndale</td>\n",
       "      <td>Howard</td>\n",
       "      <td>41.86740</td>\n",
       "      <td>-87.62740</td>\n",
       "      <td>24</td>\n",
       "      <td>24</td>\n",
       "    </tr>\n",
       "    <tr>\n",
       "      <th>85221</th>\n",
       "      <td>40610</td>\n",
       "      <td>G</td>\n",
       "      <td>20230815 21:15:45</td>\n",
       "      <td>20230815 21:58:45</td>\n",
       "      <td>0</td>\n",
       "      <td>0</td>\n",
       "      <td>0</td>\n",
       "      <td>Ridgeland</td>\n",
       "      <td>Harlem/Lake</td>\n",
       "      <td>41.81646</td>\n",
       "      <td>-87.61904</td>\n",
       "      <td>19</td>\n",
       "      <td>19</td>\n",
       "    </tr>\n",
       "    <tr>\n",
       "      <th>93135</th>\n",
       "      <td>41170</td>\n",
       "      <td>Red</td>\n",
       "      <td>20230818 01:03:41</td>\n",
       "      <td>20230818 01:12:41</td>\n",
       "      <td>0</td>\n",
       "      <td>0</td>\n",
       "      <td>0</td>\n",
       "      <td>Garfield</td>\n",
       "      <td>Howard</td>\n",
       "      <td>41.75042</td>\n",
       "      <td>-87.62518</td>\n",
       "      <td>67</td>\n",
       "      <td>67</td>\n",
       "    </tr>\n",
       "    <tr>\n",
       "      <th>84985</th>\n",
       "      <td>40890</td>\n",
       "      <td>Blue</td>\n",
       "      <td>20230815 19:22:31</td>\n",
       "      <td>20230815 19:33:31</td>\n",
       "      <td>0</td>\n",
       "      <td>0</td>\n",
       "      <td>0</td>\n",
       "      <td>O'Hare</td>\n",
       "      <td>O'Hare</td>\n",
       "      <td>41.98250</td>\n",
       "      <td>-87.81446</td>\n",
       "      <td>65</td>\n",
       "      <td>65</td>\n",
       "    </tr>\n",
       "    <tr>\n",
       "      <th>36111</th>\n",
       "      <td>40890</td>\n",
       "      <td>Blue</td>\n",
       "      <td>20230810 20:52:20</td>\n",
       "      <td>20230810 21:23:20</td>\n",
       "      <td>0</td>\n",
       "      <td>0</td>\n",
       "      <td>0</td>\n",
       "      <td>O'Hare</td>\n",
       "      <td>O'Hare</td>\n",
       "      <td>41.92460</td>\n",
       "      <td>-87.70125</td>\n",
       "      <td>16</td>\n",
       "      <td>12</td>\n",
       "    </tr>\n",
       "  </tbody>\n",
       "</table>\n",
       "</div>"
      ],
      "text/plain": [
       "       station_id  line     predicted_time       arrival_time  isSch  isFlt  \\\n",
       "3602        40880   Red  20230810 12:45:35  20230810 13:19:35      0      0   \n",
       "85221       40610     G  20230815 21:15:45  20230815 21:58:45      0      0   \n",
       "93135       41170   Red  20230818 01:03:41  20230818 01:12:41      0      0   \n",
       "84985       40890  Blue  20230815 19:22:31  20230815 19:33:31      0      0   \n",
       "36111       40890  Blue  20230810 20:52:20  20230810 21:23:20      0      0   \n",
       "\n",
       "       isDly station_name destination_name       lat      long  \\\n",
       "3602       0    Thorndale           Howard  41.86740 -87.62740   \n",
       "85221      0    Ridgeland      Harlem/Lake  41.81646 -87.61904   \n",
       "93135      0     Garfield           Howard  41.75042 -87.62518   \n",
       "84985      0       O'Hare           O'Hare  41.98250 -87.81446   \n",
       "36111      0       O'Hare           O'Hare  41.92460 -87.70125   \n",
       "\n",
       "       free_flow_speed  current_speed  \n",
       "3602                24             24  \n",
       "85221               19             19  \n",
       "93135               67             67  \n",
       "84985               65             65  \n",
       "36111               16             12  "
      ]
     },
     "execution_count": 19,
     "metadata": {},
     "output_type": "execute_result"
    }
   ],
   "source": [
    "df.sample(n = 5)"
   ]
  },
  {
   "cell_type": "markdown",
   "metadata": {},
   "source": [
    "Some of these column headers may be hard to decipher. Let's clarify what they mean.\n",
    "\n",
    "Per the CTA Train Tracker API:\n",
    "\n",
    "**predicted_time** = \"Date-time format stamp for when the prediction was generated:\n",
    "yyyyMMdd HH:mm:ss (24-hour format, time local to Chicago)\"\n",
    "\n",
    "**arrival_time** = \"Date-time format stamp for when a train is expected to arrive/depart:\n",
    "yyyyMMdd HH:mm:ss (24-hour format, time local to Chicago)\"\n",
    "\n",
    "**isSch** = \"Boolean flag to indicate whether this is a live prediction or based on\n",
    "schedule in lieu of live data\"\n",
    "\n",
    "**isFlt** = \"Boolean flag to indicate whether a potential fault has been detected\"\n",
    "\n",
    ">\"The **isFlt** element in the results indicates what we call a “schedule fault” in the context of Train Tracker.\n",
    "A fault on an ETA that is schedule-based (isSch=1) indicates that the scheduled arrival time given\n",
    "might not be feasible to serve due to the lack of a scheduled departure having occurred.\"\n",
    "\n",
    "**isDly** = \"Boolean flag to indicate whether a train is considered “delayed” in Train\n",
    "Tracker\"\n",
    "\n",
    "**lat** = \"Latitude position of the train in decimal degrees\"\n",
    "\n",
    "**long** = \"Longitude position of the train in decimal degrees\"\n",
    "\n",
    "Per TomTom's Traffic Flow RESTful API:\n",
    "\n",
    "**free_flow_speed** = \"The free flow speed expected under ideal conditions, expressed in [MPH]\n",
    "\n",
    "**current_speed** = \"The current average speed at the selected [latitude and longitude], in [MPH].\"\n",
    "\n",
    ">Note that these speeds fetched from the TomTom API *do not* directly refer to the train itself; they are not train speeds. Rather, they are referring to the *traffic speeds* of the roads closest to the geographical coordinates of the specifc train."
   ]
  },
  {
   "cell_type": "markdown",
   "metadata": {},
   "source": [
    "<div style = \"text-align:center; font-size: 24px; font-weight: bold;\"> Exploratory Data Analysis (EDA)</div>\n"
   ]
  },
  {
   "cell_type": "markdown",
   "metadata": {},
   "source": [
    "Now, from these points of clarity, we can make several observations.\n",
    "First, let's see how many already-classified delays there are in this dataset."
   ]
  },
  {
   "cell_type": "code",
   "execution_count": 20,
   "metadata": {},
   "outputs": [
    {
     "data": {
      "text/plain": [
       "0    106014\n",
       "1       504\n",
       "Name: isDly, dtype: int64"
      ]
     },
     "execution_count": 20,
     "metadata": {},
     "output_type": "execute_result"
    }
   ],
   "source": [
    "df['isDly'].value_counts()"
   ]
  },
  {
   "cell_type": "markdown",
   "metadata": {},
   "source": [
    "Out of more than **100,000** total train-tracking instances in this dataset, only around **500** of them are **delay-positive**. \n",
    "\n",
    "Per the CTA Train Tracker API documentation:\n",
    "\n",
    ">\"The CTA Train Tracker service looks at how long it’s been since a train has moved from one track\n",
    "circuit to the next and identifies delays if a train appears to not be moving.\""
   ]
  },
  {
   "cell_type": "markdown",
   "metadata": {},
   "source": [
    "Next, let's see how many instances are based on schedule or have a potential fault. "
   ]
  },
  {
   "cell_type": "code",
   "execution_count": 21,
   "metadata": {},
   "outputs": [
    {
     "data": {
      "text/plain": [
       "0    106518\n",
       "Name: isSch, dtype: int64"
      ]
     },
     "execution_count": 21,
     "metadata": {},
     "output_type": "execute_result"
    }
   ],
   "source": [
    "df['isSch'].value_counts()"
   ]
  },
  {
   "cell_type": "code",
   "execution_count": 22,
   "metadata": {},
   "outputs": [
    {
     "data": {
      "text/plain": [
       "0    106518\n",
       "Name: isFlt, dtype: int64"
      ]
     },
     "execution_count": 22,
     "metadata": {},
     "output_type": "execute_result"
    }
   ],
   "source": [
    "df['isFlt'].value_counts()"
   ]
  },
  {
   "cell_type": "markdown",
   "metadata": {},
   "source": [
    "Out of the entire dataset, every train so far is based on live predictions and has not had a fault."
   ]
  },
  {
   "cell_type": "markdown",
   "metadata": {},
   "source": [
    "<div style = \"text-align:left; font-size: 18px; font-weight: normal;\"> Now, let's return to delays, and analyze them further. Let's see how many recorded delays there are for every specific line.  </div>\n",
    "\n",
    ">For those who are not native to Chicago, the city's train system consists of multiple colored lines, each of which is associated with a color name."
   ]
  },
  {
   "cell_type": "code",
   "execution_count": 25,
   "metadata": {},
   "outputs": [
    {
     "data": {
      "image/png": "[encoded data removed]",
      "text/plain": [
       "<Figure size 864x432 with 1 Axes>"
      ]
     },
     "metadata": {
      "needs_background": "light"
     },
     "output_type": "display_data"
    }
   ],
   "source": [
    "route_delay_counts = df.groupby('line')['isDly'].sum()\n",
    "\n",
    "plt.figure(figsize = (12,6))\n",
    "route_delay_counts.plot(kind = 'bar')\n",
    "plt.xlabel('Route')\n",
    "plt.ylabel('Number of Delays')\n",
    "plt.title('Number of Delays per Line')\n",
    "plt.xticks(rotation = 0)\n",
    "plt.tight_layout()\n",
    "plt.show()\n"
   ]
  },
  {
   "cell_type": "markdown",
   "metadata": {},
   "source": [
    "<div style = \"text-align:left; font-size: 18px; font-weight: normal;\"> Now let's analyze delays per station. </div>"
   ]
  },
  {
   "cell_type": "code",
   "execution_count": 27,
   "metadata": {},
   "outputs": [
    {
     "name": "stdout",
     "output_type": "stream",
     "text": [
      "Station ID with the most delays: 40100\n",
      "Delay count: 13\n"
     ]
    },
    {
     "data": {
      "image/png": "[encoded data removed]",
      "text/plain": [
       "<Figure size 864x432 with 1 Axes>"
      ]
     },
     "metadata": {
      "needs_background": "light"
     },
     "output_type": "display_data"
    }
   ],
   "source": [
    "station_delay_counts = df.groupby('station_id')['isDly'].sum()\n",
    "\n",
    "most_delay_station = station_delay_counts.idxmax()\n",
    "\n",
    "most_delay_station\n",
    "\n",
    "most_delay_count = station_delay_counts.loc[most_delay_station]\n",
    "\n",
    "print(\"Station ID with the most delays:\", most_delay_station)\n",
    "print(\"Delay count:\", most_delay_count)\n",
    "\n",
    "#------------------------------------------------------------------\n",
    "\n",
    "top_n = 15\n",
    "top_delay_stations = station_delay_counts.nlargest(top_n).index\n",
    "\n",
    "plt.figure(figsize = (12,6))\n",
    "station_delay_counts.loc[top_delay_stations].plot(kind = 'bar', stacked = True)\n",
    "plt.xlabel('Station ID')\n",
    "plt.ylabel('Number of Delays')\n",
    "plt.title(f\"Number of Delays By Station (Top {top_n} Stations)\")\n",
    "plt.xticks(rotation = 90)\n",
    "plt.tight_layout()\n",
    "plt.show()"
   ]
  },
  {
   "cell_type": "markdown",
   "metadata": {},
   "source": [
    "<div style = \"text-align:left; font-size: 18px; font-weight: normal;\"> Now let's look at delays per hour. </div>"
   ]
  },
  {
   "cell_type": "code",
   "execution_count": 32,
   "metadata": {},
   "outputs": [
    {
     "data": {
      "text/html": [
       "<div>\n",
       "<style scoped>\n",
       "    .dataframe tbody tr th:only-of-type {\n",
       "        vertical-align: middle;\n",
       "    }\n",
       "\n",
       "    .dataframe tbody tr th {\n",
       "        vertical-align: top;\n",
       "    }\n",
       "\n",
       "    .dataframe thead th {\n",
       "        text-align: right;\n",
       "    }\n",
       "</style>\n",
       "<table border=\"1\" class=\"dataframe\">\n",
       "  <thead>\n",
       "    <tr style=\"text-align: right;\">\n",
       "      <th></th>\n",
       "      <th>hour_of_day</th>\n",
       "      <th>number_of_delays</th>\n",
       "    </tr>\n",
       "  </thead>\n",
       "  <tbody>\n",
       "    <tr>\n",
       "      <th>0</th>\n",
       "      <td>0</td>\n",
       "      <td>19</td>\n",
       "    </tr>\n",
       "    <tr>\n",
       "      <th>1</th>\n",
       "      <td>1</td>\n",
       "      <td>19</td>\n",
       "    </tr>\n",
       "    <tr>\n",
       "      <th>2</th>\n",
       "      <td>2</td>\n",
       "      <td>0</td>\n",
       "    </tr>\n",
       "    <tr>\n",
       "      <th>3</th>\n",
       "      <td>3</td>\n",
       "      <td>0</td>\n",
       "    </tr>\n",
       "    <tr>\n",
       "      <th>4</th>\n",
       "      <td>4</td>\n",
       "      <td>0</td>\n",
       "    </tr>\n",
       "    <tr>\n",
       "      <th>5</th>\n",
       "      <td>5</td>\n",
       "      <td>0</td>\n",
       "    </tr>\n",
       "    <tr>\n",
       "      <th>6</th>\n",
       "      <td>6</td>\n",
       "      <td>0</td>\n",
       "    </tr>\n",
       "    <tr>\n",
       "      <th>7</th>\n",
       "      <td>7</td>\n",
       "      <td>0</td>\n",
       "    </tr>\n",
       "    <tr>\n",
       "      <th>8</th>\n",
       "      <td>8</td>\n",
       "      <td>0</td>\n",
       "    </tr>\n",
       "    <tr>\n",
       "      <th>9</th>\n",
       "      <td>9</td>\n",
       "      <td>0</td>\n",
       "    </tr>\n",
       "    <tr>\n",
       "      <th>10</th>\n",
       "      <td>10</td>\n",
       "      <td>0</td>\n",
       "    </tr>\n",
       "    <tr>\n",
       "      <th>11</th>\n",
       "      <td>11</td>\n",
       "      <td>22</td>\n",
       "    </tr>\n",
       "    <tr>\n",
       "      <th>12</th>\n",
       "      <td>12</td>\n",
       "      <td>50</td>\n",
       "    </tr>\n",
       "    <tr>\n",
       "      <th>13</th>\n",
       "      <td>13</td>\n",
       "      <td>25</td>\n",
       "    </tr>\n",
       "    <tr>\n",
       "      <th>14</th>\n",
       "      <td>14</td>\n",
       "      <td>11</td>\n",
       "    </tr>\n",
       "    <tr>\n",
       "      <th>15</th>\n",
       "      <td>15</td>\n",
       "      <td>14</td>\n",
       "    </tr>\n",
       "    <tr>\n",
       "      <th>16</th>\n",
       "      <td>16</td>\n",
       "      <td>36</td>\n",
       "    </tr>\n",
       "    <tr>\n",
       "      <th>17</th>\n",
       "      <td>17</td>\n",
       "      <td>7</td>\n",
       "    </tr>\n",
       "    <tr>\n",
       "      <th>18</th>\n",
       "      <td>18</td>\n",
       "      <td>149</td>\n",
       "    </tr>\n",
       "    <tr>\n",
       "      <th>19</th>\n",
       "      <td>19</td>\n",
       "      <td>39</td>\n",
       "    </tr>\n",
       "    <tr>\n",
       "      <th>20</th>\n",
       "      <td>20</td>\n",
       "      <td>39</td>\n",
       "    </tr>\n",
       "    <tr>\n",
       "      <th>21</th>\n",
       "      <td>21</td>\n",
       "      <td>14</td>\n",
       "    </tr>\n",
       "    <tr>\n",
       "      <th>22</th>\n",
       "      <td>22</td>\n",
       "      <td>39</td>\n",
       "    </tr>\n",
       "    <tr>\n",
       "      <th>23</th>\n",
       "      <td>23</td>\n",
       "      <td>21</td>\n",
       "    </tr>\n",
       "  </tbody>\n",
       "</table>\n",
       "</div>"
      ],
      "text/plain": [
       "    hour_of_day  number_of_delays\n",
       "0             0                19\n",
       "1             1                19\n",
       "2             2                 0\n",
       "3             3                 0\n",
       "4             4                 0\n",
       "5             5                 0\n",
       "6             6                 0\n",
       "7             7                 0\n",
       "8             8                 0\n",
       "9             9                 0\n",
       "10           10                 0\n",
       "11           11                22\n",
       "12           12                50\n",
       "13           13                25\n",
       "14           14                11\n",
       "15           15                14\n",
       "16           16                36\n",
       "17           17                 7\n",
       "18           18               149\n",
       "19           19                39\n",
       "20           20                39\n",
       "21           21                14\n",
       "22           22                39\n",
       "23           23                21"
      ]
     },
     "execution_count": 32,
     "metadata": {},
     "output_type": "execute_result"
    }
   ],
   "source": [
    "# Convert 'predicted_time' to datetime\n",
    "df['predicted_time'] = pd.to_datetime(df['predicted_time'])\n",
    "\n",
    "# Create a list of all hours (0 to 23)\n",
    "all_hours = list(range(24))\n",
    "\n",
    "# Create a DataFrame with all hours\n",
    "hourly_delays = pd.DataFrame({'hour_of_day': all_hours})\n",
    "\n",
    "# Merge the original data with the all hours DataFrame to count delays for each hour\n",
    "hourly_delays = hourly_delays.merge(df.groupby(df['predicted_time'].dt.hour)['isDly'].sum().reset_index(), \n",
    "                                    how = 'left', left_on = 'hour_of_day', right_on = 'predicted_time')\n",
    "\n",
    "# Fill NaN values with 0 (no delays)\n",
    "hourly_delays['isDly'] = hourly_delays['isDly'].fillna(0).astype(int)\n",
    "\n",
    "# Drop the redundant 'predicted_time' column\n",
    "hourly_delays.drop(columns=['predicted_time'], inplace = True)\n",
    "\n",
    "# Rename columns\n",
    "hourly_delays.columns = ['hour_of_day', 'number_of_delays']\n",
    "\n",
    "# Print the new DataFrame\n",
    "hourly_delays"
   ]
  },
  {
   "cell_type": "code",
   "execution_count": 30,
   "metadata": {},
   "outputs": [
    {
     "data": {
      "image/png": "[encoded data removed]",
      "text/plain": [
       "<Figure size 720x432 with 1 Axes>"
      ]
     },
     "metadata": {
      "needs_background": "light"
     },
     "output_type": "display_data"
    }
   ],
   "source": [
    "plt.figure(figsize=(10, 6))\n",
    "plt.bar(hourly_delays['hour_of_day'], hourly_delays['number_of_delays'])\n",
    "plt.xlabel('Hour of Day (Military Time)')\n",
    "plt.ylabel('Number of Delays')\n",
    "plt.title('Number of Delays per Hour of Day')\n",
    "plt.xticks(all_hours)\n",
    "plt.grid(True)\n",
    "plt.tight_layout()\n",
    "plt.show()"
   ]
  },
  {
   "cell_type": "markdown",
   "metadata": {},
   "source": [
    "<div style=\"text-align:center; font-size: 24px; font-weight: bold;\"> Data Preprocessing </div>\n",
    "<br style=\"line-height: 3px;\">\n",
    "<div style=\"text-align:center; font-size: 18px; font-weight: normal;\"> Feature Engineering </div>"
   ]
  },
  {
   "cell_type": "code",
   "execution_count": null,
   "metadata": {},
   "outputs": [],
   "source": []
  }
 ],
 "metadata": {
  "kernelspec": {
   "display_name": "Python (learn-env)",
   "language": "python",
   "name": "learn-env"
  },
  "language_info": {
   "codemirror_mode": {
    "name": "ipython",
    "version": 3
   },
   "file_extension": ".py",
   "mimetype": "text/x-python",
   "name": "python",
   "nbconvert_exporter": "python",
   "pygments_lexer": "ipython3",
   "version": "3.8.5"
  }
 },
 "nbformat": 4,
 "nbformat_minor": 4
}
