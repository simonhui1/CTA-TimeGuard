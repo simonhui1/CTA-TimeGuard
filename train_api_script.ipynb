{
 "cells": [
  {
   "cell_type": "markdown",
   "metadata": {
    "id": "jAVE5H3lGW09"
   },
   "source": [
    "# MODULES"
   ]
  },
  {
   "cell_type": "markdown",
   "metadata": {
    "id": "TlgkA_oVD7ja"
   },
   "source": [
    "Import necessary libraries and modules."
   ]
  },
  {
   "cell_type": "code",
   "execution_count": null,
   "metadata": {
    "id": "o0jKEoxICW5F"
   },
   "outputs": [],
   "source": [
    "import requests\n",
    "import xml.etree.ElementTree as ET\n",
    "import json\n",
    "import csv\n",
    "import time\n",
    "import smtplib\n",
    "import random\n",
    "import sys"
   ]
  },
  {
   "cell_type": "code",
   "execution_count": null,
   "metadata": {
    "colab": {
     "base_uri": "https://localhost:8080/",
     "height": 35
    },
    "id": "Sq8IUJqFi_3u",
    "outputId": "a0b9bbfc-9aa7-43ab-c0bd-6d89608f64f1"
   },
   "outputs": [],
   "source": [
    "sys.version"
   ]
  },
  {
   "cell_type": "markdown",
   "metadata": {
    "id": "WNAlHH4uGJf3"
   },
   "source": [
    "# API KEYS"
   ]
  },
  {
   "cell_type": "markdown",
   "metadata": {
    "id": "s13Ovl3LFM1t"
   },
   "source": [
    "The config.json file defines a list named `TOMTOM_API_KEYS` containing multiple API keys. These keys are intended for use with the TomTom API, a location-based services platform. API keys are used to authenticate requests and access geospatial functionalities like mapping and routing. \n",
    "\n",
    "The config.json file also defines a variable named 'CTA_API_KEY' that is intended for accessing the Chicago Transit Authority's Train Tracker API."
   ]
  },
  {
   "cell_type": "markdown",
   "metadata": {
    "id": "lCOcvFv7GbbJ"
   },
   "source": [
    "# TRAIN STATION IDs"
   ]
  },
  {
   "cell_type": "markdown",
   "metadata": {
    "id": "p3ALBmZXGzb2"
   },
   "source": [
    "The code below extracts map IDs from a CSV file named 'stops.txt' by iteratively appending valid map IDs (those within the range of 40000 to 49999, because these IDs represent every possible CTA train stop, per the CTA API documentation) to the `new_mapid_values` list. The extracted map IDs are then displayed as the output."
   ]
  },
  {
   "cell_type": "code",
   "execution_count": null,
   "metadata": {
    "colab": {
     "base_uri": "https://localhost:8080/"
    },
    "id": "sq0cqnFaD6JN",
    "outputId": "f5dbe8c6-d9f9-4259-9890-7255de2afa4c"
   },
   "outputs": [],
   "source": [
    "new_mapid_values = []\n",
    "with open('stops.txt', 'r', newline='', encoding='utf-8') as csv_file:\n",
    "    csv_reader = csv.DictReader(csv_file)\n",
    "    for row in csv_reader:\n",
    "        stop_id = row.get('stop_id', '')\n",
    "        if stop_id.isdigit() and 40000 <= int(stop_id) <= 49999:\n",
    "            new_mapid_values.append(stop_id)\n",
    "\n",
    "new_mapid_values"
   ]
  },
  {
   "cell_type": "markdown",
   "metadata": {
    "id": "0ayjZlvAOwlU"
   },
   "source": [
    "The following contains two functions: `fetch_traffic_speed` and `fetch_CTA_and_traffic`. These functions work together to fetch data from the TomTom API for traffic speed and the Chicago Transit Authority (CTA) API for CTA arrival data. The data is combined and periodically saved to a CSV file named 'combined_data.csv'. The `fetch_CTA_and_traffic` function repeats this process in a loop, with a 5-minute interval between each data update."
   ]
  },
  {
   "cell_type": "markdown",
   "metadata": {},
   "source": [
    "# SCRIPT FOR SCRAPING RELEVANT TRANSIT DATA"
   ]
  },
  {
   "cell_type": "code",
   "execution_count": null,
   "metadata": {
    "colab": {
     "base_uri": "https://localhost:8080/",
     "height": 369
    },
    "id": "dUk_g_NtO0OU",
    "outputId": "21f59edd-c96a-4d38-c3f5-2814848eb105"
   },
   "outputs": [],
   "source": [
    "# Load API keys from a configuration file\n",
    "with open('config.json') as config_file:\n",
    "    config_data = json.load(config_file)\n",
    "\n",
    "TOMTOM_API_KEYS = config_data[\"TOMTOM_API_KEYS\"]\n",
    "CTA_API_KEY = config_data[\"CTA_API_KEY\"]\n",
    "\n",
    "def fetch_traffic_speed(latitude, longitude, retry_keys=None):\n",
    "    \"\"\"\n",
    "    Fetch traffic speed data using TomTom API for a given latitude and longitude.\n",
    "\n",
    "    Parameters:\n",
    "        latitude (float): Latitude coordinate.\n",
    "        longitude (float): Longitude coordinate.\n",
    "        retry_keys (list, optional): List of TomTom API keys to retry in case of errors.\n",
    "\n",
    "    Returns:\n",
    "        tuple: A tuple containing free flow speed and current speed in mph.\n",
    "    \"\"\"\n",
    "\n",
    "    traffic_url = 'https://api.tomtom.com/traffic/services/4/flowSegmentData/relative/10/json'\n",
    "\n",
    "    api_keys = retry_keys or TOMTOM_API_KEYS\n",
    "    remaining_keys = list(api_keys)\n",
    "\n",
    "    retry_seconds = 2  # Default retry time in seconds\n",
    "\n",
    "    while remaining_keys:\n",
    "        current_api_key = remaining_keys.pop(0)\n",
    "\n",
    "        traffic_params = {\n",
    "            'point': f'{latitude},{longitude}',\n",
    "            'unit': 'mph',\n",
    "            'key': current_api_key\n",
    "        }\n",
    "\n",
    "        try:\n",
    "            traffic_response = requests.get(traffic_url, params=traffic_params)\n",
    "\n",
    "            if traffic_response.status_code == 200:\n",
    "                try:\n",
    "                    traffic_data = traffic_response.json()\n",
    "                    if \"flowSegmentData\" in traffic_data:\n",
    "                        flow_segment_data = traffic_data[\"flowSegmentData\"]\n",
    "                        free_flow_speed_mph = flow_segment_data.get(\"freeFlowSpeed\", \"N/A\")\n",
    "                        current_speed_mph = flow_segment_data.get(\"currentSpeed\", \"N/A\")\n",
    "                        return free_flow_speed_mph, current_speed_mph\n",
    "                    else:\n",
    "                        print(\"TomTom API response does not contain flowSegmentData.\")\n",
    "                except json.JSONDecodeError as e:\n",
    "                    print(\"Error decoding JSON response:\", e)\n",
    "            elif traffic_response.status_code == 403:\n",
    "                print(f\"TomTom API request error - status code 403 (Forbidden). Switching to the next available key...\")\n",
    "                if remaining_keys:\n",
    "                    print(f\"Retrying with the next key in {retry_seconds} seconds...\")\n",
    "                    time.sleep(retry_seconds)  # Wait for the specified seconds before retrying\n",
    "                    continue  # Retry with the next key\n",
    "                else:\n",
    "                    print(\"Exhausted all available API keys.\")\n",
    "            else:\n",
    "                print(\"TomTom API request error - status code:\", traffic_response.status_code)\n",
    "\n",
    "        except requests.exceptions.RequestException as e:\n",
    "            print(\"Request error:\", e)\n",
    "            if isinstance(e, requests.exceptions.ConnectionError) and \"forcibly closed by the remote host\" in str(e):\n",
    "                if remaining_keys:\n",
    "                    print(\"Retrying with the next key...\")\n",
    "                    continue  # Retry with the next key\n",
    "                else:\n",
    "                    print(\"Exhausted all available API keys.\")\n",
    "            break  # Exit loop for other types of errors\n",
    "\n",
    "    print(\"Exhausted all available API keys.\")\n",
    "    return None, None\n",
    "\n",
    "def fetch_CTA_and_traffic():\n",
    "    \"\"\"\n",
    "    Fetch CTA arrival data and combine it with traffic speed data, then save to CSV file.\n",
    "\n",
    "    This function continuously fetches CTA arrival data, fetches traffic speed using TomTom API,\n",
    "    combines the data, and saves it to a CSV file every 5 minutes.\n",
    "    \"\"\"\n",
    "\n",
    "    cta_url = 'https://lapi.transitchicago.com/api/1.0/ttarrivals.aspx'\n",
    "\n",
    "    while True:\n",
    "        with open('combined_data.csv', 'a', newline='', encoding='utf-8') as csv_file:\n",
    "            csv_writer = csv.writer(csv_file)\n",
    "\n",
    "            # Shuffle the new_mapid_values list\n",
    "            random.shuffle(new_mapid_values)\n",
    "\n",
    "            for mapid in new_mapid_values:\n",
    "                cta_params = {\n",
    "                    'mapid': mapid,\n",
    "                    'max': '7',\n",
    "                    'key': CTA_API_KEY\n",
    "                }\n",
    "\n",
    "                try:\n",
    "                    cta_response = requests.get(cta_url, params=cta_params)\n",
    "                    cta_response.raise_for_status()  # Raise an exception for HTTP errors\n",
    "\n",
    "                    if cta_response.status_code == 200:\n",
    "                        root = ET.fromstring(cta_response.text)\n",
    "                        eta_elements = root.findall(\".//eta\")\n",
    "\n",
    "                        for eta in eta_elements: # Look up 'CTA Train Tracker API Documentation' for these column descriptions\n",
    "                            route = eta.find(\"rt\").text\n",
    "                            prd_time = eta.find(\"prdt\").text\n",
    "                            arr_time = eta.find(\"arrT\").text\n",
    "                            sch_bool = eta.find(\"isSch\").text\n",
    "                            flt_bool = eta.find(\"isFlt\").text\n",
    "                            dly_bool = eta.find(\"isDly\").text\n",
    "                            station_name = eta.find(\"staNm\").text\n",
    "                            dest_name = eta.find(\"destNm\").text\n",
    "\n",
    "                            latitude_element = eta.find(\"lat\")\n",
    "                            longitude_element = eta.find(\"lon\")\n",
    "\n",
    "                            if latitude_element is not None and longitude_element is not None:\n",
    "                                latitude = latitude_element.text\n",
    "                                longitude = longitude_element.text\n",
    "\n",
    "                                if latitude and longitude:\n",
    "                                    free_flow_speed, current_speed = fetch_traffic_speed(float(latitude), float(longitude))\n",
    "\n",
    "                                    if free_flow_speed is not None:\n",
    "                                        csv_writer.writerow(\n",
    "                                            [mapid, route, prd_time, arr_time, sch_bool, flt_bool, dly_bool, station_name,\n",
    "                                             dest_name, latitude, longitude, free_flow_speed, current_speed])\n",
    "                                else:\n",
    "                                    print(\"Invalid latitude or longitude in CTA API response.\")\n",
    "                            else:\n",
    "                                print(\"Missing latitude or longitude in CTA API response.\")\n",
    "\n",
    "                except requests.exceptions.RequestException as e:\n",
    "                    print(\"Request error:\", e)\n",
    "                    if isinstance(e, requests.exceptions.ConnectionError) and \"forcibly closed by the remote host\" in str(e):\n",
    "                        print(\"Waiting for 30 seconds before retrying...\")\n",
    "                        time.sleep(30)  # Wait for 30 seconds before retrying\n",
    "                        continue  # Retry with the next key\n",
    "                    else:\n",
    "                        break  # Exit loop for other types of errors\n",
    "\n",
    "        time.sleep(5 * 60)  # x minutes in seconds\n",
    "\n",
    "fetch_CTA_and_traffic()\n"
   ]
  },
  {
   "cell_type": "code",
   "execution_count": null,
   "metadata": {},
   "outputs": [],
   "source": []
  }
 ],
 "metadata": {
  "colab": {
   "provenance": []
  },
  "kernelspec": {
   "display_name": "Python 3",
   "language": "python",
   "name": "python3"
  },
  "language_info": {
   "codemirror_mode": {
    "name": "ipython",
    "version": 3
   },
   "file_extension": ".py",
   "mimetype": "text/x-python",
   "name": "python",
   "nbconvert_exporter": "python",
   "pygments_lexer": "ipython3",
   "version": "3.8.5"
  }
 },
 "nbformat": 4,
 "nbformat_minor": 1
}
