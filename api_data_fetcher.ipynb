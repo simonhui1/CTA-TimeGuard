{
 "cells": [
  {
   "cell_type": "markdown",
   "metadata": {
    "id": "jAVE5H3lGW09"
   },
   "source": [
    "# TRAIN API DATA FETCHER "
   ]
  },
  {
   "cell_type": "markdown",
   "metadata": {
    "id": "TlgkA_oVD7ja"
   },
   "source": [
    "#### DEPENDENCIES"
   ]
  },
  {
   "cell_type": "markdown",
   "metadata": {},
   "source": [
    "<div class=\"alert alert-block alert-info\">\n",
    "\n",
    "The Python libraries used in this notebook are:\n",
    "<ol>\n",
    "    \n",
    "<li><a href=\"https://json.org/json-en.html/\">JSON</a> to work with JSON data.\n",
    " \n",
    "</li><li><a href=\"https://requests.readthedocs.io/en/latest/\">Requests</a> to make API calls.\n",
    "    \n",
    "</li><li><a href=\"https://docs.python.org/3/library/csv.html/\">CSV</a> for reading and writing CSV files.\n",
    "    \n",
    "</li><li><a href=\"https://docs.python.org/3/library/random.html\">Random</a> for shuffling the train station list in the script.\n",
    "    \n",
    "</li><li><a href=\"https://docs.python.org/3/library/time.html\">Time</a> for time-related operations in the script.\n",
    "    \n",
    "</li><li><a href=\"https://docs.python.org/3/library/logging.html\">Logging</a> for tracking events and errors during script execution.\n",
    "    \n",
    "</li><li><a href=\"https://docs.python.org/3/library/xml.etree.elementtree.html\">xml.etree.ElementTree (ET)</a> to parse and work with XML data returned by the CTA API.\n",
    "\n",
    "</ol>\n",
    "</div>\n"
   ]
  },
  {
   "cell_type": "code",
   "execution_count": null,
   "metadata": {
    "id": "o0jKEoxICW5F"
   },
   "outputs": [],
   "source": [
    "import csv\n",
    "import requests\n",
    "import json\n",
    "import random\n",
    "import time\n",
    "import xml.etree.ElementTree as ET\n",
    "import logging"
   ]
  },
  {
   "cell_type": "markdown",
   "metadata": {
    "id": "WNAlHH4uGJf3"
   },
   "source": [
    "#### API KEYS"
   ]
  },
  {
   "cell_type": "markdown",
   "metadata": {
    "id": "s13Ovl3LFM1t"
   },
   "source": [
    "The config.json file defines a list named `TOMTOM_API_KEYS` containing multiple API keys. These keys are intended for use with the TomTom API, a location-based services platform. API keys are used to authenticate requests and access geospatial functionalities like mapping and routing. \n",
    "\n",
    "The config.json file also defines a variable named 'CTA_API_KEY' that is intended for accessing the Chicago Transit Authority's Train Tracker API."
   ]
  },
  {
   "cell_type": "markdown",
   "metadata": {
    "id": "lCOcvFv7GbbJ"
   },
   "source": [
    "#### TRAIN STATION IDs"
   ]
  },
  {
   "cell_type": "markdown",
   "metadata": {
    "id": "p3ALBmZXGzb2"
   },
   "source": [
    "The code below extracts map IDs from a CSV file named 'stops.txt' by iteratively appending valid map IDs (those within the range of 40000 to 49999, because these IDs represent every possible CTA train stop, per the CTA API documentation) to the `new_mapid_values` list. The extracted map IDs are then displayed as the output."
   ]
  },
  {
   "cell_type": "code",
   "execution_count": null,
   "metadata": {
    "colab": {
     "base_uri": "https://localhost:8080/"
    },
    "id": "sq0cqnFaD6JN",
    "outputId": "f5dbe8c6-d9f9-4259-9890-7255de2afa4c"
   },
   "outputs": [],
   "source": [
    "new_mapid_values = []\n",
    "with open('stops.txt', 'r', newline='', encoding='utf-8') as csv_file:\n",
    "    csv_reader = csv.DictReader(csv_file)\n",
    "    for row in csv_reader:\n",
    "        stop_id = row.get('stop_id', '')\n",
    "        if stop_id.isdigit() and 40000 <= int(stop_id) <= 49999:\n",
    "            new_mapid_values.append(stop_id)\n",
    "\n",
    "new_mapid_values"
   ]
  },
  {
   "cell_type": "markdown",
   "metadata": {
    "id": "0ayjZlvAOwlU"
   },
   "source": [
    "The following contains two functions: `fetch_traffic_speed` and `fetch_CTA_and_traffic`. These functions work together to fetch data from the TomTom API for traffic speed and the Chicago Transit Authority (CTA) API for CTA arrival data. The data is combined and periodically saved to a CSV file named 'combined_data.csv'. The `fetch_CTA_and_traffic` function repeats this process in a loop, with a 5-minute interval between each data update."
   ]
  },
  {
   "cell_type": "markdown",
   "metadata": {},
   "source": [
    "#### SCRIPT FOR FETCHING RELEVANT TRANSIT DATA"
   ]
  },
  {
   "cell_type": "code",
   "execution_count": null,
   "metadata": {},
   "outputs": [],
   "source": [
    "# Initialize logging\n",
    "logging.basicConfig(level=logging.INFO)\n",
    "\n",
    "# Constants\n",
    "TOMTOM_TRAFFIC_URL = 'https://api.tomtom.com/traffic/services/4/flowSegmentData/relative/10/json'\n",
    "CTA_URL = 'https://lapi.transitchicago.com/api/1.0/ttarrivals.aspx'\n",
    "CSV_HEADER = ['mapid', 'route', 'prd_time', 'arr_time', 'sch_bool', 'flt_bool', 'dly_bool', 'station_name',\n",
    "              'dest_name', 'latitude', 'longitude', 'free_flow_speed', 'current_speed']\n",
    "\n",
    "class TomTomAPIException(Exception):\n",
    "    \"\"\"Custom exception for TomTom API errors.\"\"\"\n",
    "    def __init__(self, message):\n",
    "        super().__init__(message)\n",
    "\n",
    "class TrafficDataCollector:\n",
    "    def __init__(self, tomtom_api_keys, cta_api_key):\n",
    "        self.tomtom_api_keys = tomtom_api_keys\n",
    "        self.cta_api_key = cta_api_key\n",
    "        self.mapid_list = []\n",
    "\n",
    "    def load_mapid_values(self):\n",
    "        with open('stops.txt', 'r', newline='', encoding='utf-8') as csv_file:\n",
    "            csv_reader = csv.DictReader(csv_file)\n",
    "            for row in csv_reader:\n",
    "                stop_id = row.get('stop_id', '')\n",
    "                if stop_id.isdigit() and 40000 <= int(stop_id) <= 49999:\n",
    "                    self.mapid_list.append(stop_id)\n",
    "\n",
    "    def fetch_traffic_speed(self, latitude, longitude, retry_keys=None):\n",
    "        api_keys = retry_keys or self.tomtom_api_keys\n",
    "        remaining_keys = list(api_keys)\n",
    "\n",
    "        while remaining_keys:\n",
    "            current_api_key = remaining_keys.pop(0)\n",
    "            traffic_params = {\n",
    "                'point': f'{latitude},{longitude}',\n",
    "                'unit': 'mph',\n",
    "                'key': current_api_key\n",
    "            }\n",
    "\n",
    "            try:\n",
    "                traffic_response = requests.get(TOMTOM_TRAFFIC_URL, params=traffic_params)\n",
    "                traffic_response.raise_for_status()  # Raise an exception for HTTP errors\n",
    "\n",
    "                traffic_data = traffic_response.json()\n",
    "                flow_segment_data = traffic_data.get(\"flowSegmentData\", {})\n",
    "                free_flow_speed_mph = flow_segment_data.get(\"freeFlowSpeed\")\n",
    "                current_speed_mph = flow_segment_data.get(\"currentSpeed\")\n",
    "                if free_flow_speed_mph and current_speed_mph:\n",
    "                    return free_flow_speed_mph, current_speed_mph\n",
    "            except (requests.exceptions.RequestException, json.JSONDecodeError) as e:\n",
    "                logging.error(\"Error with the TomTom API: %s\", e)\n",
    "\n",
    "                if remaining_keys:\n",
    "                    logging.info(\"Retrying with the next key...\")\n",
    "                    time.sleep(2)  # Wait for 2 seconds before retrying with the next key\n",
    "                    continue\n",
    "\n",
    "        logging.error(\"Exhausted all available API keys.\")\n",
    "        return None, None\n",
    "\n",
    "    def fetch_CTA_and_traffic(self):\n",
    "        while True:\n",
    "            with open('combined_data.csv', 'a', newline='', encoding='utf-8') as csv_file:\n",
    "                csv_writer = csv.writer(csv_file)\n",
    "                \n",
    "                # Write header once\n",
    "                if csv_file.tell() == 0:\n",
    "                    csv_writer.writerow(CSV_HEADER)\n",
    "\n",
    "                # Shuffle the mapid_list\n",
    "                random.shuffle(self.mapid_list)\n",
    "\n",
    "                for mapid in self.mapid_list:\n",
    "                    cta_params = {\n",
    "                        'mapid': mapid,\n",
    "                        'max': '7',\n",
    "                        'key': self.cta_api_key\n",
    "                    }\n",
    "\n",
    "                    try:\n",
    "                        cta_response = requests.get(CTA_URL, params=cta_params)\n",
    "                        cta_response.raise_for_status()  # Raise an exception for HTTP errors\n",
    "\n",
    "                        root = ET.fromstring(cta_response.text)\n",
    "                        eta_elements = root.findall(\".//eta\")\n",
    "\n",
    "                        for eta in eta_elements:\n",
    "                            self.process_cta_eta(mapid, eta, csv_writer)\n",
    "\n",
    "                    except requests.exceptions.RequestException as e:\n",
    "                        logging.error(\"Error with the CTA API: %s\", e)\n",
    "                        time.sleep(30)  # Wait for 30 seconds before retrying\n",
    "\n",
    "            time.sleep(5 * 60)  # 5 minutes in seconds\n",
    "\n",
    "    def process_cta_eta(self, mapid, eta, csv_writer):\n",
    "        # Extract values from the eta element\n",
    "        route = eta.find(\"rt\").text\n",
    "        prd_time = eta.find(\"prdt\").text\n",
    "        arr_time = eta.find(\"arrT\").text\n",
    "        sch_bool = eta.find(\"isSch\").text\n",
    "        flt_bool = eta.find(\"isFlt\").text\n",
    "        dly_bool = eta.find(\"isDly\").text\n",
    "        station_name = eta.find(\"staNm\").text\n",
    "        dest_name = eta.find(\"destNm\").text\n",
    "\n",
    "        latitude_element = eta.find(\"lat\")\n",
    "        longitude_element = eta.find(\"lon\")\n",
    "\n",
    "        if latitude_element is not None and longitude_element is not None:\n",
    "            latitude = latitude_element.text\n",
    "            longitude = longitude_element.text\n",
    "\n",
    "            if latitude and longitude:\n",
    "                free_flow_speed, current_speed = self.fetch_traffic_speed(float(latitude), float(longitude))\n",
    "\n",
    "                if free_flow_speed is not None:\n",
    "                    csv_writer.writerow(\n",
    "                        [mapid, route, prd_time, arr_time, sch_bool, flt_bool, dly_bool, station_name,\n",
    "                         dest_name, latitude, longitude, free_flow_speed, current_speed])\n",
    "\n",
    "def main():\n",
    "    try:\n",
    "        with open('config.json') as config_file:\n",
    "            config_data = json.load(config_file)\n",
    "\n",
    "        tomtom_api_keys = config_data[\"TOMTOM_API_KEYS\"]\n",
    "        cta_api_key = config_data[\"CTA_API_KEY\"]\n",
    "\n",
    "        collector = TrafficDataCollector(tomtom_api_keys, cta_api_key)\n",
    "        collector.load_mapid_values()\n",
    "        collector.fetch_CTA_and_traffic()\n",
    "    except (FileNotFoundError, KeyError) as e:\n",
    "        logging.error(\"Error loading configuration: %s\", e)\n",
    "\n",
    "if __name__ == \"__main__\":\n",
    "    main()\n"
   ]
  },
  {
   "cell_type": "code",
   "execution_count": null,
   "metadata": {},
   "outputs": [],
   "source": []
  }
 ],
 "metadata": {
  "colab": {
   "provenance": []
  },
  "kernelspec": {
   "display_name": "Python 3",
   "language": "python",
   "name": "python3"
  },
  "language_info": {
   "codemirror_mode": {
    "name": "ipython",
    "version": 3
   },
   "file_extension": ".py",
   "mimetype": "text/x-python",
   "name": "python",
   "nbconvert_exporter": "python",
   "pygments_lexer": "ipython3",
   "version": "3.8.5"
  }
 },
 "nbformat": 4,
 "nbformat_minor": 1
}
